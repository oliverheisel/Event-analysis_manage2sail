{
 "cells": [
  {
   "cell_type": "code",
   "execution_count": 1,
   "id": "initial_id",
   "metadata": {
    "collapsed": true,
    "ExecuteTime": {
     "end_time": "2024-05-14T08:42:51.600302Z",
     "start_time": "2024-05-14T08:42:51.552275Z"
    }
   },
   "outputs": [],
   "source": [
    "import pymongo"
   ]
  },
  {
   "cell_type": "code",
   "outputs": [
    {
     "name": "stdout",
     "output_type": "stream",
     "text": [
      "Database exists!\n"
     ]
    }
   ],
   "source": [
    "# Database connection\n",
    "\"\"\" in case you want to create your on database, just change this 3 variables according to your database. \n",
    "Database and collections will be created automatically.\"\"\"\n",
    "username = \"globaladmin\"\n",
    "password = \"UEKaeSc8Q3LK5naw\"\n",
    "db_url = \"cluster1.etdy2wm.mongodb.net\"\n",
    "\n",
    "# database string\n",
    "CNX_STR = f\"mongodb+srv://{username}:{password}@{db_url}/?connectTimeoutMS=50000\"\n",
    "client = pymongo.MongoClient(CNX_STR)\n",
    "\n",
    "# heck if the database exists\n",
    "if \"manage2sail\" in client.list_database_names():\n",
    "    print(\"Database exists!\")\n",
    "    db = client.manage2sail\n",
    "else:\n",
    "    print(\"No DB found\")"
   ],
   "metadata": {
    "collapsed": false,
    "ExecuteTime": {
     "end_time": "2024-05-14T08:42:52.621866Z",
     "start_time": "2024-05-14T08:42:52.101232Z"
    }
   },
   "id": "e78b7eb842ed043a",
   "execution_count": 2
  },
  {
   "cell_type": "code",
   "outputs": [
    {
     "name": "stdout",
     "output_type": "stream",
     "text": [
      "Database 'manage2sail' exists!\n",
      "Collection 'events' has 504 documents.\n"
     ]
    }
   ],
   "source": [
    "def check_document_count(db_name):\n",
    "    if db_name in client.list_database_names():\n",
    "        print(f\"Database '{db_name}' exists!\")\n",
    "        db = client[db_name]\n",
    "        collections = db.list_collection_names()\n",
    "        \n",
    "        for collection_name in collections:\n",
    "            collection = db[collection_name]\n",
    "            count = collection.count_documents({})\n",
    "            print(f\"Collection '{collection_name}' has {count} documents.\")\n",
    "    else:\n",
    "        print(f\"No database found with the name '{db_name}'.\")\n",
    "\n",
    "# Check document count for 'manage2sail' database\n",
    "check_document_count(\"manage2sail\")"
   ],
   "metadata": {
    "collapsed": false,
    "ExecuteTime": {
     "end_time": "2024-05-14T08:42:58.591735Z",
     "start_time": "2024-05-14T08:42:58.478128Z"
    }
   },
   "id": "e6ad06d947aa4b9b",
   "execution_count": 3
  },
  {
   "cell_type": "code",
   "outputs": [],
   "source": [],
   "metadata": {
    "collapsed": false
   },
   "id": "c19a08ac0602b31e"
  }
 ],
 "metadata": {
  "kernelspec": {
   "display_name": "Python 3",
   "language": "python",
   "name": "python3"
  },
  "language_info": {
   "codemirror_mode": {
    "name": "ipython",
    "version": 2
   },
   "file_extension": ".py",
   "mimetype": "text/x-python",
   "name": "python",
   "nbconvert_exporter": "python",
   "pygments_lexer": "ipython2",
   "version": "2.7.6"
  }
 },
 "nbformat": 4,
 "nbformat_minor": 5
}
