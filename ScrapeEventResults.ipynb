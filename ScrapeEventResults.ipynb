{
 "cells": [
  {
   "cell_type": "code",
   "execution_count": 11,
   "id": "initial_id",
   "metadata": {
    "collapsed": true,
    "ExecuteTime": {
     "end_time": "2024-05-04T11:18:08.714294Z",
     "start_time": "2024-05-04T11:18:08.711053Z"
    }
   },
   "outputs": [],
   "source": [
    "# Libaries\n",
    "from selenium import webdriver\n",
    "from selenium.common import NoSuchElementException\n",
    "from selenium.webdriver.chrome.service import Service\n",
    "from selenium.webdriver.common.by import By\n",
    "from selenium.webdriver.chrome.options import Options\n",
    "from selenium.webdriver.support.ui import Select, WebDriverWait\n",
    "from selenium.webdriver.support import expected_conditions as EC\n",
    "import time\n",
    "import json  # Import the JSON module\n",
    "import pymongo"
   ]
  },
  {
   "cell_type": "code",
   "outputs": [
    {
     "name": "stdout",
     "output_type": "stream",
     "text": [
      "Database exists!\n"
     ]
    }
   ],
   "source": [
    "# Database connection\n",
    "\"\"\" in case you want to create your on database, just change this 3 variables according to your database. \n",
    "Database and collections will be created automatically.\"\"\"\n",
    "username = \"globaladmin\"\n",
    "password = \"UEKaeSc8Q3LK5naw\"\n",
    "db_url = \"cluster1.etdy2wm.mongodb.net\"\n",
    "\n",
    "# database string\n",
    "CNX_STR = f\"mongodb+srv://{username}:{password}@{db_url}/?connectTimeoutMS=50000\"\n",
    "client = pymongo.MongoClient(CNX_STR)\n",
    "\n",
    "# heck if the database exists\n",
    "if \"manage2sail\" in client.list_database_names():\n",
    "    print(\"Database exists!\")\n",
    "    db = client.manage2sail\n",
    "else:\n",
    "    print(\"Database does not exist!\")"
   ],
   "metadata": {
    "collapsed": false,
    "ExecuteTime": {
     "end_time": "2024-05-04T11:18:09.821665Z",
     "start_time": "2024-05-04T11:18:09.305829Z"
    }
   },
   "id": "46ba8c1bd5ee5711",
   "execution_count": 12
  },
  {
   "cell_type": "code",
   "outputs": [],
   "source": [
    "def scrape_eventdetails(driver):\n",
    "    event_details_dict = {}\n",
    "    selector = '#details > table'\n",
    "    WebDriverWait(driver, 10).until(EC.visibility_of_element_located((By.CSS_SELECTOR, selector)))\n",
    "    table = driver.find_element(By.CSS_SELECTOR, selector)\n",
    "    for row in table.find_elements(By.TAG_NAME, 'tr'):\n",
    "        columns = row.find_elements(By.TAG_NAME, 'td')\n",
    "        if len(columns) >= 2:\n",
    "            key = columns[0].text.strip()  # Clean key from any whitespace\n",
    "            value = columns[1].text.strip()  # Clean value from any whitespace\n",
    "            event_details_dict[key] = value  # Store in dictionary using key-value pairing\n",
    "    return event_details_dict"
   ],
   "metadata": {
    "collapsed": false,
    "ExecuteTime": {
     "end_time": "2024-05-04T11:25:21.945776Z",
     "start_time": "2024-05-04T11:25:21.943210Z"
    }
   },
   "id": "a6865dfda7a97d10",
   "execution_count": 19
  },
  {
   "cell_type": "code",
   "outputs": [],
   "source": [
    "# function to scrape the event results\n",
    "def scrape_eventresults(base_url):\n",
    "    results = []  # Initialize a list to store the results\n",
    "    try:\n",
    "        results_url = base_url + '/results'\n",
    "        driver.get(results_url)\n",
    "    except:\n",
    "        print(\"no resultspage found\")\n",
    "# Wait for the dropdown to be clickable and select it\n",
    "    try:\n",
    "        dropdown = wait.until(EC.element_to_be_clickable((By.CSS_SELECTOR, '#results > div > div > select')))\n",
    "        select = Select(dropdown)\n",
    "\n",
    "        # Iterate through all options in the dropdown\n",
    "        for index in range(len(select.options)):\n",
    "            # Refresh the dropdown and select object each iteration\n",
    "            dropdown = wait.until(EC.element_to_be_clickable((By.CSS_SELECTOR, '#results > div > div > select')))\n",
    "            select = Select(dropdown)\n",
    "            select.select_by_index(index)\n",
    "            time.sleep(5)  # Adjust the sleep time if necessary\n",
    "\n",
    "            # Find and process the table data\n",
    "            selector = '#results > div > div > div:nth-child(3) > div:nth-child(5) > div:nth-child(2) > div:nth-child(3) > table:nth-child(4)'\n",
    "            wait.until(EC.visibility_of_element_located((By.CSS_SELECTOR, selector)))\n",
    "            table = driver.find_element(By.CSS_SELECTOR, selector)\n",
    "            for row in table.find_elements(By.TAG_NAME, 'tr'):\n",
    "                columns = row.find_elements(By.TAG_NAME, 'td')\n",
    "                row_data = {col.text for i, col in enumerate(columns)}\n",
    "                results.append(row_data)  # Append each row to results list\n",
    "\n",
    "    except:\n",
    "        selector = '#results > div > div > div:nth-child(3) > div:nth-child(5) > div:nth-child(2) > div:nth-child(3) > table:nth-child(4)'\n",
    "        wait.until(EC.visibility_of_element_located((By.CSS_SELECTOR, selector)))\n",
    "        table = driver.find_element(By.CSS_SELECTOR, selector)\n",
    "        for row in table.find_elements(By.TAG_NAME, 'tr'):\n",
    "            columns = row.find_elements(By.TAG_NAME, 'td')\n",
    "            row_data = {f\"column_{i}\": col.text for i, col in enumerate(columns)}\n",
    "            results.append(row_data)  # Append each row to results list\n",
    "\n",
    "    return results"
   ],
   "metadata": {
    "collapsed": false,
    "ExecuteTime": {
     "end_time": "2024-05-04T11:18:11.350577Z",
     "start_time": "2024-05-04T11:18:11.345752Z"
    }
   },
   "id": "4c3c0f41b456d7a5",
   "execution_count": 14
  },
  {
   "cell_type": "code",
   "outputs": [
    {
     "name": "stdout",
     "output_type": "stream",
     "text": [
      "{'Anmeldung :': '22.03.2023 - 22.04.2023', 'Veranstaltung :': '22.04.2023 - 23.04.2023 Add to calendar', 'Internet :': 'www.scap.ch', 'eMail :': 'kontakt@scap.ch', 'Verein :': 'Segelclub am Pfäffikersee', 'Ort :': 'Slipanlage Auslikon', 'Adresse :': 'Pfäffikersee', 'Stadt :': '', 'Postleitzahl :': '', 'Land :': 'Switzerland', 'Id :': '93664154-3029-4003-ba86-8f26379cd1ef'}\n",
      "{'Anmeldung :': '01.01.2023 - 28.04.2023', 'Veranstaltung :': '29.04.2023 - 30.04.2023 Add to calendar', 'Internet :': 'regatta@scoz.ch', 'eMail :': 'regatta@scoz.ch', 'Telefon :': '+41 799361955', 'Verein :': 'Segelclub Oberer Zürichsee', 'Ort :': 'Hafen Kiebitz', 'Adresse :': 'Bruggholzstrasse 8a', 'Stadt :': 'Nuolen', 'Postleitzahl :': '8855', 'Land :': 'Switzerland', 'Id :': '9a6eaa67-cb75-4ef2-97d9-41826f26c28c'}\n",
      "{'Anmeldung :': '01.01.2023 - 29.04.2023', 'Veranstaltung :': '29.04.2023 - 30.04.2023 Add to calendar', 'Internet :': 'www.z-s-c.ch', 'eMail :': 'regatta@z-s-c.ch', 'Telefon :': '+41 79 248 40 79', 'Verein :': 'Zürcher Segel Club', 'Ort :': 'Zürichhorn', 'Adresse :': 'Bellerivestrasse 146', 'Stadt :': 'Zürich', 'Postleitzahl :': '8008', 'Land :': 'Switzerland', 'Id :': '2146701a-f755-479e-8be7-a5671a214fa9'}\n"
     ]
    }
   ],
   "source": [
    "if __name__ == \"__main__\":\n",
    "    # Setup WebDriver\n",
    "    options = Options()\n",
    "    service = Service('/usr/local/bin/chromedriver')\n",
    "    driver = webdriver.Chrome(service=service, options=options)\n",
    "    \n",
    "    collection = db.events\n",
    "    try:\n",
    "        for document in collection.find().limit(3):\n",
    "            url = document['link']\n",
    "            driver.get(url)\n",
    "            event_details = scrape_eventdetails(driver)\n",
    "            print(event_details)\n",
    "            update_result = collection.update_one(\n",
    "                {'_id': document['_id']},\n",
    "                {'$set': {'eventdetails': event_details}}  # event_details is now a dict\n",
    "            )\n",
    "    except Exception as e:\n",
    "        print(f\"An error occurred: {e}\")\n",
    "    finally:\n",
    "        driver.quit()\n",
    "\n",
    "\n",
    "\n"
   ],
   "metadata": {
    "collapsed": false,
    "ExecuteTime": {
     "end_time": "2024-05-04T11:26:44.387905Z",
     "start_time": "2024-05-04T11:26:40.543516Z"
    }
   },
   "id": "a73de2cee97e3f9b",
   "execution_count": 23
  },
  {
   "cell_type": "code",
   "outputs": [],
   "source": [],
   "metadata": {
    "collapsed": false
   },
   "id": "f2f4a576a3ba9f92"
  }
 ],
 "metadata": {
  "kernelspec": {
   "display_name": "Python 3",
   "language": "python",
   "name": "python3"
  },
  "language_info": {
   "codemirror_mode": {
    "name": "ipython",
    "version": 2
   },
   "file_extension": ".py",
   "mimetype": "text/x-python",
   "name": "python",
   "nbconvert_exporter": "python",
   "pygments_lexer": "ipython2",
   "version": "2.7.6"
  }
 },
 "nbformat": 4,
 "nbformat_minor": 5
}
