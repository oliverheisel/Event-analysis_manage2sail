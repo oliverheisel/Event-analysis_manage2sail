{
 "cells": [
  {
   "cell_type": "code",
   "execution_count": 11,
   "id": "53e83c41d637a81b",
   "metadata": {
    "collapsed": false,
    "ExecuteTime": {
     "end_time": "2024-06-24T21:30:12.961797Z",
     "start_time": "2024-06-24T21:30:12.956225Z"
    }
   },
   "outputs": [],
   "source": [
    "import pymongo\n",
    "import json\n"
   ]
  },
  {
   "cell_type": "code",
   "outputs": [
    {
     "name": "stdout",
     "output_type": "stream",
     "text": [
      "Database exists!\n"
     ]
    }
   ],
   "source": [
    "# Load database credentials from json file\n",
    "with open('dbconfig.json') as config_file:\n",
    "    config = json.load(config_file)\n",
    "\n",
    "username = config['username']\n",
    "password = config['password']\n",
    "db_url = config['db_url']\n",
    "\n",
    "# Database connection string\n",
    "CNX_STR = f\"mongodb+srv://{username}:{password}@{db_url}/?connectTimeoutMS=50000\"\n",
    "client = pymongo.MongoClient(CNX_STR)\n",
    "\n",
    "# Check if the database exists and get the database\n",
    "if \"manage2sail\" in client.list_database_names():\n",
    "    print(\"Database exists!\")\n",
    "    db = client.manage2sail\n",
    "else:\n",
    "    print(\"Database does not exist!\")\n",
    "    db = None\n"
   ],
   "metadata": {
    "collapsed": false,
    "ExecuteTime": {
     "end_time": "2024-06-24T21:30:13.359788Z",
     "start_time": "2024-06-24T21:30:12.965334Z"
    }
   },
   "id": "5af36c619f9e118e",
   "execution_count": 12
  },
  {
   "cell_type": "code",
   "outputs": [],
   "source": [
    "def get_all_emails():\n",
    "    \"\"\"Function to retrieve all email addresses from the 'eventdetails' field in the 'events' collection.\"\"\"\n",
    "    if db is not None:\n",
    "        events_collection = db.events  # Assume the collection name is 'events'\n",
    "        emails = events_collection.find({}, {\"_id\": 0, \"eventdetails.Email\": 1})  # Retrieve only the 'Email' field\n",
    "        email_list = [event['eventdetails']['Email'] for event in emails if 'eventdetails' in event and 'Email' in event['eventdetails']]\n",
    "        return email_list\n",
    "    else:\n",
    "        print(\"Database connection is not established.\")\n",
    "        return []"
   ],
   "metadata": {
    "collapsed": false,
    "ExecuteTime": {
     "end_time": "2024-06-24T21:30:13.363629Z",
     "start_time": "2024-06-24T21:30:13.359301Z"
    }
   },
   "id": "40d35e59da18d677",
   "execution_count": 13
  },
  {
   "cell_type": "code",
   "outputs": [
    {
     "name": "stdout",
     "output_type": "stream",
     "text": [
      "['info@challengelemanique.ch', 'regates@cvl.ch', 'sport@thunersee-yachtclub.ch', 'markus.k.blaesi@swisssailingleague.ch', 'regates@cvvidy.ch', 'kontakt@scap.ch', 'regatta@scoz.ch', 'regatta@z-s-c.ch', 'regatta@scstaefa.ch', 'regatta@svkilchberg.ch', 'regatten@zyc.ch', 'regattapraesident@segelclubenge.ch', 'regatten@zyc.ch', 'regatta-office@svt.ch', 'regatten@zyc.ch', 'regatta@scoz.ch', 'w_oberholzer@bluewin.ch', 'regattapraesident@scpf.ch', 'regatta@z-s-c.ch', 'regatten@ycr.ch', 'thomas_moser@bluewin.ch', 'regatta-office@svt.ch', 'regatten@ycr.ch', 'regatta@scstaefa.ch', 'regatten@scvg.ch', 'regatta@scstaefa.ch', 'regatta@segelclub-sihlsee.ch', 'info@segelcub-faellanden.ch', 'regatten@zyc.ch', 'sportchef@segelclubenge.ch', 'regatta-office@svt.ch', 'regatten@ycr.ch', 'oliver.roth@scsgsegelclub.onmicrosoft.com', 'regatta@segelclub-sihlsee.ch', 'regattapraesident@segelclubenge.ch', 'regatta-office@svt.ch', 'regatta@scoz.ch', 'regatta@scoz.ch', 'regatten@syh.ch', 'regatta@segelclub-sihlsee.ch', 'regatten@zyc.ch', 'regatta@segelclub-sihlsee.ch', 'regatten@zyc.ch', 'regatta@scoz.ch', 'regattapraesident@segelclubenge.ch', 'oliver.roth@scsgsegelclub.onmicrosoft.com', 'regatten@zyc.ch', 'markus.k.blaesi@swisssailingleague.ch', 'regatta@scstaefa.ch', 'regattapraesident@segelclubenge.ch', 'info@segelcub-faellanden.ch', 'regatta-office@svt.ch', 'richard.tenger@bluewin.ch', 'regatten@scvg.ch', 'regatten@zyc.ch', 'regatten@zyc.ch', 'w_oberholzer@bluewin.ch', 'regatten@zyc.ch', 'regatta@z-s-c.ch', 'regatten@zyc.ch', 'clubregatten@ycr.ch', 'regatta@scstaefa.ch', 'regattapraesident@segelclubenge.ch', 'regatta-office@svt.ch', 'regatten@zyc.ch', 'regatta-office@svt.ch']\n"
     ]
    }
   ],
   "source": [
    "if __name__ == \"__main__\":\n",
    "    # Example usage:\n",
    "    emails = get_all_emails()\n",
    "    print(emails)"
   ],
   "metadata": {
    "collapsed": true,
    "ExecuteTime": {
     "end_time": "2024-06-24T21:30:13.387881Z",
     "start_time": "2024-06-24T21:30:13.362586Z"
    }
   },
   "id": "initial_id",
   "execution_count": 14
  }
 ],
 "metadata": {
  "kernelspec": {
   "display_name": "Python 3",
   "language": "python",
   "name": "python3"
  },
  "language_info": {
   "codemirror_mode": {
    "name": "ipython",
    "version": 2
   },
   "file_extension": ".py",
   "mimetype": "text/x-python",
   "name": "python",
   "nbconvert_exporter": "python",
   "pygments_lexer": "ipython2",
   "version": "2.7.6"
  }
 },
 "nbformat": 4,
 "nbformat_minor": 5
}
