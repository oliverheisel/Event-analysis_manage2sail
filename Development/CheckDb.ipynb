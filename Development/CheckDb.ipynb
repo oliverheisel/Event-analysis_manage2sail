{
 "cells": [
  {
   "cell_type": "code",
   "execution_count": 1,
   "id": "initial_id",
   "metadata": {
    "collapsed": true,
    "ExecuteTime": {
     "end_time": "2024-06-24T21:22:23.016003Z",
     "start_time": "2024-06-24T21:22:22.945215Z"
    }
   },
   "outputs": [],
   "source": [
    "import pymongo\n",
    "import json"
   ]
  },
  {
   "cell_type": "code",
   "outputs": [
    {
     "name": "stdout",
     "output_type": "stream",
     "text": [
      "Database exists!\n"
     ]
    }
   ],
   "source": [
    "# Load database credentials from json file\n",
    "with open('dbconfig.json') as config_file:\n",
    "    config = json.load(config_file)\n",
    "\n",
    "username = config['username']\n",
    "password = config['password']\n",
    "db_url = config['db_url']\n",
    "\n",
    "# database string\n",
    "CNX_STR = f\"mongodb+srv://{username}:{password}@{db_url}/?connectTimeoutMS=50000\"\n",
    "client = pymongo.MongoClient(CNX_STR)\n",
    "\n",
    "# Check if the database exists\n",
    "if \"manage2sail\" in client.list_database_names():\n",
    "    print(\"Database exists!\")\n",
    "    db = client.manage2sail\n",
    "else:\n",
    "    print(\"Database does not exist!\")"
   ],
   "metadata": {
    "collapsed": false,
    "ExecuteTime": {
     "end_time": "2024-06-24T21:22:23.750342Z",
     "start_time": "2024-06-24T21:22:23.276714Z"
    }
   },
   "id": "e78b7eb842ed043a",
   "execution_count": 2
  },
  {
   "cell_type": "code",
   "outputs": [
    {
     "name": "stdout",
     "output_type": "stream",
     "text": [
      "Database 'manage2sail' exists!\n",
      "Collection 'events' has 5 documents.\n"
     ]
    }
   ],
   "source": [
    "def check_document_count(db_name):\n",
    "    if db_name in client.list_database_names():\n",
    "        print(f\"Database '{db_name}' exists!\")\n",
    "        db = client[db_name]\n",
    "        collections = db.list_collection_names()\n",
    "        \n",
    "        for collection_name in collections:\n",
    "            collection = db[collection_name]\n",
    "            count = collection.count_documents({})\n",
    "            print(f\"Collection '{collection_name}' has {count} documents.\")\n",
    "    else:\n",
    "        print(f\"No database found with the name '{db_name}'.\")\n",
    "\n",
    "# Check document count for 'manage2sail' database\n",
    "check_document_count(\"manage2sail\")"
   ],
   "metadata": {
    "collapsed": false,
    "ExecuteTime": {
     "end_time": "2024-06-24T21:22:24.248115Z",
     "start_time": "2024-06-24T21:22:24.165305Z"
    }
   },
   "id": "e6ad06d947aa4b9b",
   "execution_count": 3
  },
  {
   "cell_type": "code",
   "outputs": [],
   "source": [],
   "metadata": {
    "collapsed": false
   },
   "id": "c19a08ac0602b31e"
  }
 ],
 "metadata": {
  "kernelspec": {
   "display_name": "Python 3",
   "language": "python",
   "name": "python3"
  },
  "language_info": {
   "codemirror_mode": {
    "name": "ipython",
    "version": 2
   },
   "file_extension": ".py",
   "mimetype": "text/x-python",
   "name": "python",
   "nbconvert_exporter": "python",
   "pygments_lexer": "ipython2",
   "version": "2.7.6"
  }
 },
 "nbformat": 4,
 "nbformat_minor": 5
}
