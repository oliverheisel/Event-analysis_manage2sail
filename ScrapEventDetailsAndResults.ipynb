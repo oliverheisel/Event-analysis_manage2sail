{
 "cells": [
  {
   "cell_type": "code",
   "outputs": [],
   "source": [
    "from selenium import webdriver\n",
    "from selenium.webdriver.chrome.service import Service\n",
    "from selenium.common.exceptions import NoSuchElementException\n",
    "from selenium.webdriver.common.by import By\n",
    "from selenium.webdriver.chrome.options import Options\n",
    "from selenium.webdriver.support.ui import Select, WebDriverWait\n",
    "from selenium.webdriver.support import expected_conditions as EC\n",
    "import pymongo\n",
    "from selenium.webdriver.support.ui import WebDriverWait, Select\n",
    "from concurrent.futures import ThreadPoolExecutor, as_completed\n",
    "import json\n",
    "import time"
   ],
   "metadata": {
    "collapsed": false,
    "ExecuteTime": {
     "end_time": "2024-06-25T13:26:01.338402Z",
     "start_time": "2024-06-25T13:26:01.159894Z"
    }
   },
   "id": "7afb7a16426550c1",
   "execution_count": 1
  },
  {
   "cell_type": "code",
   "outputs": [
    {
     "name": "stdout",
     "output_type": "stream",
     "text": [
      "Database exists!\n"
     ]
    }
   ],
   "source": [
    "# Load database credentials from json file\n",
    "with open('dbconfig.json') as config_file:\n",
    "    config = json.load(config_file)\n",
    "\n",
    "username = config['username']\n",
    "password = config['password']\n",
    "db_url = config['db_url']\n",
    "\n",
    "# database string\n",
    "CNX_STR = f\"mongodb+srv://{username}:{password}@{db_url}/?connectTimeoutMS=50000\"\n",
    "client = pymongo.MongoClient(CNX_STR)\n",
    "\n",
    "# Check if the database exists\n",
    "if \"manage2sail\" in client.list_database_names():\n",
    "    print(\"Database exists!\")\n",
    "    db = client.manage2sail\n",
    "else:\n",
    "    print(\"Database does not exist!\")"
   ],
   "metadata": {
    "collapsed": false,
    "ExecuteTime": {
     "end_time": "2024-06-25T13:26:01.871348Z",
     "start_time": "2024-06-25T13:26:01.328158Z"
    }
   },
   "id": "9eb2d3bad37f6f6d",
   "execution_count": 2
  },
  {
   "cell_type": "code",
   "outputs": [],
   "source": [
    "def scrape_eventdetails(wait, driver):\n",
    "    eventdetails = {}\n",
    "    selector = '#details > table'\n",
    "    wait.until(EC.visibility_of_element_located((By.CSS_SELECTOR, selector)))\n",
    "    table = driver.find_element(By.CSS_SELECTOR, selector)\n",
    "    for row in table.find_elements(By.TAG_NAME, 'tr'):\n",
    "        columns = row.find_elements(By.TAG_NAME, 'td')\n",
    "        if len(columns) >= 2:  # Ensure there are at least two columns\n",
    "            key = ' '.join(columns[0].text.strip(': ').split())  # Clean key\n",
    "            value = ' '.join(columns[1].text.split())  # Clean value\n",
    "            value = value.replace('Add to calendar', '').strip()  # Remove \"Add to calendar\"\n",
    "            eventdetails[key] = value  # Append each key-value pair directly to eventdetails\n",
    "\n",
    "    return eventdetails\n"
   ],
   "metadata": {
    "collapsed": false,
    "ExecuteTime": {
     "end_time": "2024-06-25T13:26:01.877779Z",
     "start_time": "2024-06-25T13:26:01.873319Z"
    }
   },
   "id": "deb164cf3b99cfc3",
   "execution_count": 3
  },
  {
   "cell_type": "code",
   "outputs": [],
   "source": [
    "def scrape_resultdetails(wait, driver):\n",
    "    try:\n",
    "        result_details = {}\n",
    "        \n",
    "        # Selector for main result details text\n",
    "        details_selector = '#results > div > div > div:nth-child(3) > div:nth-child(5) > div:nth-child(2) > div:nth-child(3) > div.resultInfo > div.pull-left.scoring-info'\n",
    "        wait.until(EC.visibility_of_element_located((By.CSS_SELECTOR, details_selector)))\n",
    "        result_info_element = driver.find_element(By.CSS_SELECTOR, details_selector)\n",
    "        \n",
    "        # Extract text and split by new lines\n",
    "        lines = result_info_element.text.split('\\n')\n",
    "        for line in lines:\n",
    "            if ':' in line:\n",
    "                key, value = line.split(':', 1)\n",
    "                result_details[' '.join(key.strip().split())] = ' '.join(value.strip().split())  # Clean key and value\n",
    "\n",
    "        return result_details\n",
    "    except Exception as e:\n",
    "        return \"No result details\"\n",
    "\n"
   ],
   "metadata": {
    "collapsed": false,
    "ExecuteTime": {
     "end_time": "2024-06-25T13:26:01.884196Z",
     "start_time": "2024-06-25T13:26:01.878667Z"
    }
   },
   "id": "cc41931383c0f829",
   "execution_count": 4
  },
  {
   "cell_type": "code",
   "outputs": [],
   "source": [
    "def scrape_publishdetails(wait, driver):\n",
    "    try:\n",
    "        publish_details = {}\n",
    "\n",
    "        # Selector for publishing details text\n",
    "        publishing_selector = '#results > div > div > div:nth-child(3) > div:nth-child(5) > div:nth-child(2) > div:nth-child(3) > div.resultInfo > div.pull-right.publishing-info'\n",
    "        wait.until(EC.visibility_of_element_located((By.CSS_SELECTOR, publishing_selector)))\n",
    "        publishing_info_element = driver.find_element(By.CSS_SELECTOR, publishing_selector)\n",
    "        \n",
    "        # Extract text and split by new lines\n",
    "        lines = publishing_info_element.text.split('\\n')\n",
    "        for line in lines:\n",
    "            if ':' in line:\n",
    "                key, value = line.split(':', 1)\n",
    "                publish_details[' '.join(key.strip().split())] = ' '.join(value.strip().split())  # Clean key and value\n",
    "            else:\n",
    "                publish_details['Type'] = ' '.join(line.strip().split())  # Clean type\n",
    "\n",
    "        return publish_details\n",
    "    except Exception as e:\n",
    "        return \"No publish details found\"\n",
    "\n"
   ],
   "metadata": {
    "collapsed": false,
    "ExecuteTime": {
     "end_time": "2024-06-25T13:26:01.885702Z",
     "start_time": "2024-06-25T13:26:01.883054Z"
    }
   },
   "id": "d25efb5419da98e",
   "execution_count": 5
  },
  {
   "cell_type": "code",
   "outputs": [],
   "source": [
    "def get_table_headers(driver, wait, header_selector):\n",
    "    try:\n",
    "        headers = wait.until(EC.visibility_of_element_located((By.CSS_SELECTOR, header_selector)))\n",
    "        header_texts = [th.text for th in headers.find_elements(By.TAG_NAME, 'th') if\n",
    "                        'ng-hide' not in th.get_attribute('class')]\n",
    "        return header_texts\n",
    "    except Exception as e:\n",
    "        #print(f\"An error occurred while fetching headers: {e}\")\n",
    "        return []\n",
    "\n"
   ],
   "metadata": {
    "collapsed": false,
    "ExecuteTime": {
     "end_time": "2024-06-25T13:26:01.891685Z",
     "start_time": "2024-06-25T13:26:01.886966Z"
    }
   },
   "id": "731ec24a08e2765d",
   "execution_count": 6
  },
  {
   "cell_type": "code",
   "outputs": [],
   "source": [
    "def replace_column_keys(data, headers):\n",
    "    new_data = []\n",
    "    for record in data:\n",
    "        new_record = {}\n",
    "        for (key, value), header in zip(record.items(), headers):\n",
    "            cleaned_value = ' '.join(value.split())  # Remove extra whitespaces and line breaks\n",
    "            new_record[header] = cleaned_value\n",
    "            if header.strip() == \"N\":  # Stop after the \"N\" column\n",
    "                break\n",
    "        new_data.append(new_record)\n",
    "    return new_data\n",
    "\n"
   ],
   "metadata": {
    "collapsed": false,
    "ExecuteTime": {
     "end_time": "2024-06-25T13:26:01.917314Z",
     "start_time": "2024-06-25T13:26:01.890556Z"
    }
   },
   "id": "e77afaeea8a73fd2",
   "execution_count": 7
  },
  {
   "cell_type": "code",
   "outputs": [],
   "source": [
    "def scrape_eventresults(base_url, driver, wait):\n",
    "    # Define result URL and open it with the WebDriver\n",
    "    results = {}\n",
    "    results_url = base_url + '#!/results'\n",
    "    driver.get(results_url)\n",
    "\n",
    "    # Define CSS selectors\n",
    "    regatta_name_selector = '#results > div > div > div.regattaName'\n",
    "    table_selector = '#results > div > div > div:nth-child(3) > div:nth-child(5) > div:nth-child(2) > div:nth-child(3) > table:nth-child(4)'\n",
    "    header_selector = table_selector + ' > thead'\n",
    "\n",
    "    # Check if the dropdown exists\n",
    "    dropdown_selector = '#results > div > div > select'\n",
    "    dropdown_elements = driver.find_elements(By.CSS_SELECTOR, dropdown_selector)\n",
    "\n",
    "    if dropdown_elements:\n",
    "        # Dropdown exists, process each option\n",
    "        select = Select(dropdown_elements[0])\n",
    "        option_texts = [option.text for option in select.options if option.text]\n",
    "\n",
    "        if not option_texts:\n",
    "            raise Exception(\"No options found in dropdown\")\n",
    "\n",
    "        for option_text in option_texts:\n",
    "            try:\n",
    "                select = Select(wait.until(EC.presence_of_element_located((By.CSS_SELECTOR, dropdown_selector))))\n",
    "                select.select_by_visible_text(option_text)\n",
    "                wait.until(EC.visibility_of_element_located((By.CSS_SELECTOR, table_selector)))\n",
    "\n",
    "                results[option_text] = {}\n",
    "                table = driver.find_element(By.CSS_SELECTOR, table_selector)\n",
    "                headers = get_table_headers(driver, wait, header_selector)\n",
    "                if len(headers) == 0:\n",
    "                    raise Exception(\"Header length is zero\")\n",
    "\n",
    "                row_data_list = []\n",
    "                for row in table.find_elements(By.TAG_NAME, 'tr'):\n",
    "                    columns = row.find_elements(By.TAG_NAME, 'td')\n",
    "                    row_data = {f\"column_{i}\": col.text for i, col in enumerate(columns) if\n",
    "                                'ng-hide' not in col.get_attribute('class')}\n",
    "                    if any(value.strip() for value in row_data.values()):\n",
    "                        row_data_list.append(row_data)\n",
    "\n",
    "                results[option_text]['results'] = replace_column_keys(row_data_list, headers)\n",
    "\n",
    "                # Scrape and store result details\n",
    "                result_details = scrape_resultdetails(wait, driver)\n",
    "                publish_details = scrape_publishdetails(wait, driver)\n",
    "                results[option_text]['resultdetails'] = result_details\n",
    "                results[option_text]['publishdetails'] = publish_details\n",
    "\n",
    "            except Exception as e:\n",
    "                results[option_text] = \"no results\"\n",
    "    else:\n",
    "        # No dropdown, scrape only the current page\n",
    "        try:\n",
    "            regatta_name = driver.find_element(By.CSS_SELECTOR, regatta_name_selector).text\n",
    "            results[regatta_name] = {}\n",
    "            table = driver.find_element(By.CSS_SELECTOR, table_selector)\n",
    "            headers = get_table_headers(driver, wait, header_selector)\n",
    "            if len(headers) == 0:\n",
    "                raise Exception(\"Header length is zero\")\n",
    "\n",
    "            row_data_list = []\n",
    "            for row in table.find_elements(By.TAG_NAME, 'tr'):\n",
    "                columns = row.find_elements(By.TAG_NAME, 'td')\n",
    "                row_data = {f\"column_{i}\": col.text for i, col in enumerate(columns) if\n",
    "                            'ng-hide' not in col.get_attribute('class')}\n",
    "                if any(value.strip() for value in row_data.values()):\n",
    "                    row_data_list.append(row_data)\n",
    "\n",
    "            results[regatta_name]['results'] = replace_column_keys(row_data_list, headers)\n",
    "\n",
    "            # Scrape and store result details\n",
    "            result_details = scrape_resultdetails(wait, driver)\n",
    "            publish_details = scrape_publishdetails(wait, driver)\n",
    "            results[regatta_name]['resultdetails'] = result_details\n",
    "            results[regatta_name]['publishdetails'] = publish_details\n",
    "\n",
    "        except Exception as e:\n",
    "            results[regatta_name] = \"no results\"\n",
    "\n",
    "    return results\n",
    "\n"
   ],
   "metadata": {
    "collapsed": false,
    "ExecuteTime": {
     "end_time": "2024-06-25T13:26:01.918561Z",
     "start_time": "2024-06-25T13:26:01.899253Z"
    }
   },
   "id": "9efd41a2db59056",
   "execution_count": 8
  },
  {
   "cell_type": "code",
   "outputs": [],
   "source": [
    "def process_document(document):\n",
    "    url = document['link']\n",
    "    options = Options()\n",
    "    service = Service('/usr/local/bin/chromedriver')\n",
    "    driver = webdriver.Chrome(service=service, options=options)\n",
    "    wait = WebDriverWait(driver, 5)\n",
    "\n",
    "    try:\n",
    "        driver.get(url)\n",
    "        event_details = scrape_eventdetails(wait, driver)\n",
    "        results = scrape_eventresults(url, driver, wait)\n",
    "        return {'_id': document['_id'], 'eventdetails': event_details, 'resultsByClass': results}\n",
    "    except Exception as e:\n",
    "        return {'_id': document['_id'], 'error': str(e)}\n",
    "    finally:\n",
    "        driver.quit()"
   ],
   "metadata": {
    "collapsed": false,
    "ExecuteTime": {
     "end_time": "2024-06-25T13:26:01.919061Z",
     "start_time": "2024-06-25T13:26:01.903168Z"
    }
   },
   "id": "d96165370cf6ecfc",
   "execution_count": 9
  },
  {
   "cell_type": "code",
   "outputs": [
    {
     "name": "stdout",
     "output_type": "stream",
     "text": [
      "Document 6679e81d6454fb6fd4724d57 updated successfully.\n",
      "Document 6679e81d6454fb6fd4724ba6 updated successfully.\n",
      "Document 6679e81d6454fb6fd4724b7e updated successfully.\n",
      "Document 6679e81d6454fb6fd4724d5d updated successfully.\n",
      "Document 6679e81d6454fb6fd4724b8c updated successfully.\n",
      "Document 6679e81d6454fb6fd4724bd6 updated successfully.\n",
      "Document 6679e81d6454fb6fd4724b81 updated successfully.\n",
      "Document 6679e81d6454fb6fd4724d58 updated successfully.\n",
      "Document 6679e81d6454fb6fd4724b89 updated successfully.\n",
      "Document 6679e81d6454fb6fd4724bb1 updated successfully.\n",
      "Document 6679e81d6454fb6fd4724b7b updated successfully.\n",
      "Document 6679e81d6454fb6fd4724d3d updated successfully.\n",
      "Document 6679e81d6454fb6fd4724d47 updated successfully.\n",
      "Document 6679e81d6454fb6fd4724d55 updated successfully.\n",
      "Document 6679e81d6454fb6fd4724d3f updated successfully.\n",
      "Document 6679e81d6454fb6fd4724d5e updated successfully.\n",
      "Document 6679e81d6454fb6fd4724b80 updated successfully.\n",
      "Document 6679e81d6454fb6fd4724c49 updated successfully.\n",
      "Document 6679e81d6454fb6fd4724d46 updated successfully.\n",
      "Document 6679e81d6454fb6fd4724d61 updated successfully.\n",
      "Document 6679e81d6454fb6fd4724b95 updated successfully.\n",
      "Document 6679e81d6454fb6fd4724d60 updated successfully.\n",
      "Document 6679e81d6454fb6fd4724bbb updated successfully.\n",
      "Document 6679e81d6454fb6fd4724c1c updated successfully.\n",
      "Document 6679e81d6454fb6fd4724d51 updated successfully.\n",
      "Document 6679e81d6454fb6fd4724c85 updated successfully.\n",
      "Document 6679e81d6454fb6fd4724bc3 updated successfully.\n"
     ]
    }
   ],
   "source": [
    "def process_document_with_retry(document, max_retries=3):\n",
    "    retries = 0\n",
    "    while retries < max_retries:\n",
    "        try:\n",
    "            result = process_document(document)  # Call your existing processing function\n",
    "            return result\n",
    "        except Exception as e:\n",
    "            retries += 1\n",
    "            print(f\"Error processing document {document['_id']}: {e}. Retrying {retries}/{max_retries}...\")\n",
    "            time.sleep(1)  # Wait a bit before retrying\n",
    "    return {'_id': document['_id'], 'error': 'Max retries exceeded'}\n",
    "\n",
    "if __name__ == \"__main__\":\n",
    "    # Setup WebDriver options\n",
    "    options = Options()\n",
    "    service = Service('/usr/local/bin/chromedriver')\n",
    "\n",
    "    collection = db.events\n",
    "    documents = list(collection.find())\n",
    "\n",
    "    # Use ThreadPoolExecutor to run tasks concurrently\n",
    "    max_workers = 25\n",
    "    with ThreadPoolExecutor(max_workers=max_workers) as executor:\n",
    "        futures = [executor.submit(process_document_with_retry, document) for document in documents]\n",
    "        for future in as_completed(futures):\n",
    "            result = future.result()\n",
    "            if 'error' in result:\n",
    "                print(f\"An error occurred for document {result['_id']}: {result['error']}\")\n",
    "            else:\n",
    "                update_result = collection.update_one(\n",
    "                    {'_id': result['_id']},\n",
    "                    {'$set': {'eventdetails': result['eventdetails'], 'resultsByClass': result['resultsByClass']}}\n",
    "                )\n",
    "                print(f\"Document {result['_id']} updated successfully.\")\n"
   ],
   "metadata": {
    "collapsed": true,
    "ExecuteTime": {
     "end_time": "2024-06-25T13:27:52.794215Z",
     "start_time": "2024-06-25T13:26:01.909144Z"
    }
   },
   "id": "initial_id",
   "execution_count": 10
  }
 ],
 "metadata": {
  "kernelspec": {
   "display_name": "Python 3",
   "language": "python",
   "name": "python3"
  },
  "language_info": {
   "codemirror_mode": {
    "name": "ipython",
    "version": 2
   },
   "file_extension": ".py",
   "mimetype": "text/x-python",
   "name": "python",
   "nbconvert_exporter": "python",
   "pygments_lexer": "ipython2",
   "version": "2.7.6"
  }
 },
 "nbformat": 4,
 "nbformat_minor": 5
}
