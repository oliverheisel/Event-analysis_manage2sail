{
 "cells": [
  {
   "cell_type": "code",
   "execution_count": 17,
   "id": "initial_id",
   "metadata": {
    "collapsed": true,
    "ExecuteTime": {
     "end_time": "2024-06-24T21:41:49.119159Z",
     "start_time": "2024-06-24T21:41:49.115912Z"
    }
   },
   "outputs": [],
   "source": [
    "# Libraries\n",
    "import json\n",
    "import pymongo\n",
    "import requests\n",
    "from lxml import html\n",
    "import re"
   ]
  },
  {
   "cell_type": "code",
   "outputs": [
    {
     "name": "stdout",
     "output_type": "stream",
     "text": [
      "Database does not exist!\n"
     ]
    }
   ],
   "source": [
    "# Load database credentials from json file\n",
    "with open('dbconfig.json') as config_file:\n",
    "    config = json.load(config_file)\n",
    "\n",
    "username = config['username']\n",
    "password = config['password']\n",
    "db_url = config['db_url']\n",
    "\n",
    "# database string\n",
    "CNX_STR = f\"mongodb+srv://{username}:{password}@{db_url}/?connectTimeoutMS=50000\"\n",
    "client = pymongo.MongoClient(CNX_STR)\n",
    "\n",
    "# Check if the database exists\n",
    "if \"manage2sail\" in client.list_database_names():\n",
    "    print(\"Database exists!\")\n",
    "    db = client.manage2sail\n",
    "else:\n",
    "    print(\"Database does not exist!\")"
   ],
   "metadata": {
    "collapsed": false,
    "ExecuteTime": {
     "end_time": "2024-06-24T21:41:49.554675Z",
     "start_time": "2024-06-24T21:41:49.121589Z"
    }
   },
   "id": "58f990bb4444f39f",
   "execution_count": 18
  },
  {
   "cell_type": "code",
   "outputs": [
    {
     "name": "stdout",
     "output_type": "stream",
     "text": [
      "[{'year': '2023', 'startdate': '01.01.', 'enddate': '08.01.', 'nameevent': '29er Wintertraining Camp III', 'status': 'Cancelled', 'nation': '', 'city': '', 'hostclub': 'Regionalverband Bodensee/Rhein', 'link': '/en-US/event/c5e5bda4-0140-42cc-ae8b-1cec508c5d95'}, {'year': '2023', 'startdate': '01.01.', 'enddate': '02.04.', 'nameevent': \"Challenge d'Hiver 22-23\", 'status': 'Finished', 'nation': 'SUI', 'city': 'Lausanne', 'hostclub': 'Cercle de la voile de Vidy', 'link': '/en-US/event/9358826e-1e64-488a-96cb-2ddeb5c544bc'}, {'year': '2023', 'startdate': '08.01.', 'enddate': '08.01.', 'nameevent': 'Rois', 'status': 'Finished', 'nation': 'SUI', 'city': 'Villeneuve', 'hostclub': 'Cercle de la voile de Villeneuve', 'link': '/en-US/event/gratuit'}, {'year': '2023', 'startdate': '13.01.', 'enddate': '15.01.', 'nameevent': 'ACVL TRAINING FOR -- 29er - Hyères (winter training #4)', 'status': 'Closed', 'nation': 'FRA', 'city': 'HYERES', 'hostclub': 'Association des Clubs de Voile Lémaniques', 'link': '/en-US/event/6cff02ef-6b79-4ee2-877d-47f56186f1c3'}, {'year': '2023', 'startdate': '18.01.', 'enddate': '08.02.', 'nameevent': 'Corso 1.2 UdR base', 'status': 'Finished', 'nation': 'SUI', 'city': 'Lugano', 'hostclub': 'Federazione Ticinese della Vela', 'link': '/en-US/event/cc6706f9-98d4-479f-9a0f-0c846725a8ff'}]\n"
     ]
    }
   ],
   "source": [
    "# scrape the data\n",
    "base_url = 'https://www.manage2sail.com/en-US/search'\n",
    "params = {\n",
    "    'filterYear': '2023',\n",
    "    'filterMonth': '',\n",
    "    'filterCountry': 'SUI',\n",
    "    #'filterRegion': 'e3165406-2424-470e-9ec2-d9dac6c9b742', # Zürichsee\n",
    "    'filterRegion': '',\n",
    "    'filterClass': '',\n",
    "    'filterClubId': '',\n",
    "    'filterScoring': '',\n",
    "    'paged': 'false',\n",
    "    'filterText': ''\n",
    "}\n",
    "\n",
    "all_data = []\n",
    "response = requests.get(base_url, params=params)\n",
    "\n",
    "if response.status_code == 200:\n",
    "    # Parse the HTML content\n",
    "    tree = html.fromstring(response.content)\n",
    "    table = tree.xpath('/html/body/div[2]/div[3]/div[2]/div/table')[0]\n",
    "    data = []\n",
    "\n",
    "    for row in table.xpath('./tbody/tr'):\n",
    "        row_data = [cell.text_content().strip() for cell in row.xpath('./td')]\n",
    "        link = row.xpath('./td[4]/a/@href')\n",
    "        row_data.append(link[0] if link else None)\n",
    "        data.append(row_data)\n",
    "\n",
    "    all_data.extend(data)\n",
    "else:\n",
    "    print(f\"Failed to retrieve page\")\n",
    "\n",
    "# print(all_data)\n",
    "\n",
    "formatted_data = [\n",
    "    {\n",
    "        'year': row[0],\n",
    "        'startdate': row[1],\n",
    "        'enddate': row[2],\n",
    "        'nameevent': row[3],\n",
    "        'status': row[4],\n",
    "        'nation': row[5],\n",
    "        'city': row[6],\n",
    "        'hostclub': row[7],\n",
    "        'link': row[8]\n",
    "    } for row in all_data\n",
    "]\n",
    "\n",
    "# To visualize the formatted data\n",
    "print(formatted_data[:5])  # Print the first 5 for brevity"
   ],
   "metadata": {
    "collapsed": false,
    "ExecuteTime": {
     "end_time": "2024-06-24T21:41:49.936732Z",
     "start_time": "2024-06-24T21:41:49.555915Z"
    }
   },
   "id": "c621af96f667d727",
   "execution_count": 19
  },
  {
   "cell_type": "code",
   "outputs": [
    {
     "data": {
      "text/plain": "InsertManyResult([ObjectId('6679e81d6454fb6fd4724b78'), ObjectId('6679e81d6454fb6fd4724b79'), ObjectId('6679e81d6454fb6fd4724b7a'), ObjectId('6679e81d6454fb6fd4724b7b'), ObjectId('6679e81d6454fb6fd4724b7c'), ObjectId('6679e81d6454fb6fd4724b7d'), ObjectId('6679e81d6454fb6fd4724b7e'), ObjectId('6679e81d6454fb6fd4724b7f'), ObjectId('6679e81d6454fb6fd4724b80'), ObjectId('6679e81d6454fb6fd4724b81'), ObjectId('6679e81d6454fb6fd4724b82'), ObjectId('6679e81d6454fb6fd4724b83'), ObjectId('6679e81d6454fb6fd4724b84'), ObjectId('6679e81d6454fb6fd4724b85'), ObjectId('6679e81d6454fb6fd4724b86'), ObjectId('6679e81d6454fb6fd4724b87'), ObjectId('6679e81d6454fb6fd4724b88'), ObjectId('6679e81d6454fb6fd4724b89'), ObjectId('6679e81d6454fb6fd4724b8a'), ObjectId('6679e81d6454fb6fd4724b8b'), ObjectId('6679e81d6454fb6fd4724b8c'), ObjectId('6679e81d6454fb6fd4724b8d'), ObjectId('6679e81d6454fb6fd4724b8e'), ObjectId('6679e81d6454fb6fd4724b8f'), ObjectId('6679e81d6454fb6fd4724b90'), ObjectId('6679e81d6454fb6fd4724b91'), ObjectId('6679e81d6454fb6fd4724b92'), ObjectId('6679e81d6454fb6fd4724b93'), ObjectId('6679e81d6454fb6fd4724b94'), ObjectId('6679e81d6454fb6fd4724b95'), ObjectId('6679e81d6454fb6fd4724b96'), ObjectId('6679e81d6454fb6fd4724b97'), ObjectId('6679e81d6454fb6fd4724b98'), ObjectId('6679e81d6454fb6fd4724b99'), ObjectId('6679e81d6454fb6fd4724b9a'), ObjectId('6679e81d6454fb6fd4724b9b'), ObjectId('6679e81d6454fb6fd4724b9c'), ObjectId('6679e81d6454fb6fd4724b9d'), ObjectId('6679e81d6454fb6fd4724b9e'), ObjectId('6679e81d6454fb6fd4724b9f'), ObjectId('6679e81d6454fb6fd4724ba0'), ObjectId('6679e81d6454fb6fd4724ba1'), ObjectId('6679e81d6454fb6fd4724ba2'), ObjectId('6679e81d6454fb6fd4724ba3'), ObjectId('6679e81d6454fb6fd4724ba4'), ObjectId('6679e81d6454fb6fd4724ba5'), ObjectId('6679e81d6454fb6fd4724ba6'), ObjectId('6679e81d6454fb6fd4724ba7'), ObjectId('6679e81d6454fb6fd4724ba8'), ObjectId('6679e81d6454fb6fd4724ba9'), ObjectId('6679e81d6454fb6fd4724baa'), ObjectId('6679e81d6454fb6fd4724bab'), ObjectId('6679e81d6454fb6fd4724bac'), ObjectId('6679e81d6454fb6fd4724bad'), ObjectId('6679e81d6454fb6fd4724bae'), ObjectId('6679e81d6454fb6fd4724baf'), ObjectId('6679e81d6454fb6fd4724bb0'), ObjectId('6679e81d6454fb6fd4724bb1'), ObjectId('6679e81d6454fb6fd4724bb2'), ObjectId('6679e81d6454fb6fd4724bb3'), ObjectId('6679e81d6454fb6fd4724bb4'), ObjectId('6679e81d6454fb6fd4724bb5'), ObjectId('6679e81d6454fb6fd4724bb6'), ObjectId('6679e81d6454fb6fd4724bb7'), ObjectId('6679e81d6454fb6fd4724bb8'), ObjectId('6679e81d6454fb6fd4724bb9'), ObjectId('6679e81d6454fb6fd4724bba'), ObjectId('6679e81d6454fb6fd4724bbb'), ObjectId('6679e81d6454fb6fd4724bbc'), ObjectId('6679e81d6454fb6fd4724bbd'), ObjectId('6679e81d6454fb6fd4724bbe'), ObjectId('6679e81d6454fb6fd4724bbf'), ObjectId('6679e81d6454fb6fd4724bc0'), ObjectId('6679e81d6454fb6fd4724bc1'), ObjectId('6679e81d6454fb6fd4724bc2'), ObjectId('6679e81d6454fb6fd4724bc3'), ObjectId('6679e81d6454fb6fd4724bc4'), ObjectId('6679e81d6454fb6fd4724bc5'), ObjectId('6679e81d6454fb6fd4724bc6'), ObjectId('6679e81d6454fb6fd4724bc7'), ObjectId('6679e81d6454fb6fd4724bc8'), ObjectId('6679e81d6454fb6fd4724bc9'), ObjectId('6679e81d6454fb6fd4724bca'), ObjectId('6679e81d6454fb6fd4724bcb'), ObjectId('6679e81d6454fb6fd4724bcc'), ObjectId('6679e81d6454fb6fd4724bcd'), ObjectId('6679e81d6454fb6fd4724bce'), ObjectId('6679e81d6454fb6fd4724bcf'), ObjectId('6679e81d6454fb6fd4724bd0'), ObjectId('6679e81d6454fb6fd4724bd1'), ObjectId('6679e81d6454fb6fd4724bd2'), ObjectId('6679e81d6454fb6fd4724bd3'), ObjectId('6679e81d6454fb6fd4724bd4'), ObjectId('6679e81d6454fb6fd4724bd5'), ObjectId('6679e81d6454fb6fd4724bd6'), ObjectId('6679e81d6454fb6fd4724bd7'), ObjectId('6679e81d6454fb6fd4724bd8'), ObjectId('6679e81d6454fb6fd4724bd9'), ObjectId('6679e81d6454fb6fd4724bda'), ObjectId('6679e81d6454fb6fd4724bdb'), ObjectId('6679e81d6454fb6fd4724bdc'), ObjectId('6679e81d6454fb6fd4724bdd'), ObjectId('6679e81d6454fb6fd4724bde'), ObjectId('6679e81d6454fb6fd4724bdf'), ObjectId('6679e81d6454fb6fd4724be0'), ObjectId('6679e81d6454fb6fd4724be1'), ObjectId('6679e81d6454fb6fd4724be2'), ObjectId('6679e81d6454fb6fd4724be3'), ObjectId('6679e81d6454fb6fd4724be4'), ObjectId('6679e81d6454fb6fd4724be5'), ObjectId('6679e81d6454fb6fd4724be6'), ObjectId('6679e81d6454fb6fd4724be7'), ObjectId('6679e81d6454fb6fd4724be8'), ObjectId('6679e81d6454fb6fd4724be9'), ObjectId('6679e81d6454fb6fd4724bea'), ObjectId('6679e81d6454fb6fd4724beb'), ObjectId('6679e81d6454fb6fd4724bec'), ObjectId('6679e81d6454fb6fd4724bed'), ObjectId('6679e81d6454fb6fd4724bee'), ObjectId('6679e81d6454fb6fd4724bef'), ObjectId('6679e81d6454fb6fd4724bf0'), ObjectId('6679e81d6454fb6fd4724bf1'), ObjectId('6679e81d6454fb6fd4724bf2'), ObjectId('6679e81d6454fb6fd4724bf3'), ObjectId('6679e81d6454fb6fd4724bf4'), ObjectId('6679e81d6454fb6fd4724bf5'), ObjectId('6679e81d6454fb6fd4724bf6'), ObjectId('6679e81d6454fb6fd4724bf7'), ObjectId('6679e81d6454fb6fd4724bf8'), ObjectId('6679e81d6454fb6fd4724bf9'), ObjectId('6679e81d6454fb6fd4724bfa'), ObjectId('6679e81d6454fb6fd4724bfb'), ObjectId('6679e81d6454fb6fd4724bfc'), ObjectId('6679e81d6454fb6fd4724bfd'), ObjectId('6679e81d6454fb6fd4724bfe'), ObjectId('6679e81d6454fb6fd4724bff'), ObjectId('6679e81d6454fb6fd4724c00'), ObjectId('6679e81d6454fb6fd4724c01'), ObjectId('6679e81d6454fb6fd4724c02'), ObjectId('6679e81d6454fb6fd4724c03'), ObjectId('6679e81d6454fb6fd4724c04'), ObjectId('6679e81d6454fb6fd4724c05'), ObjectId('6679e81d6454fb6fd4724c06'), ObjectId('6679e81d6454fb6fd4724c07'), ObjectId('6679e81d6454fb6fd4724c08'), ObjectId('6679e81d6454fb6fd4724c09'), ObjectId('6679e81d6454fb6fd4724c0a'), ObjectId('6679e81d6454fb6fd4724c0b'), ObjectId('6679e81d6454fb6fd4724c0c'), ObjectId('6679e81d6454fb6fd4724c0d'), ObjectId('6679e81d6454fb6fd4724c0e'), ObjectId('6679e81d6454fb6fd4724c0f'), ObjectId('6679e81d6454fb6fd4724c10'), ObjectId('6679e81d6454fb6fd4724c11'), ObjectId('6679e81d6454fb6fd4724c12'), ObjectId('6679e81d6454fb6fd4724c13'), ObjectId('6679e81d6454fb6fd4724c14'), ObjectId('6679e81d6454fb6fd4724c15'), ObjectId('6679e81d6454fb6fd4724c16'), ObjectId('6679e81d6454fb6fd4724c17'), ObjectId('6679e81d6454fb6fd4724c18'), ObjectId('6679e81d6454fb6fd4724c19'), ObjectId('6679e81d6454fb6fd4724c1a'), ObjectId('6679e81d6454fb6fd4724c1b'), ObjectId('6679e81d6454fb6fd4724c1c'), ObjectId('6679e81d6454fb6fd4724c1d'), ObjectId('6679e81d6454fb6fd4724c1e'), ObjectId('6679e81d6454fb6fd4724c1f'), ObjectId('6679e81d6454fb6fd4724c20'), ObjectId('6679e81d6454fb6fd4724c21'), ObjectId('6679e81d6454fb6fd4724c22'), ObjectId('6679e81d6454fb6fd4724c23'), ObjectId('6679e81d6454fb6fd4724c24'), ObjectId('6679e81d6454fb6fd4724c25'), ObjectId('6679e81d6454fb6fd4724c26'), ObjectId('6679e81d6454fb6fd4724c27'), ObjectId('6679e81d6454fb6fd4724c28'), ObjectId('6679e81d6454fb6fd4724c29'), ObjectId('6679e81d6454fb6fd4724c2a'), ObjectId('6679e81d6454fb6fd4724c2b'), ObjectId('6679e81d6454fb6fd4724c2c'), ObjectId('6679e81d6454fb6fd4724c2d'), ObjectId('6679e81d6454fb6fd4724c2e'), ObjectId('6679e81d6454fb6fd4724c2f'), ObjectId('6679e81d6454fb6fd4724c30'), ObjectId('6679e81d6454fb6fd4724c31'), ObjectId('6679e81d6454fb6fd4724c32'), ObjectId('6679e81d6454fb6fd4724c33'), ObjectId('6679e81d6454fb6fd4724c34'), ObjectId('6679e81d6454fb6fd4724c35'), ObjectId('6679e81d6454fb6fd4724c36'), ObjectId('6679e81d6454fb6fd4724c37'), ObjectId('6679e81d6454fb6fd4724c38'), ObjectId('6679e81d6454fb6fd4724c39'), ObjectId('6679e81d6454fb6fd4724c3a'), ObjectId('6679e81d6454fb6fd4724c3b'), ObjectId('6679e81d6454fb6fd4724c3c'), ObjectId('6679e81d6454fb6fd4724c3d'), ObjectId('6679e81d6454fb6fd4724c3e'), ObjectId('6679e81d6454fb6fd4724c3f'), ObjectId('6679e81d6454fb6fd4724c40'), ObjectId('6679e81d6454fb6fd4724c41'), ObjectId('6679e81d6454fb6fd4724c42'), ObjectId('6679e81d6454fb6fd4724c43'), ObjectId('6679e81d6454fb6fd4724c44'), ObjectId('6679e81d6454fb6fd4724c45'), ObjectId('6679e81d6454fb6fd4724c46'), ObjectId('6679e81d6454fb6fd4724c47'), ObjectId('6679e81d6454fb6fd4724c48'), ObjectId('6679e81d6454fb6fd4724c49'), ObjectId('6679e81d6454fb6fd4724c4a'), ObjectId('6679e81d6454fb6fd4724c4b'), ObjectId('6679e81d6454fb6fd4724c4c'), ObjectId('6679e81d6454fb6fd4724c4d'), ObjectId('6679e81d6454fb6fd4724c4e'), ObjectId('6679e81d6454fb6fd4724c4f'), ObjectId('6679e81d6454fb6fd4724c50'), ObjectId('6679e81d6454fb6fd4724c51'), ObjectId('6679e81d6454fb6fd4724c52'), ObjectId('6679e81d6454fb6fd4724c53'), ObjectId('6679e81d6454fb6fd4724c54'), ObjectId('6679e81d6454fb6fd4724c55'), ObjectId('6679e81d6454fb6fd4724c56'), ObjectId('6679e81d6454fb6fd4724c57'), ObjectId('6679e81d6454fb6fd4724c58'), ObjectId('6679e81d6454fb6fd4724c59'), ObjectId('6679e81d6454fb6fd4724c5a'), ObjectId('6679e81d6454fb6fd4724c5b'), ObjectId('6679e81d6454fb6fd4724c5c'), ObjectId('6679e81d6454fb6fd4724c5d'), ObjectId('6679e81d6454fb6fd4724c5e'), ObjectId('6679e81d6454fb6fd4724c5f'), ObjectId('6679e81d6454fb6fd4724c60'), ObjectId('6679e81d6454fb6fd4724c61'), ObjectId('6679e81d6454fb6fd4724c62'), ObjectId('6679e81d6454fb6fd4724c63'), ObjectId('6679e81d6454fb6fd4724c64'), ObjectId('6679e81d6454fb6fd4724c65'), ObjectId('6679e81d6454fb6fd4724c66'), ObjectId('6679e81d6454fb6fd4724c67'), ObjectId('6679e81d6454fb6fd4724c68'), ObjectId('6679e81d6454fb6fd4724c69'), ObjectId('6679e81d6454fb6fd4724c6a'), ObjectId('6679e81d6454fb6fd4724c6b'), ObjectId('6679e81d6454fb6fd4724c6c'), ObjectId('6679e81d6454fb6fd4724c6d'), ObjectId('6679e81d6454fb6fd4724c6e'), ObjectId('6679e81d6454fb6fd4724c6f'), ObjectId('6679e81d6454fb6fd4724c70'), ObjectId('6679e81d6454fb6fd4724c71'), ObjectId('6679e81d6454fb6fd4724c72'), ObjectId('6679e81d6454fb6fd4724c73'), ObjectId('6679e81d6454fb6fd4724c74'), ObjectId('6679e81d6454fb6fd4724c75'), ObjectId('6679e81d6454fb6fd4724c76'), ObjectId('6679e81d6454fb6fd4724c77'), ObjectId('6679e81d6454fb6fd4724c78'), ObjectId('6679e81d6454fb6fd4724c79'), ObjectId('6679e81d6454fb6fd4724c7a'), ObjectId('6679e81d6454fb6fd4724c7b'), ObjectId('6679e81d6454fb6fd4724c7c'), ObjectId('6679e81d6454fb6fd4724c7d'), ObjectId('6679e81d6454fb6fd4724c7e'), ObjectId('6679e81d6454fb6fd4724c7f'), ObjectId('6679e81d6454fb6fd4724c80'), ObjectId('6679e81d6454fb6fd4724c81'), ObjectId('6679e81d6454fb6fd4724c82'), ObjectId('6679e81d6454fb6fd4724c83'), ObjectId('6679e81d6454fb6fd4724c84'), ObjectId('6679e81d6454fb6fd4724c85'), ObjectId('6679e81d6454fb6fd4724c86'), ObjectId('6679e81d6454fb6fd4724c87'), ObjectId('6679e81d6454fb6fd4724c88'), ObjectId('6679e81d6454fb6fd4724c89'), ObjectId('6679e81d6454fb6fd4724c8a'), ObjectId('6679e81d6454fb6fd4724c8b'), ObjectId('6679e81d6454fb6fd4724c8c'), ObjectId('6679e81d6454fb6fd4724c8d'), ObjectId('6679e81d6454fb6fd4724c8e'), ObjectId('6679e81d6454fb6fd4724c8f'), ObjectId('6679e81d6454fb6fd4724c90'), ObjectId('6679e81d6454fb6fd4724c91'), ObjectId('6679e81d6454fb6fd4724c92'), ObjectId('6679e81d6454fb6fd4724c93'), ObjectId('6679e81d6454fb6fd4724c94'), ObjectId('6679e81d6454fb6fd4724c95'), ObjectId('6679e81d6454fb6fd4724c96'), ObjectId('6679e81d6454fb6fd4724c97'), ObjectId('6679e81d6454fb6fd4724c98'), ObjectId('6679e81d6454fb6fd4724c99'), ObjectId('6679e81d6454fb6fd4724c9a'), ObjectId('6679e81d6454fb6fd4724c9b'), ObjectId('6679e81d6454fb6fd4724c9c'), ObjectId('6679e81d6454fb6fd4724c9d'), ObjectId('6679e81d6454fb6fd4724c9e'), ObjectId('6679e81d6454fb6fd4724c9f'), ObjectId('6679e81d6454fb6fd4724ca0'), ObjectId('6679e81d6454fb6fd4724ca1'), ObjectId('6679e81d6454fb6fd4724ca2'), ObjectId('6679e81d6454fb6fd4724ca3'), ObjectId('6679e81d6454fb6fd4724ca4'), ObjectId('6679e81d6454fb6fd4724ca5'), ObjectId('6679e81d6454fb6fd4724ca6'), ObjectId('6679e81d6454fb6fd4724ca7'), ObjectId('6679e81d6454fb6fd4724ca8'), ObjectId('6679e81d6454fb6fd4724ca9'), ObjectId('6679e81d6454fb6fd4724caa'), ObjectId('6679e81d6454fb6fd4724cab'), ObjectId('6679e81d6454fb6fd4724cac'), ObjectId('6679e81d6454fb6fd4724cad'), ObjectId('6679e81d6454fb6fd4724cae'), ObjectId('6679e81d6454fb6fd4724caf'), ObjectId('6679e81d6454fb6fd4724cb0'), ObjectId('6679e81d6454fb6fd4724cb1'), ObjectId('6679e81d6454fb6fd4724cb2'), ObjectId('6679e81d6454fb6fd4724cb3'), ObjectId('6679e81d6454fb6fd4724cb4'), ObjectId('6679e81d6454fb6fd4724cb5'), ObjectId('6679e81d6454fb6fd4724cb6'), ObjectId('6679e81d6454fb6fd4724cb7'), ObjectId('6679e81d6454fb6fd4724cb8'), ObjectId('6679e81d6454fb6fd4724cb9'), ObjectId('6679e81d6454fb6fd4724cba'), ObjectId('6679e81d6454fb6fd4724cbb'), ObjectId('6679e81d6454fb6fd4724cbc'), ObjectId('6679e81d6454fb6fd4724cbd'), ObjectId('6679e81d6454fb6fd4724cbe'), ObjectId('6679e81d6454fb6fd4724cbf'), ObjectId('6679e81d6454fb6fd4724cc0'), ObjectId('6679e81d6454fb6fd4724cc1'), ObjectId('6679e81d6454fb6fd4724cc2'), ObjectId('6679e81d6454fb6fd4724cc3'), ObjectId('6679e81d6454fb6fd4724cc4'), ObjectId('6679e81d6454fb6fd4724cc5'), ObjectId('6679e81d6454fb6fd4724cc6'), ObjectId('6679e81d6454fb6fd4724cc7'), ObjectId('6679e81d6454fb6fd4724cc8'), ObjectId('6679e81d6454fb6fd4724cc9'), ObjectId('6679e81d6454fb6fd4724cca'), ObjectId('6679e81d6454fb6fd4724ccb'), ObjectId('6679e81d6454fb6fd4724ccc'), ObjectId('6679e81d6454fb6fd4724ccd'), ObjectId('6679e81d6454fb6fd4724cce'), ObjectId('6679e81d6454fb6fd4724ccf'), ObjectId('6679e81d6454fb6fd4724cd0'), ObjectId('6679e81d6454fb6fd4724cd1'), ObjectId('6679e81d6454fb6fd4724cd2'), ObjectId('6679e81d6454fb6fd4724cd3'), ObjectId('6679e81d6454fb6fd4724cd4'), ObjectId('6679e81d6454fb6fd4724cd5'), ObjectId('6679e81d6454fb6fd4724cd6'), ObjectId('6679e81d6454fb6fd4724cd7'), ObjectId('6679e81d6454fb6fd4724cd8'), ObjectId('6679e81d6454fb6fd4724cd9'), ObjectId('6679e81d6454fb6fd4724cda'), ObjectId('6679e81d6454fb6fd4724cdb'), ObjectId('6679e81d6454fb6fd4724cdc'), ObjectId('6679e81d6454fb6fd4724cdd'), ObjectId('6679e81d6454fb6fd4724cde'), ObjectId('6679e81d6454fb6fd4724cdf'), ObjectId('6679e81d6454fb6fd4724ce0'), ObjectId('6679e81d6454fb6fd4724ce1'), ObjectId('6679e81d6454fb6fd4724ce2'), ObjectId('6679e81d6454fb6fd4724ce3'), ObjectId('6679e81d6454fb6fd4724ce4'), ObjectId('6679e81d6454fb6fd4724ce5'), ObjectId('6679e81d6454fb6fd4724ce6'), ObjectId('6679e81d6454fb6fd4724ce7'), ObjectId('6679e81d6454fb6fd4724ce8'), ObjectId('6679e81d6454fb6fd4724ce9'), ObjectId('6679e81d6454fb6fd4724cea'), ObjectId('6679e81d6454fb6fd4724ceb'), ObjectId('6679e81d6454fb6fd4724cec'), ObjectId('6679e81d6454fb6fd4724ced'), ObjectId('6679e81d6454fb6fd4724cee'), ObjectId('6679e81d6454fb6fd4724cef'), ObjectId('6679e81d6454fb6fd4724cf0'), ObjectId('6679e81d6454fb6fd4724cf1'), ObjectId('6679e81d6454fb6fd4724cf2'), ObjectId('6679e81d6454fb6fd4724cf3'), ObjectId('6679e81d6454fb6fd4724cf4'), ObjectId('6679e81d6454fb6fd4724cf5'), ObjectId('6679e81d6454fb6fd4724cf6'), ObjectId('6679e81d6454fb6fd4724cf7'), ObjectId('6679e81d6454fb6fd4724cf8'), ObjectId('6679e81d6454fb6fd4724cf9'), ObjectId('6679e81d6454fb6fd4724cfa'), ObjectId('6679e81d6454fb6fd4724cfb'), ObjectId('6679e81d6454fb6fd4724cfc'), ObjectId('6679e81d6454fb6fd4724cfd'), ObjectId('6679e81d6454fb6fd4724cfe'), ObjectId('6679e81d6454fb6fd4724cff'), ObjectId('6679e81d6454fb6fd4724d00'), ObjectId('6679e81d6454fb6fd4724d01'), ObjectId('6679e81d6454fb6fd4724d02'), ObjectId('6679e81d6454fb6fd4724d03'), ObjectId('6679e81d6454fb6fd4724d04'), ObjectId('6679e81d6454fb6fd4724d05'), ObjectId('6679e81d6454fb6fd4724d06'), ObjectId('6679e81d6454fb6fd4724d07'), ObjectId('6679e81d6454fb6fd4724d08'), ObjectId('6679e81d6454fb6fd4724d09'), ObjectId('6679e81d6454fb6fd4724d0a'), ObjectId('6679e81d6454fb6fd4724d0b'), ObjectId('6679e81d6454fb6fd4724d0c'), ObjectId('6679e81d6454fb6fd4724d0d'), ObjectId('6679e81d6454fb6fd4724d0e'), ObjectId('6679e81d6454fb6fd4724d0f'), ObjectId('6679e81d6454fb6fd4724d10'), ObjectId('6679e81d6454fb6fd4724d11'), ObjectId('6679e81d6454fb6fd4724d12'), ObjectId('6679e81d6454fb6fd4724d13'), ObjectId('6679e81d6454fb6fd4724d14'), ObjectId('6679e81d6454fb6fd4724d15'), ObjectId('6679e81d6454fb6fd4724d16'), ObjectId('6679e81d6454fb6fd4724d17'), ObjectId('6679e81d6454fb6fd4724d18'), ObjectId('6679e81d6454fb6fd4724d19'), ObjectId('6679e81d6454fb6fd4724d1a'), ObjectId('6679e81d6454fb6fd4724d1b'), ObjectId('6679e81d6454fb6fd4724d1c'), ObjectId('6679e81d6454fb6fd4724d1d'), ObjectId('6679e81d6454fb6fd4724d1e'), ObjectId('6679e81d6454fb6fd4724d1f'), ObjectId('6679e81d6454fb6fd4724d20'), ObjectId('6679e81d6454fb6fd4724d21'), ObjectId('6679e81d6454fb6fd4724d22'), ObjectId('6679e81d6454fb6fd4724d23'), ObjectId('6679e81d6454fb6fd4724d24'), ObjectId('6679e81d6454fb6fd4724d25'), ObjectId('6679e81d6454fb6fd4724d26'), ObjectId('6679e81d6454fb6fd4724d27'), ObjectId('6679e81d6454fb6fd4724d28'), ObjectId('6679e81d6454fb6fd4724d29'), ObjectId('6679e81d6454fb6fd4724d2a'), ObjectId('6679e81d6454fb6fd4724d2b'), ObjectId('6679e81d6454fb6fd4724d2c'), ObjectId('6679e81d6454fb6fd4724d2d'), ObjectId('6679e81d6454fb6fd4724d2e'), ObjectId('6679e81d6454fb6fd4724d2f'), ObjectId('6679e81d6454fb6fd4724d30'), ObjectId('6679e81d6454fb6fd4724d31'), ObjectId('6679e81d6454fb6fd4724d32'), ObjectId('6679e81d6454fb6fd4724d33'), ObjectId('6679e81d6454fb6fd4724d34'), ObjectId('6679e81d6454fb6fd4724d35'), ObjectId('6679e81d6454fb6fd4724d36'), ObjectId('6679e81d6454fb6fd4724d37'), ObjectId('6679e81d6454fb6fd4724d38'), ObjectId('6679e81d6454fb6fd4724d39'), ObjectId('6679e81d6454fb6fd4724d3a'), ObjectId('6679e81d6454fb6fd4724d3b'), ObjectId('6679e81d6454fb6fd4724d3c'), ObjectId('6679e81d6454fb6fd4724d3d'), ObjectId('6679e81d6454fb6fd4724d3e'), ObjectId('6679e81d6454fb6fd4724d3f'), ObjectId('6679e81d6454fb6fd4724d40'), ObjectId('6679e81d6454fb6fd4724d41'), ObjectId('6679e81d6454fb6fd4724d42'), ObjectId('6679e81d6454fb6fd4724d43'), ObjectId('6679e81d6454fb6fd4724d44'), ObjectId('6679e81d6454fb6fd4724d45'), ObjectId('6679e81d6454fb6fd4724d46'), ObjectId('6679e81d6454fb6fd4724d47'), ObjectId('6679e81d6454fb6fd4724d48'), ObjectId('6679e81d6454fb6fd4724d49'), ObjectId('6679e81d6454fb6fd4724d4a'), ObjectId('6679e81d6454fb6fd4724d4b'), ObjectId('6679e81d6454fb6fd4724d4c'), ObjectId('6679e81d6454fb6fd4724d4d'), ObjectId('6679e81d6454fb6fd4724d4e'), ObjectId('6679e81d6454fb6fd4724d4f'), ObjectId('6679e81d6454fb6fd4724d50'), ObjectId('6679e81d6454fb6fd4724d51'), ObjectId('6679e81d6454fb6fd4724d52'), ObjectId('6679e81d6454fb6fd4724d53'), ObjectId('6679e81d6454fb6fd4724d54'), ObjectId('6679e81d6454fb6fd4724d55'), ObjectId('6679e81d6454fb6fd4724d56'), ObjectId('6679e81d6454fb6fd4724d57'), ObjectId('6679e81d6454fb6fd4724d58'), ObjectId('6679e81d6454fb6fd4724d59'), ObjectId('6679e81d6454fb6fd4724d5a'), ObjectId('6679e81d6454fb6fd4724d5b'), ObjectId('6679e81d6454fb6fd4724d5c'), ObjectId('6679e81d6454fb6fd4724d5d'), ObjectId('6679e81d6454fb6fd4724d5e'), ObjectId('6679e81d6454fb6fd4724d5f'), ObjectId('6679e81d6454fb6fd4724d60'), ObjectId('6679e81d6454fb6fd4724d61'), ObjectId('6679e81d6454fb6fd4724d62')], acknowledged=True)"
     },
     "execution_count": 20,
     "metadata": {},
     "output_type": "execute_result"
    }
   ],
   "source": [
    "#Load data to db\n",
    "db.events.insert_many(formatted_data)"
   ],
   "metadata": {
    "collapsed": false,
    "ExecuteTime": {
     "end_time": "2024-06-24T21:41:51.229137Z",
     "start_time": "2024-06-24T21:41:49.935303Z"
    }
   },
   "id": "19ed8a44588b4e7",
   "execution_count": 20
  },
  {
   "cell_type": "code",
   "outputs": [
    {
     "name": "stdout",
     "output_type": "stream",
     "text": [
      "47 documents with nameevent containing '\\s' (seminar)  have been deleted.\n"
     ]
    }
   ],
   "source": [
    "# remove all events that are seminar (eventname contains \"\\nS$\")\n",
    "collection = db.events\n",
    "filter_criteria = {\"nameevent\": { \"$regex\": \"\\nS$\", \"$options\": \"i\" }}\n",
    "result = collection.delete_many(filter_criteria)\n",
    "\n",
    "deleted_count = result.deleted_count\n",
    "print(f\"{deleted_count} documents with nameevent containing '\\s' (seminar)  have been deleted.\")"
   ],
   "metadata": {
    "collapsed": false,
    "ExecuteTime": {
     "end_time": "2024-06-24T21:41:52.189439Z",
     "start_time": "2024-06-24T21:41:51.232377Z"
    }
   },
   "id": "394d1b24257b0a5a",
   "execution_count": 21
  },
  {
   "cell_type": "code",
   "outputs": [
    {
     "name": "stdout",
     "output_type": "stream",
     "text": [
      "2 documents with eventname containing 'jeden' have been deleted.\n"
     ]
    }
   ],
   "source": [
    "# remove all events that contain \"jeden\" in their nameevent inidactin a weekliy recuring event\n",
    "collection = db.events\n",
    "pipeline = [\n",
    "    {\"$match\": {\"nameevent\": {\"$regex\": \"jeden\", \"$options\": \"i\"}}},\n",
    "    {\"$group\": {\"_id\": None, \"ids\": {\"$push\": \"$_id\"}}}\n",
    "]\n",
    "\n",
    "result = collection.aggregate(pipeline)\n",
    "deleted_count = 0\n",
    "for doc in result:\n",
    "    if \"ids\" in doc:\n",
    "        deleted_count = len(doc[\"ids\"])\n",
    "        collection.delete_many({\"_id\": {\"$in\": doc[\"ids\"]}})\n",
    "\n",
    "print(f\"{deleted_count} documents with eventname containing 'jeden' have been deleted.\")"
   ],
   "metadata": {
    "collapsed": false,
    "ExecuteTime": {
     "end_time": "2024-06-24T21:41:52.241039Z",
     "start_time": "2024-06-24T21:41:52.184991Z"
    }
   },
   "id": "b927f9df61cb1bf5",
   "execution_count": 22
  },
  {
   "cell_type": "code",
   "outputs": [
    {
     "name": "stdout",
     "output_type": "stream",
     "text": [
      "15 documents with status 'Cancelled' have been deleted.\n"
     ]
    }
   ],
   "source": [
    "# delete all events with status \"Cancelled\" (deleted events)\n",
    "collection = db.events\n",
    "pipeline = [\n",
    "    {\"$match\": {\"$and\": [\n",
    "        {\"status\": \"Cancelled\"}\n",
    "    ]}},\n",
    "    {\"$group\": {\"_id\": None, \"ids\": {\"$push\": \"$_id\"}}}\n",
    "]\n",
    "\n",
    "result = collection.aggregate(pipeline)\n",
    "deleted_count = 0\n",
    "for doc in result:\n",
    "    if \"ids\" in doc:\n",
    "        deleted_count = len(doc[\"ids\"])\n",
    "        collection.delete_many({\"_id\": {\"$in\": doc[\"ids\"]}})\n",
    "\n",
    "print(f\"{deleted_count} documents with status 'Cancelled' have been deleted.\")"
   ],
   "metadata": {
    "collapsed": false,
    "ExecuteTime": {
     "end_time": "2024-06-24T21:41:52.302439Z",
     "start_time": "2024-06-24T21:41:52.240173Z"
    }
   },
   "id": "fc1d4988d87215e0",
   "execution_count": 23
  },
  {
   "cell_type": "code",
   "outputs": [
    {
     "name": "stdout",
     "output_type": "stream",
     "text": [
      "60 documents have been updated - hostclub column cleaned.\n"
     ]
    }
   ],
   "source": [
    "# clean hostclub column \n",
    "def clean_spaces(text):\n",
    "    # remove \" Zürichsee-Segler-Verband\" if present\n",
    "    text = text.replace(\"Zürichsee-Segler-Verband\", \"\")\n",
    "    # replace multiple spaces with a single space\n",
    "    text = re.sub(r'\\s+', ' ', text)\n",
    "    # remove leading and trailing spaces\n",
    "    text = text.strip()\n",
    "    return text\n",
    "\n",
    "collection = db.events\n",
    "updated_count = 0  \n",
    "\n",
    "for document in collection.find():\n",
    "    if 'hostclub' in document:\n",
    "        # Clean the hostclub field\n",
    "        cleaned_hostclub = clean_spaces(document['hostclub'])\n",
    "        # Update the document in the database\n",
    "        update_result = collection.update_one({'_id': document['_id']}, {'$set': {'hostclub': cleaned_hostclub}})\n",
    "        if update_result.modified_count > 0:\n",
    "            updated_count += 1\n",
    "\n",
    "print(f\"{updated_count} documents have been updated - hostclub column cleaned.\")"
   ],
   "metadata": {
    "collapsed": false,
    "ExecuteTime": {
     "end_time": "2024-06-24T21:42:05.349656Z",
     "start_time": "2024-06-24T21:41:52.301875Z"
    }
   },
   "id": "b44307c2fa1bd1cb",
   "execution_count": 24
  },
  {
   "cell_type": "code",
   "outputs": [
    {
     "name": "stdout",
     "output_type": "stream",
     "text": [
      "427 documents have been formatted and updated.\n"
     ]
    }
   ],
   "source": [
    "# reformat the date columns\n",
    "import datetime # otherwise throws an error\n",
    "collection = db.events\n",
    "updated_count = 0\n",
    "\n",
    "for document in collection.find():\n",
    "    # check if fields are present\n",
    "    if 'year' in document and 'startdate' in document and 'enddate' in document:\n",
    "        # Construct full date strings\n",
    "        full_startdate_str = document['startdate'] + \" \" + str(int(document['year']))\n",
    "        full_enddate_str = document['enddate'] + \" \" + str(int(document['year']))\n",
    "        \n",
    "        # convert \n",
    "        startdate = datetime.datetime.strptime(full_startdate_str, \"%d.%m. %Y\")\n",
    "        enddate = datetime.datetime.strptime(full_enddate_str, \"%d.%m. %Y\")\n",
    "        \n",
    "        # update the document in the database with the formatted dates\n",
    "        update_result = collection.update_one(\n",
    "            {'_id': document['_id']},\n",
    "            {'$set': {\n",
    "                'iso_startdate': startdate.isoformat(),\n",
    "                'iso_enddate': enddate.isoformat(),\n",
    "                'startdate': startdate,\n",
    "                'enddate': enddate\n",
    "            }}\n",
    "        )\n",
    "        \n",
    "        if update_result.modified_count > 0:\n",
    "            updated_count += 1\n",
    "\n",
    "print(f\"{updated_count} documents have been formatted and updated.\")"
   ],
   "metadata": {
    "collapsed": false,
    "ExecuteTime": {
     "end_time": "2024-06-24T21:42:18.885876Z",
     "start_time": "2024-06-24T21:42:05.363261Z"
    }
   },
   "id": "ee78e3b676d3331f",
   "execution_count": 25
  },
  {
   "cell_type": "code",
   "outputs": [
    {
     "name": "stdout",
     "output_type": "stream",
     "text": [
      "427 documents have been updates to remove \n"
     ]
    }
   ],
   "source": [
    "# remove column 'year' from all documents\n",
    "collection = db.events\n",
    "\n",
    "updated_count = 0\n",
    "for document in collection.find():\n",
    "    # check if 'year' field is present\n",
    "    if 'year' in document:\n",
    "        # update document\n",
    "        update_result = collection.update_one(\n",
    "            {'_id': document['_id']},\n",
    "            {'$unset': {'year': ''}}\n",
    "        )\n",
    "\n",
    "        if update_result.modified_count > 0:\n",
    "            updated_count += 1\n",
    "\n",
    "print(f\"{updated_count} documents have been updates to remove \")"
   ],
   "metadata": {
    "collapsed": false,
    "ExecuteTime": {
     "end_time": "2024-06-24T21:42:33.624281Z",
     "start_time": "2024-06-24T21:42:18.889842Z"
    }
   },
   "id": "a8910ada5ef5a69f",
   "execution_count": 26
  },
  {
   "cell_type": "code",
   "outputs": [
    {
     "name": "stdout",
     "output_type": "stream",
     "text": [
      "427 documents have been updated with the link prefix.\n"
     ]
    }
   ],
   "source": [
    "# add prefix to all link, so it is complete\n",
    "collection = db.events\n",
    "updated_count = 0\n",
    "\n",
    "for document in collection.find():\n",
    "    # check if the document has a 'link' field\n",
    "    if 'link' in document:\n",
    "        # \"https://manage2sail.com\" as prefix of each link\n",
    "        updated_link = \"https://manage2sail.com\" + document['link']\n",
    "        \n",
    "        # update the document\n",
    "        update_result = collection.update_one(\n",
    "            {'_id': document['_id']},\n",
    "            {'$set': {'link': updated_link}}\n",
    "        )\n",
    "        \n",
    "        if update_result.modified_count > 0:\n",
    "            updated_count += 1\n",
    "\n",
    "print(f\"{updated_count} documents have been updated with the link prefix.\")"
   ],
   "metadata": {
    "collapsed": false,
    "ExecuteTime": {
     "end_time": "2024-06-24T21:42:48.461909Z",
     "start_time": "2024-06-24T21:42:33.622426Z"
    }
   },
   "id": "b413f1ad9293bbd3",
   "execution_count": 27
  },
  {
   "cell_type": "code",
   "outputs": [],
   "source": [],
   "metadata": {
    "collapsed": false,
    "ExecuteTime": {
     "end_time": "2024-06-24T21:42:48.462626Z",
     "start_time": "2024-06-24T21:42:48.457269Z"
    }
   },
   "id": "58ac24039517a956",
   "execution_count": 27
  }
 ],
 "metadata": {
  "kernelspec": {
   "display_name": "Python 3",
   "language": "python",
   "name": "python3"
  },
  "language_info": {
   "codemirror_mode": {
    "name": "ipython",
    "version": 2
   },
   "file_extension": ".py",
   "mimetype": "text/x-python",
   "name": "python",
   "nbconvert_exporter": "python",
   "pygments_lexer": "ipython2",
   "version": "2.7.6"
  }
 },
 "nbformat": 4,
 "nbformat_minor": 5
}
