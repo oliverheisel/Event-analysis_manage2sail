{
 "cells": [
  {
   "cell_type": "code",
   "execution_count": 18,
   "id": "initial_id",
   "metadata": {
    "collapsed": true,
    "ExecuteTime": {
     "end_time": "2024-05-05T08:49:08.893106Z",
     "start_time": "2024-05-05T08:49:08.889817Z"
    }
   },
   "outputs": [],
   "source": [
    "# Libraries\n",
    "import json\n",
    "import pymongo\n",
    "import requests\n",
    "from lxml import html\n",
    "import re"
   ]
  },
  {
   "cell_type": "code",
   "outputs": [
    {
     "name": "stdout",
     "output_type": "stream",
     "text": [
      "Database exists!\n"
     ]
    }
   ],
   "source": [
    "# Database connection\n",
    "\"\"\" in case you want to create your on database, just change this 3 variables according to your database. \n",
    "Database and collections will be created automatically.\"\"\"\n",
    "username = \"globaladmin\"\n",
    "password = \"UEKaeSc8Q3LK5naw\"\n",
    "db_url = \"cluster1.etdy2wm.mongodb.net\"\n",
    "\n",
    "# database string\n",
    "CNX_STR = f\"mongodb+srv://{username}:{password}@{db_url}/?connectTimeoutMS=50000\"\n",
    "client = pymongo.MongoClient(CNX_STR)\n",
    "\n",
    "# heck if the database exists\n",
    "if \"manage2sail\" in client.list_database_names():\n",
    "    print(\"Database exists!\")\n",
    "    db = client.manage2sail\n",
    "else:\n",
    "    db = client[\"manage2sail\"]\n",
    "    print(\"Database created!\")\n",
    "\n"
   ],
   "metadata": {
    "collapsed": false,
    "ExecuteTime": {
     "end_time": "2024-05-05T08:49:10.037584Z",
     "start_time": "2024-05-05T08:49:09.493801Z"
    }
   },
   "id": "58f990bb4444f39f",
   "execution_count": 19
  },
  {
   "cell_type": "code",
   "outputs": [
    {
     "name": "stdout",
     "output_type": "stream",
     "text": [
      "[{'year': '2023', 'startdate': '23.01.', 'enddate': '23.01.', 'nameevent': 'Wettfahrtregeln - Kurs I - Teil I\\nS', 'status': 'Finished', 'nation': 'SUI', 'city': 'Zürich', 'hostclub': 'Zürichsee-Segler-Verband', 'link': '/en-US/event/232096ab-a96f-48e3-b91e-ff1249d40c2a'}, {'year': '2023', 'startdate': '30.01.', 'enddate': '30.01.', 'nameevent': 'Wettfahrtregeln - Kurs I - Teil II\\nS', 'status': 'Finished', 'nation': 'SUI', 'city': 'Zürich', 'hostclub': 'Zürichsee-Segler-Verband', 'link': '/en-US/event/f2e3b835-51dd-4d91-9070-7010ec21f847'}, {'year': '2023', 'startdate': '31.01.', 'enddate': '31.01.', 'nameevent': 'Basiskurs für Offizielle - Kurs II - Teil I\\nS', 'status': 'Finished', 'nation': 'SUI', 'city': 'Zürich', 'hostclub': 'Zürichsee-Segler-Verband', 'link': '/en-US/event/38e912b5-fb9d-4263-b61c-060e996b8240'}, {'year': '2023', 'startdate': '06.02.', 'enddate': '06.02.', 'nameevent': 'Basiskurs für Offizielle - Kurs II - Teil II\\nS', 'status': 'Finished', 'nation': 'SUI', 'city': 'Zürich', 'hostclub': 'Zürichsee-Segler-Verband', 'link': '/en-US/event/4464e678-4f62-477d-b238-ab4c3c0d5d3f'}, {'year': '2023', 'startdate': '14.03.', 'enddate': '14.03.', 'nameevent': 'Spezialisierungskurs für NRO - Kurs III - Teil I\\nS', 'status': 'Finished', 'nation': 'SUI', 'city': 'Zürich', 'hostclub': 'Zürichsee-Segler-Verband', 'link': '/en-US/event/b23889a3-dff3-4bd6-a4cd-7158177c766f'}]\n",
      "Formatted data saved as manage2sail_eventlist.json\n"
     ]
    }
   ],
   "source": [
    "# scrape the data\n",
    "base_url = 'https://www.manage2sail.com/en-US/search'\n",
    "params = {\n",
    "    'filterYear': '2023',\n",
    "    'filterMonth': '',\n",
    "    'filterCountry': 'SUI',\n",
    "    'filterRegion': 'e3165406-2424-470e-9ec2-d9dac6c9b742',\n",
    "    'filterClass': '',\n",
    "    'filterClubId': '',\n",
    "    'filterScoring': '',\n",
    "    'paged': 'false',\n",
    "    'filterText': ''\n",
    "}\n",
    "\n",
    "all_data = []\n",
    "response = requests.get(base_url, params=params)\n",
    "\n",
    "if response.status_code == 200:\n",
    "    # Parse the HTML content\n",
    "    tree = html.fromstring(response.content)\n",
    "    table = tree.xpath('/html/body/div[2]/div[3]/div[2]/div/table')[0]\n",
    "    data = []\n",
    "\n",
    "    for row in table.xpath('./tbody/tr'):\n",
    "        row_data = [cell.text_content().strip() for cell in row.xpath('./td')]\n",
    "        link = row.xpath('./td[4]/a/@href')\n",
    "        row_data.append(link[0] if link else None)\n",
    "        data.append(row_data)\n",
    "\n",
    "    all_data.extend(data)\n",
    "else:\n",
    "    print(f\"Failed to retrieve page\")\n",
    "\n",
    "# print(all_data)\n",
    "\n",
    "formatted_data = [\n",
    "    {\n",
    "        'year': row[0],\n",
    "        'startdate': row[1],\n",
    "        'enddate': row[2],\n",
    "        'nameevent': row[3],\n",
    "        'status': row[4],\n",
    "        'nation': row[5],\n",
    "        'city': row[6],\n",
    "        'hostclub': row[7],\n",
    "        'link': row[8]\n",
    "    } for row in all_data\n",
    "]\n",
    "\n",
    "# To visualize the formatted data\n",
    "print(formatted_data[:5])  # Print the first 5 for brevity\n",
    "\n",
    "# Save formatted data as JSON\n",
    "#with open('manage2sail_eventlist.json', 'w') as f:\n",
    "#   json.dump(formatted_data, f, indent=4)\n",
    "\n",
    "print(\"Formatted data saved as manage2sail_eventlist.json\")"
   ],
   "metadata": {
    "collapsed": false,
    "ExecuteTime": {
     "end_time": "2024-05-05T08:49:11.144267Z",
     "start_time": "2024-05-05T08:49:10.744608Z"
    }
   },
   "id": "c621af96f667d727",
   "execution_count": 20
  },
  {
   "cell_type": "code",
   "outputs": [
    {
     "data": {
      "text/plain": "InsertManyResult([ObjectId('66374809fa39d5c02e09cac4'), ObjectId('66374809fa39d5c02e09cac5'), ObjectId('66374809fa39d5c02e09cac6'), ObjectId('66374809fa39d5c02e09cac7'), ObjectId('66374809fa39d5c02e09cac8'), ObjectId('66374809fa39d5c02e09cac9'), ObjectId('66374809fa39d5c02e09caca'), ObjectId('66374809fa39d5c02e09cacb'), ObjectId('66374809fa39d5c02e09cacc'), ObjectId('66374809fa39d5c02e09cacd'), ObjectId('66374809fa39d5c02e09cace'), ObjectId('66374809fa39d5c02e09cacf'), ObjectId('66374809fa39d5c02e09cad0'), ObjectId('66374809fa39d5c02e09cad1'), ObjectId('66374809fa39d5c02e09cad2'), ObjectId('66374809fa39d5c02e09cad3'), ObjectId('66374809fa39d5c02e09cad4'), ObjectId('66374809fa39d5c02e09cad5'), ObjectId('66374809fa39d5c02e09cad6'), ObjectId('66374809fa39d5c02e09cad7'), ObjectId('66374809fa39d5c02e09cad8'), ObjectId('66374809fa39d5c02e09cad9'), ObjectId('66374809fa39d5c02e09cada'), ObjectId('66374809fa39d5c02e09cadb'), ObjectId('66374809fa39d5c02e09cadc'), ObjectId('66374809fa39d5c02e09cadd'), ObjectId('66374809fa39d5c02e09cade'), ObjectId('66374809fa39d5c02e09cadf'), ObjectId('66374809fa39d5c02e09cae0'), ObjectId('66374809fa39d5c02e09cae1'), ObjectId('66374809fa39d5c02e09cae2'), ObjectId('66374809fa39d5c02e09cae3'), ObjectId('66374809fa39d5c02e09cae4'), ObjectId('66374809fa39d5c02e09cae5'), ObjectId('66374809fa39d5c02e09cae6'), ObjectId('66374809fa39d5c02e09cae7'), ObjectId('66374809fa39d5c02e09cae8'), ObjectId('66374809fa39d5c02e09cae9'), ObjectId('66374809fa39d5c02e09caea'), ObjectId('66374809fa39d5c02e09caeb'), ObjectId('66374809fa39d5c02e09caec'), ObjectId('66374809fa39d5c02e09caed'), ObjectId('66374809fa39d5c02e09caee'), ObjectId('66374809fa39d5c02e09caef'), ObjectId('66374809fa39d5c02e09caf0'), ObjectId('66374809fa39d5c02e09caf1'), ObjectId('66374809fa39d5c02e09caf2'), ObjectId('66374809fa39d5c02e09caf3'), ObjectId('66374809fa39d5c02e09caf4'), ObjectId('66374809fa39d5c02e09caf5'), ObjectId('66374809fa39d5c02e09caf6'), ObjectId('66374809fa39d5c02e09caf7'), ObjectId('66374809fa39d5c02e09caf8'), ObjectId('66374809fa39d5c02e09caf9'), ObjectId('66374809fa39d5c02e09cafa'), ObjectId('66374809fa39d5c02e09cafb'), ObjectId('66374809fa39d5c02e09cafc'), ObjectId('66374809fa39d5c02e09cafd'), ObjectId('66374809fa39d5c02e09cafe'), ObjectId('66374809fa39d5c02e09caff'), ObjectId('66374809fa39d5c02e09cb00'), ObjectId('66374809fa39d5c02e09cb01'), ObjectId('66374809fa39d5c02e09cb02'), ObjectId('66374809fa39d5c02e09cb03'), ObjectId('66374809fa39d5c02e09cb04'), ObjectId('66374809fa39d5c02e09cb05'), ObjectId('66374809fa39d5c02e09cb06'), ObjectId('66374809fa39d5c02e09cb07'), ObjectId('66374809fa39d5c02e09cb08'), ObjectId('66374809fa39d5c02e09cb09'), ObjectId('66374809fa39d5c02e09cb0a'), ObjectId('66374809fa39d5c02e09cb0b'), ObjectId('66374809fa39d5c02e09cb0c'), ObjectId('66374809fa39d5c02e09cb0d'), ObjectId('66374809fa39d5c02e09cb0e')], acknowledged=True)"
     },
     "execution_count": 21,
     "metadata": {},
     "output_type": "execute_result"
    }
   ],
   "source": [
    "#Load data to db\n",
    "db.events.insert_many(formatted_data)"
   ],
   "metadata": {
    "collapsed": false,
    "ExecuteTime": {
     "end_time": "2024-05-05T08:49:13.752620Z",
     "start_time": "2024-05-05T08:49:13.670601Z"
    }
   },
   "id": "19ed8a44588b4e7",
   "execution_count": 21
  },
  {
   "cell_type": "code",
   "outputs": [
    {
     "name": "stdout",
     "output_type": "stream",
     "text": [
      "8 documents with nameevent containing '\\s' (seminar)  have been deleted.\n"
     ]
    }
   ],
   "source": [
    "# remove all events that are seminar (eventname contains \"\\nS$\")\n",
    "collection = db.events\n",
    "filter_criteria = {\"nameevent\": { \"$regex\": \"\\nS$\", \"$options\": \"i\" }}\n",
    "result = collection.delete_many(filter_criteria)\n",
    "\n",
    "deleted_count = result.deleted_count\n",
    "print(f\"{deleted_count} documents with nameevent containing '\\s' (seminar)  have been deleted.\")"
   ],
   "metadata": {
    "collapsed": false,
    "ExecuteTime": {
     "end_time": "2024-05-05T08:49:14.473088Z",
     "start_time": "2024-05-05T08:49:14.428103Z"
    }
   },
   "id": "394d1b24257b0a5a",
   "execution_count": 22
  },
  {
   "cell_type": "code",
   "outputs": [
    {
     "name": "stdout",
     "output_type": "stream",
     "text": [
      "2 documents with eventname containing 'jeden' have been deleted.\n"
     ]
    }
   ],
   "source": [
    "# remove all events that contain \"jeden\" in their nameevent inidactin a weekliy recuring event\n",
    "collection = db.events\n",
    "pipeline = [\n",
    "    {\"$match\": {\"nameevent\": {\"$regex\": \"jeden\", \"$options\": \"i\"}}},\n",
    "    {\"$group\": {\"_id\": None, \"ids\": {\"$push\": \"$_id\"}}}\n",
    "]\n",
    "\n",
    "result = collection.aggregate(pipeline)\n",
    "deleted_count = 0\n",
    "for doc in result:\n",
    "    if \"ids\" in doc:\n",
    "        deleted_count = len(doc[\"ids\"])\n",
    "        collection.delete_many({\"_id\": {\"$in\": doc[\"ids\"]}})\n",
    "\n",
    "print(f\"{deleted_count} documents with eventname containing 'jeden' have been deleted.\")"
   ],
   "metadata": {
    "collapsed": false,
    "ExecuteTime": {
     "end_time": "2024-05-05T08:49:15.923442Z",
     "start_time": "2024-05-05T08:49:15.856817Z"
    }
   },
   "id": "b927f9df61cb1bf5",
   "execution_count": 23
  },
  {
   "cell_type": "code",
   "outputs": [
    {
     "name": "stdout",
     "output_type": "stream",
     "text": [
      "0 documents with status 'gelöscht' have been deleted.\n"
     ]
    }
   ],
   "source": [
    "# delete all events with status \"gelöscht\" (deleted events)\n",
    "collection = db.events\n",
    "pipeline = [\n",
    "    {\"$match\": {\"$and\": [\n",
    "        {\"status\": \"gelöscht\"}\n",
    "    ]}},\n",
    "    {\"$group\": {\"_id\": None, \"ids\": {\"$push\": \"$_id\"}}}\n",
    "]\n",
    "\n",
    "result = collection.aggregate(pipeline)\n",
    "deleted_count = 0\n",
    "for doc in result:\n",
    "    if \"ids\" in doc:\n",
    "        deleted_count = len(doc[\"ids\"])\n",
    "        collection.delete_many({\"_id\": {\"$in\": doc[\"ids\"]}})\n",
    "\n",
    "print(f\"{deleted_count} documents with status 'gelöscht' have been deleted.\")"
   ],
   "metadata": {
    "collapsed": false,
    "ExecuteTime": {
     "end_time": "2024-05-05T08:49:17.510349Z",
     "start_time": "2024-05-05T08:49:17.483050Z"
    }
   },
   "id": "fc1d4988d87215e0",
   "execution_count": 24
  },
  {
   "cell_type": "code",
   "outputs": [
    {
     "name": "stdout",
     "output_type": "stream",
     "text": [
      "9 documents have been updated - hostclub column cleaned.\n"
     ]
    }
   ],
   "source": [
    "# clean hostclub column \n",
    "def clean_spaces(text):\n",
    "    # remove \" Zürichsee-Segler-Verband\" if present\n",
    "    text = text.replace(\"Zürichsee-Segler-Verband\", \"\")\n",
    "    # replace multiple spaces with a single space\n",
    "    text = re.sub(r'\\s+', ' ', text)\n",
    "    # remove leading and trailing spaces\n",
    "    text = text.strip()\n",
    "    return text\n",
    "\n",
    "collection = db.events\n",
    "updated_count = 0  \n",
    "\n",
    "for document in collection.find():\n",
    "    if 'hostclub' in document:\n",
    "        # Clean the hostclub field\n",
    "        cleaned_hostclub = clean_spaces(document['hostclub'])\n",
    "        # Update the document in the database\n",
    "        update_result = collection.update_one({'_id': document['_id']}, {'$set': {'hostclub': cleaned_hostclub}})\n",
    "        if update_result.modified_count > 0:\n",
    "            updated_count += 1\n",
    "\n",
    "print(f\"{updated_count} documents have been updated - hostclub column cleaned.\")"
   ],
   "metadata": {
    "collapsed": false,
    "ExecuteTime": {
     "end_time": "2024-05-05T08:49:21.148412Z",
     "start_time": "2024-05-05T08:49:19.005239Z"
    }
   },
   "id": "b44307c2fa1bd1cb",
   "execution_count": 25
  },
  {
   "cell_type": "code",
   "outputs": [
    {
     "name": "stdout",
     "output_type": "stream",
     "text": [
      "65 documents have been formatted and updated.\n"
     ]
    }
   ],
   "source": [
    "# reformat the date columns\n",
    "import datetime # otherwise throws an error\n",
    "collection = db.events\n",
    "updated_count = 0\n",
    "\n",
    "for document in collection.find():\n",
    "    # check if fields are present\n",
    "    if 'year' in document and 'startdate' in document and 'enddate' in document:\n",
    "        # Construct full date strings\n",
    "        full_startdate_str = document['startdate'] + \" \" + str(int(document['year']))\n",
    "        full_enddate_str = document['enddate'] + \" \" + str(int(document['year']))\n",
    "        \n",
    "        # convert \n",
    "        startdate = datetime.datetime.strptime(full_startdate_str, \"%d.%m. %Y\")\n",
    "        enddate = datetime.datetime.strptime(full_enddate_str, \"%d.%m. %Y\")\n",
    "        \n",
    "        # update the document in the database with the formatted dates\n",
    "        update_result = collection.update_one(\n",
    "            {'_id': document['_id']},\n",
    "            {'$set': {\n",
    "                'iso_startdate': startdate.isoformat(),\n",
    "                'iso_enddate': enddate.isoformat(),\n",
    "                'startdate': startdate,\n",
    "                'enddate': enddate\n",
    "            }}\n",
    "        )\n",
    "        \n",
    "        if update_result.modified_count > 0:\n",
    "            updated_count += 1\n",
    "\n",
    "print(f\"{updated_count} documents have been formatted and updated.\")"
   ],
   "metadata": {
    "collapsed": false,
    "ExecuteTime": {
     "end_time": "2024-05-05T08:49:24.834580Z",
     "start_time": "2024-05-05T08:49:22.356781Z"
    }
   },
   "id": "ee78e3b676d3331f",
   "execution_count": 26
  },
  {
   "cell_type": "code",
   "outputs": [
    {
     "name": "stdout",
     "output_type": "stream",
     "text": [
      "65 documents have been updates to remove \n"
     ]
    }
   ],
   "source": [
    "# remove column 'year' from all documents\n",
    "collection = db.events\n",
    "\n",
    "updated_count = 0\n",
    "for document in collection.find():\n",
    "    # check if 'year' field is present\n",
    "    if 'year' in document:\n",
    "        # update document\n",
    "        update_result = collection.update_one(\n",
    "            {'_id': document['_id']},\n",
    "            {'$unset': {'year': ''}}\n",
    "        )\n",
    "\n",
    "        if update_result.modified_count > 0:\n",
    "            updated_count += 1\n",
    "\n",
    "print(f\"{updated_count} documents have been updates to remove \")"
   ],
   "metadata": {
    "collapsed": false,
    "ExecuteTime": {
     "end_time": "2024-05-05T08:49:29.772316Z",
     "start_time": "2024-05-05T08:49:27.308066Z"
    }
   },
   "id": "a8910ada5ef5a69f",
   "execution_count": 27
  },
  {
   "cell_type": "code",
   "outputs": [
    {
     "name": "stdout",
     "output_type": "stream",
     "text": [
      "65 documents have been updated with the link prefix.\n"
     ]
    }
   ],
   "source": [
    "# add prefix to all link, so it is complete\n",
    "collection = db.events\n",
    "updated_count = 0\n",
    "\n",
    "for document in collection.find():\n",
    "    # check if the document has a 'link' field\n",
    "    if 'link' in document:\n",
    "        # \"https://manage2sail.com\" as prefix of each link\n",
    "        updated_link = \"https://manage2sail.com\" + document['link']\n",
    "        \n",
    "        # update the document\n",
    "        update_result = collection.update_one(\n",
    "            {'_id': document['_id']},\n",
    "            {'$set': {'link': updated_link}}\n",
    "        )\n",
    "        \n",
    "        if update_result.modified_count > 0:\n",
    "            updated_count += 1\n",
    "\n",
    "print(f\"{updated_count} documents have been updated with the link prefix.\")"
   ],
   "metadata": {
    "collapsed": false,
    "ExecuteTime": {
     "end_time": "2024-05-05T08:49:33.000038Z",
     "start_time": "2024-05-05T08:49:30.474877Z"
    }
   },
   "id": "b413f1ad9293bbd3",
   "execution_count": 28
  },
  {
   "cell_type": "code",
   "outputs": [],
   "source": [],
   "metadata": {
    "collapsed": false
   },
   "id": "58ac24039517a956"
  }
 ],
 "metadata": {
  "kernelspec": {
   "display_name": "Python 3",
   "language": "python",
   "name": "python3"
  },
  "language_info": {
   "codemirror_mode": {
    "name": "ipython",
    "version": 2
   },
   "file_extension": ".py",
   "mimetype": "text/x-python",
   "name": "python",
   "nbconvert_exporter": "python",
   "pygments_lexer": "ipython2",
   "version": "2.7.6"
  }
 },
 "nbformat": 4,
 "nbformat_minor": 5
}
