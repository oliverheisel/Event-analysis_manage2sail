{
 "cells": [
  {
   "cell_type": "code",
   "execution_count": 64,
   "id": "initial_id",
   "metadata": {
    "collapsed": true,
    "ExecuteTime": {
     "end_time": "2024-05-14T09:07:16.218098Z",
     "start_time": "2024-05-14T09:07:16.202531Z"
    }
   },
   "outputs": [],
   "source": [
    "# Libraries\n",
    "import json\n",
    "import pymongo\n",
    "import requests\n",
    "from lxml import html\n",
    "import re"
   ]
  },
  {
   "cell_type": "code",
   "outputs": [
    {
     "name": "stdout",
     "output_type": "stream",
     "text": [
      "Database exists!\n"
     ]
    }
   ],
   "source": [
    "# Database connection\n",
    "\"\"\" in case you want to create your on database, just change this 3 variables according to your database. \n",
    "Database and collections will be created automatically.\"\"\"\n",
    "username = \"globaladmin\"\n",
    "password = \"UEKaeSc8Q3LK5naw\"\n",
    "db_url = \"cluster1.etdy2wm.mongodb.net\"\n",
    "\n",
    "# database string\n",
    "CNX_STR = f\"mongodb+srv://{username}:{password}@{db_url}/?connectTimeoutMS=50000\"\n",
    "client = pymongo.MongoClient(CNX_STR)\n",
    "\n",
    "# heck if the database exists\n",
    "if \"manage2sail\" in client.list_database_names():\n",
    "    print(\"Database exists!\")\n",
    "    db = client.manage2sail\n",
    "else:\n",
    "    db = client[\"manage2sail\"]\n",
    "    print(\"Database created!\")\n",
    "\n"
   ],
   "metadata": {
    "collapsed": false,
    "ExecuteTime": {
     "end_time": "2024-05-14T09:07:16.712071Z",
     "start_time": "2024-05-14T09:07:16.220132Z"
    }
   },
   "id": "58f990bb4444f39f",
   "execution_count": 65
  },
  {
   "cell_type": "code",
   "outputs": [
    {
     "name": "stdout",
     "output_type": "stream",
     "text": [
      "[{'year': '2023', 'startdate': '01.01.', 'enddate': '08.01.', 'nameevent': '29er Wintertraining Camp III', 'status': 'Cancelled', 'nation': '', 'city': '', 'hostclub': 'Regionalverband Bodensee/Rhein', 'link': '/en-US/event/c5e5bda4-0140-42cc-ae8b-1cec508c5d95'}, {'year': '2023', 'startdate': '01.01.', 'enddate': '02.04.', 'nameevent': \"Challenge d'Hiver 22-23\", 'status': 'Finished', 'nation': 'SUI', 'city': 'Lausanne', 'hostclub': 'Cercle de la voile de Vidy', 'link': '/en-US/event/9358826e-1e64-488a-96cb-2ddeb5c544bc'}, {'year': '2023', 'startdate': '08.01.', 'enddate': '08.01.', 'nameevent': 'Rois', 'status': 'Finished', 'nation': 'SUI', 'city': 'Villeneuve', 'hostclub': 'Cercle de la voile de Villeneuve', 'link': '/en-US/event/gratuit'}, {'year': '2023', 'startdate': '13.01.', 'enddate': '15.01.', 'nameevent': 'ACVL TRAINING FOR -- 29er - Hyères (winter training #4)', 'status': 'Closed', 'nation': 'FRA', 'city': 'HYERES', 'hostclub': 'Association des Clubs de Voile Lémaniques', 'link': '/en-US/event/6cff02ef-6b79-4ee2-877d-47f56186f1c3'}, {'year': '2023', 'startdate': '18.01.', 'enddate': '08.02.', 'nameevent': 'Corso 1.2 UdR base', 'status': 'Finished', 'nation': 'SUI', 'city': 'Lugano', 'hostclub': 'Federazione Ticinese della Vela', 'link': '/en-US/event/cc6706f9-98d4-479f-9a0f-0c846725a8ff'}]\n"
     ]
    }
   ],
   "source": [
    "# scrape the data\n",
    "base_url = 'https://www.manage2sail.com/en-US/search'\n",
    "params = {\n",
    "    'filterYear': '2023',\n",
    "    'filterMonth': '',\n",
    "    'filterCountry': 'SUI',\n",
    "    #'filterRegion': 'e3165406-2424-470e-9ec2-d9dac6c9b742', # Zürichsee\n",
    "    'filterRegion': '',\n",
    "    'filterClass': '',\n",
    "    'filterClubId': '',\n",
    "    'filterScoring': '',\n",
    "    'paged': 'false',\n",
    "    'filterText': ''\n",
    "}\n",
    "\n",
    "all_data = []\n",
    "response = requests.get(base_url, params=params)\n",
    "\n",
    "if response.status_code == 200:\n",
    "    # Parse the HTML content\n",
    "    tree = html.fromstring(response.content)\n",
    "    table = tree.xpath('/html/body/div[2]/div[3]/div[2]/div/table')[0]\n",
    "    data = []\n",
    "\n",
    "    for row in table.xpath('./tbody/tr'):\n",
    "        row_data = [cell.text_content().strip() for cell in row.xpath('./td')]\n",
    "        link = row.xpath('./td[4]/a/@href')\n",
    "        row_data.append(link[0] if link else None)\n",
    "        data.append(row_data)\n",
    "\n",
    "    all_data.extend(data)\n",
    "else:\n",
    "    print(f\"Failed to retrieve page\")\n",
    "\n",
    "# print(all_data)\n",
    "\n",
    "formatted_data = [\n",
    "    {\n",
    "        'year': row[0],\n",
    "        'startdate': row[1],\n",
    "        'enddate': row[2],\n",
    "        'nameevent': row[3],\n",
    "        'status': row[4],\n",
    "        'nation': row[5],\n",
    "        'city': row[6],\n",
    "        'hostclub': row[7],\n",
    "        'link': row[8]\n",
    "    } for row in all_data\n",
    "]\n",
    "\n",
    "# To visualize the formatted data\n",
    "print(formatted_data[:5])  # Print the first 5 for brevity"
   ],
   "metadata": {
    "collapsed": false,
    "ExecuteTime": {
     "end_time": "2024-05-14T09:07:17.029897Z",
     "start_time": "2024-05-14T09:07:16.713293Z"
    }
   },
   "id": "c621af96f667d727",
   "execution_count": 66
  },
  {
   "cell_type": "code",
   "outputs": [
    {
     "data": {
      "text/plain": "InsertManyResult([ObjectId('664329c525915a6c500e1255'), ObjectId('664329c525915a6c500e1256'), ObjectId('664329c525915a6c500e1257'), ObjectId('664329c525915a6c500e1258'), ObjectId('664329c525915a6c500e1259'), ObjectId('664329c525915a6c500e125a'), ObjectId('664329c525915a6c500e125b'), ObjectId('664329c525915a6c500e125c'), ObjectId('664329c525915a6c500e125d'), ObjectId('664329c525915a6c500e125e'), ObjectId('664329c525915a6c500e125f'), ObjectId('664329c525915a6c500e1260'), ObjectId('664329c525915a6c500e1261'), ObjectId('664329c525915a6c500e1262'), ObjectId('664329c525915a6c500e1263'), ObjectId('664329c525915a6c500e1264'), ObjectId('664329c525915a6c500e1265'), ObjectId('664329c525915a6c500e1266'), ObjectId('664329c525915a6c500e1267'), ObjectId('664329c525915a6c500e1268'), ObjectId('664329c525915a6c500e1269'), ObjectId('664329c525915a6c500e126a'), ObjectId('664329c525915a6c500e126b'), ObjectId('664329c525915a6c500e126c'), ObjectId('664329c525915a6c500e126d'), ObjectId('664329c525915a6c500e126e'), ObjectId('664329c525915a6c500e126f'), ObjectId('664329c525915a6c500e1270'), ObjectId('664329c525915a6c500e1271'), ObjectId('664329c525915a6c500e1272'), ObjectId('664329c525915a6c500e1273'), ObjectId('664329c525915a6c500e1274'), ObjectId('664329c525915a6c500e1275'), ObjectId('664329c525915a6c500e1276'), ObjectId('664329c525915a6c500e1277'), ObjectId('664329c525915a6c500e1278'), ObjectId('664329c525915a6c500e1279'), ObjectId('664329c525915a6c500e127a'), ObjectId('664329c525915a6c500e127b'), ObjectId('664329c525915a6c500e127c'), ObjectId('664329c525915a6c500e127d'), ObjectId('664329c525915a6c500e127e'), ObjectId('664329c525915a6c500e127f'), ObjectId('664329c525915a6c500e1280'), ObjectId('664329c525915a6c500e1281'), ObjectId('664329c525915a6c500e1282'), ObjectId('664329c525915a6c500e1283'), ObjectId('664329c525915a6c500e1284'), ObjectId('664329c525915a6c500e1285'), ObjectId('664329c525915a6c500e1286'), ObjectId('664329c525915a6c500e1287'), ObjectId('664329c525915a6c500e1288'), ObjectId('664329c525915a6c500e1289'), ObjectId('664329c525915a6c500e128a'), ObjectId('664329c525915a6c500e128b'), ObjectId('664329c525915a6c500e128c'), ObjectId('664329c525915a6c500e128d'), ObjectId('664329c525915a6c500e128e'), ObjectId('664329c525915a6c500e128f'), ObjectId('664329c525915a6c500e1290'), ObjectId('664329c525915a6c500e1291'), ObjectId('664329c525915a6c500e1292'), ObjectId('664329c525915a6c500e1293'), ObjectId('664329c525915a6c500e1294'), ObjectId('664329c525915a6c500e1295'), ObjectId('664329c525915a6c500e1296'), ObjectId('664329c525915a6c500e1297'), ObjectId('664329c525915a6c500e1298'), ObjectId('664329c525915a6c500e1299'), ObjectId('664329c525915a6c500e129a'), ObjectId('664329c525915a6c500e129b'), ObjectId('664329c525915a6c500e129c'), ObjectId('664329c525915a6c500e129d'), ObjectId('664329c525915a6c500e129e'), ObjectId('664329c525915a6c500e129f'), ObjectId('664329c525915a6c500e12a0'), ObjectId('664329c525915a6c500e12a1'), ObjectId('664329c525915a6c500e12a2'), ObjectId('664329c525915a6c500e12a3'), ObjectId('664329c525915a6c500e12a4'), ObjectId('664329c525915a6c500e12a5'), ObjectId('664329c525915a6c500e12a6'), ObjectId('664329c525915a6c500e12a7'), ObjectId('664329c525915a6c500e12a8'), ObjectId('664329c525915a6c500e12a9'), ObjectId('664329c525915a6c500e12aa'), ObjectId('664329c525915a6c500e12ab'), ObjectId('664329c525915a6c500e12ac'), ObjectId('664329c525915a6c500e12ad'), ObjectId('664329c525915a6c500e12ae'), ObjectId('664329c525915a6c500e12af'), ObjectId('664329c525915a6c500e12b0'), ObjectId('664329c525915a6c500e12b1'), ObjectId('664329c525915a6c500e12b2'), ObjectId('664329c525915a6c500e12b3'), ObjectId('664329c525915a6c500e12b4'), ObjectId('664329c525915a6c500e12b5'), ObjectId('664329c525915a6c500e12b6'), ObjectId('664329c525915a6c500e12b7'), ObjectId('664329c525915a6c500e12b8'), ObjectId('664329c525915a6c500e12b9'), ObjectId('664329c525915a6c500e12ba'), ObjectId('664329c525915a6c500e12bb'), ObjectId('664329c525915a6c500e12bc'), ObjectId('664329c525915a6c500e12bd'), ObjectId('664329c525915a6c500e12be'), ObjectId('664329c525915a6c500e12bf'), ObjectId('664329c525915a6c500e12c0'), ObjectId('664329c525915a6c500e12c1'), ObjectId('664329c525915a6c500e12c2'), ObjectId('664329c525915a6c500e12c3'), ObjectId('664329c525915a6c500e12c4'), ObjectId('664329c525915a6c500e12c5'), ObjectId('664329c525915a6c500e12c6'), ObjectId('664329c525915a6c500e12c7'), ObjectId('664329c525915a6c500e12c8'), ObjectId('664329c525915a6c500e12c9'), ObjectId('664329c525915a6c500e12ca'), ObjectId('664329c525915a6c500e12cb'), ObjectId('664329c525915a6c500e12cc'), ObjectId('664329c525915a6c500e12cd'), ObjectId('664329c525915a6c500e12ce'), ObjectId('664329c525915a6c500e12cf'), ObjectId('664329c525915a6c500e12d0'), ObjectId('664329c525915a6c500e12d1'), ObjectId('664329c525915a6c500e12d2'), ObjectId('664329c525915a6c500e12d3'), ObjectId('664329c525915a6c500e12d4'), ObjectId('664329c525915a6c500e12d5'), ObjectId('664329c525915a6c500e12d6'), ObjectId('664329c525915a6c500e12d7'), ObjectId('664329c525915a6c500e12d8'), ObjectId('664329c525915a6c500e12d9'), ObjectId('664329c525915a6c500e12da'), ObjectId('664329c525915a6c500e12db'), ObjectId('664329c525915a6c500e12dc'), ObjectId('664329c525915a6c500e12dd'), ObjectId('664329c525915a6c500e12de'), ObjectId('664329c525915a6c500e12df'), ObjectId('664329c525915a6c500e12e0'), ObjectId('664329c525915a6c500e12e1'), ObjectId('664329c525915a6c500e12e2'), ObjectId('664329c525915a6c500e12e3'), ObjectId('664329c525915a6c500e12e4'), ObjectId('664329c525915a6c500e12e5'), ObjectId('664329c525915a6c500e12e6'), ObjectId('664329c525915a6c500e12e7'), ObjectId('664329c525915a6c500e12e8'), ObjectId('664329c525915a6c500e12e9'), ObjectId('664329c525915a6c500e12ea'), ObjectId('664329c525915a6c500e12eb'), ObjectId('664329c525915a6c500e12ec'), ObjectId('664329c525915a6c500e12ed'), ObjectId('664329c525915a6c500e12ee'), ObjectId('664329c525915a6c500e12ef'), ObjectId('664329c525915a6c500e12f0'), ObjectId('664329c525915a6c500e12f1'), ObjectId('664329c525915a6c500e12f2'), ObjectId('664329c525915a6c500e12f3'), ObjectId('664329c525915a6c500e12f4'), ObjectId('664329c525915a6c500e12f5'), ObjectId('664329c525915a6c500e12f6'), ObjectId('664329c525915a6c500e12f7'), ObjectId('664329c525915a6c500e12f8'), ObjectId('664329c525915a6c500e12f9'), ObjectId('664329c525915a6c500e12fa'), ObjectId('664329c525915a6c500e12fb'), ObjectId('664329c525915a6c500e12fc'), ObjectId('664329c525915a6c500e12fd'), ObjectId('664329c525915a6c500e12fe'), ObjectId('664329c525915a6c500e12ff'), ObjectId('664329c525915a6c500e1300'), ObjectId('664329c525915a6c500e1301'), ObjectId('664329c525915a6c500e1302'), ObjectId('664329c525915a6c500e1303'), ObjectId('664329c525915a6c500e1304'), ObjectId('664329c525915a6c500e1305'), ObjectId('664329c525915a6c500e1306'), ObjectId('664329c525915a6c500e1307'), ObjectId('664329c525915a6c500e1308'), ObjectId('664329c525915a6c500e1309'), ObjectId('664329c525915a6c500e130a'), ObjectId('664329c525915a6c500e130b'), ObjectId('664329c525915a6c500e130c'), ObjectId('664329c525915a6c500e130d'), ObjectId('664329c525915a6c500e130e'), ObjectId('664329c525915a6c500e130f'), ObjectId('664329c525915a6c500e1310'), ObjectId('664329c525915a6c500e1311'), ObjectId('664329c525915a6c500e1312'), ObjectId('664329c525915a6c500e1313'), ObjectId('664329c525915a6c500e1314'), ObjectId('664329c525915a6c500e1315'), ObjectId('664329c525915a6c500e1316'), ObjectId('664329c525915a6c500e1317'), ObjectId('664329c525915a6c500e1318'), ObjectId('664329c525915a6c500e1319'), ObjectId('664329c525915a6c500e131a'), ObjectId('664329c525915a6c500e131b'), ObjectId('664329c525915a6c500e131c'), ObjectId('664329c525915a6c500e131d'), ObjectId('664329c525915a6c500e131e'), ObjectId('664329c525915a6c500e131f'), ObjectId('664329c525915a6c500e1320'), ObjectId('664329c525915a6c500e1321'), ObjectId('664329c525915a6c500e1322'), ObjectId('664329c525915a6c500e1323'), ObjectId('664329c525915a6c500e1324'), ObjectId('664329c525915a6c500e1325'), ObjectId('664329c525915a6c500e1326'), ObjectId('664329c525915a6c500e1327'), ObjectId('664329c525915a6c500e1328'), ObjectId('664329c525915a6c500e1329'), ObjectId('664329c525915a6c500e132a'), ObjectId('664329c525915a6c500e132b'), ObjectId('664329c525915a6c500e132c'), ObjectId('664329c525915a6c500e132d'), ObjectId('664329c525915a6c500e132e'), ObjectId('664329c525915a6c500e132f'), ObjectId('664329c525915a6c500e1330'), ObjectId('664329c525915a6c500e1331'), ObjectId('664329c525915a6c500e1332'), ObjectId('664329c525915a6c500e1333'), ObjectId('664329c525915a6c500e1334'), ObjectId('664329c525915a6c500e1335'), ObjectId('664329c525915a6c500e1336'), ObjectId('664329c525915a6c500e1337'), ObjectId('664329c525915a6c500e1338'), ObjectId('664329c525915a6c500e1339'), ObjectId('664329c525915a6c500e133a'), ObjectId('664329c525915a6c500e133b'), ObjectId('664329c525915a6c500e133c'), ObjectId('664329c525915a6c500e133d'), ObjectId('664329c525915a6c500e133e'), ObjectId('664329c525915a6c500e133f'), ObjectId('664329c525915a6c500e1340'), ObjectId('664329c525915a6c500e1341'), ObjectId('664329c525915a6c500e1342'), ObjectId('664329c525915a6c500e1343'), ObjectId('664329c525915a6c500e1344'), ObjectId('664329c525915a6c500e1345'), ObjectId('664329c525915a6c500e1346'), ObjectId('664329c525915a6c500e1347'), ObjectId('664329c525915a6c500e1348'), ObjectId('664329c525915a6c500e1349'), ObjectId('664329c525915a6c500e134a'), ObjectId('664329c525915a6c500e134b'), ObjectId('664329c525915a6c500e134c'), ObjectId('664329c525915a6c500e134d'), ObjectId('664329c525915a6c500e134e'), ObjectId('664329c525915a6c500e134f'), ObjectId('664329c525915a6c500e1350'), ObjectId('664329c525915a6c500e1351'), ObjectId('664329c525915a6c500e1352'), ObjectId('664329c525915a6c500e1353'), ObjectId('664329c525915a6c500e1354'), ObjectId('664329c525915a6c500e1355'), ObjectId('664329c525915a6c500e1356'), ObjectId('664329c525915a6c500e1357'), ObjectId('664329c525915a6c500e1358'), ObjectId('664329c525915a6c500e1359'), ObjectId('664329c525915a6c500e135a'), ObjectId('664329c525915a6c500e135b'), ObjectId('664329c525915a6c500e135c'), ObjectId('664329c525915a6c500e135d'), ObjectId('664329c525915a6c500e135e'), ObjectId('664329c525915a6c500e135f'), ObjectId('664329c525915a6c500e1360'), ObjectId('664329c525915a6c500e1361'), ObjectId('664329c525915a6c500e1362'), ObjectId('664329c525915a6c500e1363'), ObjectId('664329c525915a6c500e1364'), ObjectId('664329c525915a6c500e1365'), ObjectId('664329c525915a6c500e1366'), ObjectId('664329c525915a6c500e1367'), ObjectId('664329c525915a6c500e1368'), ObjectId('664329c525915a6c500e1369'), ObjectId('664329c525915a6c500e136a'), ObjectId('664329c525915a6c500e136b'), ObjectId('664329c525915a6c500e136c'), ObjectId('664329c525915a6c500e136d'), ObjectId('664329c525915a6c500e136e'), ObjectId('664329c525915a6c500e136f'), ObjectId('664329c525915a6c500e1370'), ObjectId('664329c525915a6c500e1371'), ObjectId('664329c525915a6c500e1372'), ObjectId('664329c525915a6c500e1373'), ObjectId('664329c525915a6c500e1374'), ObjectId('664329c525915a6c500e1375'), ObjectId('664329c525915a6c500e1376'), ObjectId('664329c525915a6c500e1377'), ObjectId('664329c525915a6c500e1378'), ObjectId('664329c525915a6c500e1379'), ObjectId('664329c525915a6c500e137a'), ObjectId('664329c525915a6c500e137b'), ObjectId('664329c525915a6c500e137c'), ObjectId('664329c525915a6c500e137d'), ObjectId('664329c525915a6c500e137e'), ObjectId('664329c525915a6c500e137f'), ObjectId('664329c525915a6c500e1380'), ObjectId('664329c525915a6c500e1381'), ObjectId('664329c525915a6c500e1382'), ObjectId('664329c525915a6c500e1383'), ObjectId('664329c525915a6c500e1384'), ObjectId('664329c525915a6c500e1385'), ObjectId('664329c525915a6c500e1386'), ObjectId('664329c525915a6c500e1387'), ObjectId('664329c525915a6c500e1388'), ObjectId('664329c525915a6c500e1389'), ObjectId('664329c525915a6c500e138a'), ObjectId('664329c525915a6c500e138b'), ObjectId('664329c525915a6c500e138c'), ObjectId('664329c525915a6c500e138d'), ObjectId('664329c525915a6c500e138e'), ObjectId('664329c525915a6c500e138f'), ObjectId('664329c525915a6c500e1390'), ObjectId('664329c525915a6c500e1391'), ObjectId('664329c525915a6c500e1392'), ObjectId('664329c525915a6c500e1393'), ObjectId('664329c525915a6c500e1394'), ObjectId('664329c525915a6c500e1395'), ObjectId('664329c525915a6c500e1396'), ObjectId('664329c525915a6c500e1397'), ObjectId('664329c525915a6c500e1398'), ObjectId('664329c525915a6c500e1399'), ObjectId('664329c525915a6c500e139a'), ObjectId('664329c525915a6c500e139b'), ObjectId('664329c525915a6c500e139c'), ObjectId('664329c525915a6c500e139d'), ObjectId('664329c525915a6c500e139e'), ObjectId('664329c525915a6c500e139f'), ObjectId('664329c525915a6c500e13a0'), ObjectId('664329c525915a6c500e13a1'), ObjectId('664329c525915a6c500e13a2'), ObjectId('664329c525915a6c500e13a3'), ObjectId('664329c525915a6c500e13a4'), ObjectId('664329c525915a6c500e13a5'), ObjectId('664329c525915a6c500e13a6'), ObjectId('664329c525915a6c500e13a7'), ObjectId('664329c525915a6c500e13a8'), ObjectId('664329c525915a6c500e13a9'), ObjectId('664329c525915a6c500e13aa'), ObjectId('664329c525915a6c500e13ab'), ObjectId('664329c525915a6c500e13ac'), ObjectId('664329c525915a6c500e13ad'), ObjectId('664329c525915a6c500e13ae'), ObjectId('664329c525915a6c500e13af'), ObjectId('664329c525915a6c500e13b0'), ObjectId('664329c525915a6c500e13b1'), ObjectId('664329c525915a6c500e13b2'), ObjectId('664329c525915a6c500e13b3'), ObjectId('664329c525915a6c500e13b4'), ObjectId('664329c525915a6c500e13b5'), ObjectId('664329c525915a6c500e13b6'), ObjectId('664329c525915a6c500e13b7'), ObjectId('664329c525915a6c500e13b8'), ObjectId('664329c525915a6c500e13b9'), ObjectId('664329c525915a6c500e13ba'), ObjectId('664329c525915a6c500e13bb'), ObjectId('664329c525915a6c500e13bc'), ObjectId('664329c525915a6c500e13bd'), ObjectId('664329c525915a6c500e13be'), ObjectId('664329c525915a6c500e13bf'), ObjectId('664329c525915a6c500e13c0'), ObjectId('664329c525915a6c500e13c1'), ObjectId('664329c525915a6c500e13c2'), ObjectId('664329c525915a6c500e13c3'), ObjectId('664329c525915a6c500e13c4'), ObjectId('664329c525915a6c500e13c5'), ObjectId('664329c525915a6c500e13c6'), ObjectId('664329c525915a6c500e13c7'), ObjectId('664329c525915a6c500e13c8'), ObjectId('664329c525915a6c500e13c9'), ObjectId('664329c525915a6c500e13ca'), ObjectId('664329c525915a6c500e13cb'), ObjectId('664329c525915a6c500e13cc'), ObjectId('664329c525915a6c500e13cd'), ObjectId('664329c525915a6c500e13ce'), ObjectId('664329c525915a6c500e13cf'), ObjectId('664329c525915a6c500e13d0'), ObjectId('664329c525915a6c500e13d1'), ObjectId('664329c525915a6c500e13d2'), ObjectId('664329c525915a6c500e13d3'), ObjectId('664329c525915a6c500e13d4'), ObjectId('664329c525915a6c500e13d5'), ObjectId('664329c525915a6c500e13d6'), ObjectId('664329c525915a6c500e13d7'), ObjectId('664329c525915a6c500e13d8'), ObjectId('664329c525915a6c500e13d9'), ObjectId('664329c525915a6c500e13da'), ObjectId('664329c525915a6c500e13db'), ObjectId('664329c525915a6c500e13dc'), ObjectId('664329c525915a6c500e13dd'), ObjectId('664329c525915a6c500e13de'), ObjectId('664329c525915a6c500e13df'), ObjectId('664329c525915a6c500e13e0'), ObjectId('664329c525915a6c500e13e1'), ObjectId('664329c525915a6c500e13e2'), ObjectId('664329c525915a6c500e13e3'), ObjectId('664329c525915a6c500e13e4'), ObjectId('664329c525915a6c500e13e5'), ObjectId('664329c525915a6c500e13e6'), ObjectId('664329c525915a6c500e13e7'), ObjectId('664329c525915a6c500e13e8'), ObjectId('664329c525915a6c500e13e9'), ObjectId('664329c525915a6c500e13ea'), ObjectId('664329c525915a6c500e13eb'), ObjectId('664329c525915a6c500e13ec'), ObjectId('664329c525915a6c500e13ed'), ObjectId('664329c525915a6c500e13ee'), ObjectId('664329c525915a6c500e13ef'), ObjectId('664329c525915a6c500e13f0'), ObjectId('664329c525915a6c500e13f1'), ObjectId('664329c525915a6c500e13f2'), ObjectId('664329c525915a6c500e13f3'), ObjectId('664329c525915a6c500e13f4'), ObjectId('664329c525915a6c500e13f5'), ObjectId('664329c525915a6c500e13f6'), ObjectId('664329c525915a6c500e13f7'), ObjectId('664329c525915a6c500e13f8'), ObjectId('664329c525915a6c500e13f9'), ObjectId('664329c525915a6c500e13fa'), ObjectId('664329c525915a6c500e13fb'), ObjectId('664329c525915a6c500e13fc'), ObjectId('664329c525915a6c500e13fd'), ObjectId('664329c525915a6c500e13fe'), ObjectId('664329c525915a6c500e13ff'), ObjectId('664329c525915a6c500e1400'), ObjectId('664329c525915a6c500e1401'), ObjectId('664329c525915a6c500e1402'), ObjectId('664329c525915a6c500e1403'), ObjectId('664329c525915a6c500e1404'), ObjectId('664329c525915a6c500e1405'), ObjectId('664329c525915a6c500e1406'), ObjectId('664329c525915a6c500e1407'), ObjectId('664329c525915a6c500e1408'), ObjectId('664329c525915a6c500e1409'), ObjectId('664329c525915a6c500e140a'), ObjectId('664329c525915a6c500e140b'), ObjectId('664329c525915a6c500e140c'), ObjectId('664329c525915a6c500e140d'), ObjectId('664329c525915a6c500e140e'), ObjectId('664329c525915a6c500e140f'), ObjectId('664329c525915a6c500e1410'), ObjectId('664329c525915a6c500e1411'), ObjectId('664329c525915a6c500e1412'), ObjectId('664329c525915a6c500e1413'), ObjectId('664329c525915a6c500e1414'), ObjectId('664329c525915a6c500e1415'), ObjectId('664329c525915a6c500e1416'), ObjectId('664329c525915a6c500e1417'), ObjectId('664329c525915a6c500e1418'), ObjectId('664329c525915a6c500e1419'), ObjectId('664329c525915a6c500e141a'), ObjectId('664329c525915a6c500e141b'), ObjectId('664329c525915a6c500e141c'), ObjectId('664329c525915a6c500e141d'), ObjectId('664329c525915a6c500e141e'), ObjectId('664329c525915a6c500e141f'), ObjectId('664329c525915a6c500e1420'), ObjectId('664329c525915a6c500e1421'), ObjectId('664329c525915a6c500e1422'), ObjectId('664329c525915a6c500e1423'), ObjectId('664329c525915a6c500e1424'), ObjectId('664329c525915a6c500e1425'), ObjectId('664329c525915a6c500e1426'), ObjectId('664329c525915a6c500e1427'), ObjectId('664329c525915a6c500e1428'), ObjectId('664329c525915a6c500e1429'), ObjectId('664329c525915a6c500e142a'), ObjectId('664329c525915a6c500e142b'), ObjectId('664329c525915a6c500e142c'), ObjectId('664329c525915a6c500e142d'), ObjectId('664329c525915a6c500e142e'), ObjectId('664329c525915a6c500e142f'), ObjectId('664329c525915a6c500e1430'), ObjectId('664329c525915a6c500e1431'), ObjectId('664329c525915a6c500e1432'), ObjectId('664329c525915a6c500e1433'), ObjectId('664329c525915a6c500e1434'), ObjectId('664329c525915a6c500e1435'), ObjectId('664329c525915a6c500e1436'), ObjectId('664329c525915a6c500e1437'), ObjectId('664329c525915a6c500e1438'), ObjectId('664329c525915a6c500e1439'), ObjectId('664329c525915a6c500e143a'), ObjectId('664329c525915a6c500e143b'), ObjectId('664329c525915a6c500e143c'), ObjectId('664329c525915a6c500e143d'), ObjectId('664329c525915a6c500e143e'), ObjectId('664329c525915a6c500e143f')], acknowledged=True)"
     },
     "execution_count": 67,
     "metadata": {},
     "output_type": "execute_result"
    }
   ],
   "source": [
    "#Load data to db\n",
    "db.events.insert_many(formatted_data)"
   ],
   "metadata": {
    "collapsed": false,
    "ExecuteTime": {
     "end_time": "2024-05-14T09:07:17.535776Z",
     "start_time": "2024-05-14T09:07:17.029582Z"
    }
   },
   "id": "19ed8a44588b4e7",
   "execution_count": 67
  },
  {
   "cell_type": "code",
   "outputs": [
    {
     "name": "stdout",
     "output_type": "stream",
     "text": [
      "47 documents with nameevent containing '\\s' (seminar)  have been deleted.\n"
     ]
    }
   ],
   "source": [
    "# remove all events that are seminar (eventname contains \"\\nS$\")\n",
    "collection = db.events\n",
    "filter_criteria = {\"nameevent\": { \"$regex\": \"\\nS$\", \"$options\": \"i\" }}\n",
    "result = collection.delete_many(filter_criteria)\n",
    "\n",
    "deleted_count = result.deleted_count\n",
    "print(f\"{deleted_count} documents with nameevent containing '\\s' (seminar)  have been deleted.\")"
   ],
   "metadata": {
    "collapsed": false,
    "ExecuteTime": {
     "end_time": "2024-05-14T09:07:18.480353Z",
     "start_time": "2024-05-14T09:07:17.532698Z"
    }
   },
   "id": "394d1b24257b0a5a",
   "execution_count": 68
  },
  {
   "cell_type": "code",
   "outputs": [
    {
     "name": "stdout",
     "output_type": "stream",
     "text": [
      "2 documents with eventname containing 'jeden' have been deleted.\n"
     ]
    }
   ],
   "source": [
    "# remove all events that contain \"jeden\" in their nameevent inidactin a weekliy recuring event\n",
    "collection = db.events\n",
    "pipeline = [\n",
    "    {\"$match\": {\"nameevent\": {\"$regex\": \"jeden\", \"$options\": \"i\"}}},\n",
    "    {\"$group\": {\"_id\": None, \"ids\": {\"$push\": \"$_id\"}}}\n",
    "]\n",
    "\n",
    "result = collection.aggregate(pipeline)\n",
    "deleted_count = 0\n",
    "for doc in result:\n",
    "    if \"ids\" in doc:\n",
    "        deleted_count = len(doc[\"ids\"])\n",
    "        collection.delete_many({\"_id\": {\"$in\": doc[\"ids\"]}})\n",
    "\n",
    "print(f\"{deleted_count} documents with eventname containing 'jeden' have been deleted.\")"
   ],
   "metadata": {
    "collapsed": false,
    "ExecuteTime": {
     "end_time": "2024-05-14T09:07:18.551609Z",
     "start_time": "2024-05-14T09:07:18.478917Z"
    }
   },
   "id": "b927f9df61cb1bf5",
   "execution_count": 69
  },
  {
   "cell_type": "code",
   "outputs": [
    {
     "name": "stdout",
     "output_type": "stream",
     "text": [
      "15 documents with status 'Cancelled' have been deleted.\n"
     ]
    }
   ],
   "source": [
    "# delete all events with status \"Cancelled\" (deleted events)\n",
    "collection = db.events\n",
    "pipeline = [\n",
    "    {\"$match\": {\"$and\": [\n",
    "        {\"status\": \"Cancelled\"}\n",
    "    ]}},\n",
    "    {\"$group\": {\"_id\": None, \"ids\": {\"$push\": \"$_id\"}}}\n",
    "]\n",
    "\n",
    "result = collection.aggregate(pipeline)\n",
    "deleted_count = 0\n",
    "for doc in result:\n",
    "    if \"ids\" in doc:\n",
    "        deleted_count = len(doc[\"ids\"])\n",
    "        collection.delete_many({\"_id\": {\"$in\": doc[\"ids\"]}})\n",
    "\n",
    "print(f\"{deleted_count} documents with status 'Cancelled' have been deleted.\")"
   ],
   "metadata": {
    "collapsed": false,
    "ExecuteTime": {
     "end_time": "2024-05-14T09:07:18.620805Z",
     "start_time": "2024-05-14T09:07:18.549050Z"
    }
   },
   "id": "fc1d4988d87215e0",
   "execution_count": 70
  },
  {
   "cell_type": "code",
   "outputs": [
    {
     "name": "stdout",
     "output_type": "stream",
     "text": [
      "60 documents have been updated - hostclub column cleaned.\n"
     ]
    }
   ],
   "source": [
    "# clean hostclub column \n",
    "def clean_spaces(text):\n",
    "    # remove \" Zürichsee-Segler-Verband\" if present\n",
    "    text = text.replace(\"Zürichsee-Segler-Verband\", \"\")\n",
    "    # replace multiple spaces with a single space\n",
    "    text = re.sub(r'\\s+', ' ', text)\n",
    "    # remove leading and trailing spaces\n",
    "    text = text.strip()\n",
    "    return text\n",
    "\n",
    "collection = db.events\n",
    "updated_count = 0  \n",
    "\n",
    "for document in collection.find():\n",
    "    if 'hostclub' in document:\n",
    "        # Clean the hostclub field\n",
    "        cleaned_hostclub = clean_spaces(document['hostclub'])\n",
    "        # Update the document in the database\n",
    "        update_result = collection.update_one({'_id': document['_id']}, {'$set': {'hostclub': cleaned_hostclub}})\n",
    "        if update_result.modified_count > 0:\n",
    "            updated_count += 1\n",
    "\n",
    "print(f\"{updated_count} documents have been updated - hostclub column cleaned.\")"
   ],
   "metadata": {
    "collapsed": false,
    "ExecuteTime": {
     "end_time": "2024-05-14T09:07:32.621682Z",
     "start_time": "2024-05-14T09:07:18.621885Z"
    }
   },
   "id": "b44307c2fa1bd1cb",
   "execution_count": 71
  },
  {
   "cell_type": "code",
   "outputs": [
    {
     "name": "stdout",
     "output_type": "stream",
     "text": [
      "427 documents have been formatted and updated.\n"
     ]
    }
   ],
   "source": [
    "# reformat the date columns\n",
    "import datetime # otherwise throws an error\n",
    "collection = db.events\n",
    "updated_count = 0\n",
    "\n",
    "for document in collection.find():\n",
    "    # check if fields are present\n",
    "    if 'year' in document and 'startdate' in document and 'enddate' in document:\n",
    "        # Construct full date strings\n",
    "        full_startdate_str = document['startdate'] + \" \" + str(int(document['year']))\n",
    "        full_enddate_str = document['enddate'] + \" \" + str(int(document['year']))\n",
    "        \n",
    "        # convert \n",
    "        startdate = datetime.datetime.strptime(full_startdate_str, \"%d.%m. %Y\")\n",
    "        enddate = datetime.datetime.strptime(full_enddate_str, \"%d.%m. %Y\")\n",
    "        \n",
    "        # update the document in the database with the formatted dates\n",
    "        update_result = collection.update_one(\n",
    "            {'_id': document['_id']},\n",
    "            {'$set': {\n",
    "                'iso_startdate': startdate.isoformat(),\n",
    "                'iso_enddate': enddate.isoformat(),\n",
    "                'startdate': startdate,\n",
    "                'enddate': enddate\n",
    "            }}\n",
    "        )\n",
    "        \n",
    "        if update_result.modified_count > 0:\n",
    "            updated_count += 1\n",
    "\n",
    "print(f\"{updated_count} documents have been formatted and updated.\")"
   ],
   "metadata": {
    "collapsed": false,
    "ExecuteTime": {
     "end_time": "2024-05-14T09:07:48.106996Z",
     "start_time": "2024-05-14T09:07:32.621581Z"
    }
   },
   "id": "ee78e3b676d3331f",
   "execution_count": 72
  },
  {
   "cell_type": "code",
   "outputs": [
    {
     "name": "stdout",
     "output_type": "stream",
     "text": [
      "427 documents have been updates to remove \n"
     ]
    }
   ],
   "source": [
    "# remove column 'year' from all documents\n",
    "collection = db.events\n",
    "\n",
    "updated_count = 0\n",
    "for document in collection.find():\n",
    "    # check if 'year' field is present\n",
    "    if 'year' in document:\n",
    "        # update document\n",
    "        update_result = collection.update_one(\n",
    "            {'_id': document['_id']},\n",
    "            {'$unset': {'year': ''}}\n",
    "        )\n",
    "\n",
    "        if update_result.modified_count > 0:\n",
    "            updated_count += 1\n",
    "\n",
    "print(f\"{updated_count} documents have been updates to remove \")"
   ],
   "metadata": {
    "collapsed": false,
    "ExecuteTime": {
     "end_time": "2024-05-14T09:08:03.362546Z",
     "start_time": "2024-05-14T09:07:48.104183Z"
    }
   },
   "id": "a8910ada5ef5a69f",
   "execution_count": 73
  },
  {
   "cell_type": "code",
   "outputs": [
    {
     "name": "stdout",
     "output_type": "stream",
     "text": [
      "427 documents have been updated with the link prefix.\n"
     ]
    }
   ],
   "source": [
    "# add prefix to all link, so it is complete\n",
    "collection = db.events\n",
    "updated_count = 0\n",
    "\n",
    "for document in collection.find():\n",
    "    # check if the document has a 'link' field\n",
    "    if 'link' in document:\n",
    "        # \"https://manage2sail.com\" as prefix of each link\n",
    "        updated_link = \"https://manage2sail.com\" + document['link']\n",
    "        \n",
    "        # update the document\n",
    "        update_result = collection.update_one(\n",
    "            {'_id': document['_id']},\n",
    "            {'$set': {'link': updated_link}}\n",
    "        )\n",
    "        \n",
    "        if update_result.modified_count > 0:\n",
    "            updated_count += 1\n",
    "\n",
    "print(f\"{updated_count} documents have been updated with the link prefix.\")"
   ],
   "metadata": {
    "collapsed": false,
    "ExecuteTime": {
     "end_time": "2024-05-14T09:08:18.839822Z",
     "start_time": "2024-05-14T09:08:03.363492Z"
    }
   },
   "id": "b413f1ad9293bbd3",
   "execution_count": 74
  },
  {
   "cell_type": "code",
   "outputs": [],
   "source": [],
   "metadata": {
    "collapsed": false,
    "ExecuteTime": {
     "end_time": "2024-05-14T09:08:18.840654Z",
     "start_time": "2024-05-14T09:08:18.835314Z"
    }
   },
   "id": "58ac24039517a956",
   "execution_count": 74
  }
 ],
 "metadata": {
  "kernelspec": {
   "display_name": "Python 3",
   "language": "python",
   "name": "python3"
  },
  "language_info": {
   "codemirror_mode": {
    "name": "ipython",
    "version": 2
   },
   "file_extension": ".py",
   "mimetype": "text/x-python",
   "name": "python",
   "nbconvert_exporter": "python",
   "pygments_lexer": "ipython2",
   "version": "2.7.6"
  }
 },
 "nbformat": 4,
 "nbformat_minor": 5
}
