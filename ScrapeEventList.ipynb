{
 "cells": [
  {
   "cell_type": "code",
   "execution_count": 1,
   "id": "initial_id",
   "metadata": {
    "collapsed": true,
    "ExecuteTime": {
     "end_time": "2024-05-12T21:25:04.319325Z",
     "start_time": "2024-05-12T21:25:04.009158Z"
    }
   },
   "outputs": [],
   "source": [
    "# Libraries\n",
    "import json\n",
    "import pymongo\n",
    "import requests\n",
    "from lxml import html\n",
    "import re"
   ]
  },
  {
   "cell_type": "code",
   "outputs": [
    {
     "name": "stdout",
     "output_type": "stream",
     "text": [
      "Database created!\n"
     ]
    }
   ],
   "source": [
    "# Database connection\n",
    "\"\"\" in case you want to create your on database, just change this 3 variables according to your database. \n",
    "Database and collections will be created automatically.\"\"\"\n",
    "username = \"globaladmin\"\n",
    "password = \"UEKaeSc8Q3LK5naw\"\n",
    "db_url = \"cluster1.etdy2wm.mongodb.net\"\n",
    "\n",
    "# database string\n",
    "CNX_STR = f\"mongodb+srv://{username}:{password}@{db_url}/?connectTimeoutMS=50000\"\n",
    "client = pymongo.MongoClient(CNX_STR)\n",
    "\n",
    "# heck if the database exists\n",
    "if \"manage2sail\" in client.list_database_names():\n",
    "    print(\"Database exists!\")\n",
    "    db = client.manage2sail\n",
    "else:\n",
    "    db = client[\"manage2sail\"]\n",
    "    print(\"Database created!\")\n",
    "\n"
   ],
   "metadata": {
    "collapsed": false,
    "ExecuteTime": {
     "end_time": "2024-05-12T21:25:05.028437Z",
     "start_time": "2024-05-12T21:25:04.320995Z"
    }
   },
   "id": "58f990bb4444f39f",
   "execution_count": 2
  },
  {
   "cell_type": "code",
   "outputs": [
    {
     "name": "stdout",
     "output_type": "stream",
     "text": [
      "[{'year': '2023', 'startdate': '23.01.', 'enddate': '23.01.', 'nameevent': 'Wettfahrtregeln - Kurs I - Teil I\\nS', 'status': 'Finished', 'nation': 'SUI', 'city': 'Zürich', 'hostclub': 'Zürichsee-Segler-Verband', 'link': '/en-US/event/232096ab-a96f-48e3-b91e-ff1249d40c2a'}, {'year': '2023', 'startdate': '30.01.', 'enddate': '30.01.', 'nameevent': 'Wettfahrtregeln - Kurs I - Teil II\\nS', 'status': 'Finished', 'nation': 'SUI', 'city': 'Zürich', 'hostclub': 'Zürichsee-Segler-Verband', 'link': '/en-US/event/f2e3b835-51dd-4d91-9070-7010ec21f847'}, {'year': '2023', 'startdate': '31.01.', 'enddate': '31.01.', 'nameevent': 'Basiskurs für Offizielle - Kurs II - Teil I\\nS', 'status': 'Finished', 'nation': 'SUI', 'city': 'Zürich', 'hostclub': 'Zürichsee-Segler-Verband', 'link': '/en-US/event/38e912b5-fb9d-4263-b61c-060e996b8240'}, {'year': '2023', 'startdate': '06.02.', 'enddate': '06.02.', 'nameevent': 'Basiskurs für Offizielle - Kurs II - Teil II\\nS', 'status': 'Finished', 'nation': 'SUI', 'city': 'Zürich', 'hostclub': 'Zürichsee-Segler-Verband', 'link': '/en-US/event/4464e678-4f62-477d-b238-ab4c3c0d5d3f'}, {'year': '2023', 'startdate': '14.03.', 'enddate': '14.03.', 'nameevent': 'Spezialisierungskurs für NRO - Kurs III - Teil I\\nS', 'status': 'Finished', 'nation': 'SUI', 'city': 'Zürich', 'hostclub': 'Zürichsee-Segler-Verband', 'link': '/en-US/event/b23889a3-dff3-4bd6-a4cd-7158177c766f'}]\n",
      "Formatted data saved as manage2sail_eventlist.json\n"
     ]
    }
   ],
   "source": [
    "# scrape the data\n",
    "base_url = 'https://www.manage2sail.com/en-US/search'\n",
    "params = {\n",
    "    'filterYear': '2023',\n",
    "    'filterMonth': '',\n",
    "    'filterCountry': 'SUI',\n",
    "    'filterRegion': 'e3165406-2424-470e-9ec2-d9dac6c9b742',\n",
    "    'filterClass': '',\n",
    "    'filterClubId': '',\n",
    "    'filterScoring': '',\n",
    "    'paged': 'false',\n",
    "    'filterText': ''\n",
    "}\n",
    "\n",
    "all_data = []\n",
    "response = requests.get(base_url, params=params)\n",
    "\n",
    "if response.status_code == 200:\n",
    "    # Parse the HTML content\n",
    "    tree = html.fromstring(response.content)\n",
    "    table = tree.xpath('/html/body/div[2]/div[3]/div[2]/div/table')[0]\n",
    "    data = []\n",
    "\n",
    "    for row in table.xpath('./tbody/tr'):\n",
    "        row_data = [cell.text_content().strip() for cell in row.xpath('./td')]\n",
    "        link = row.xpath('./td[4]/a/@href')\n",
    "        row_data.append(link[0] if link else None)\n",
    "        data.append(row_data)\n",
    "\n",
    "    all_data.extend(data)\n",
    "else:\n",
    "    print(f\"Failed to retrieve page\")\n",
    "\n",
    "# print(all_data)\n",
    "\n",
    "formatted_data = [\n",
    "    {\n",
    "        'year': row[0],\n",
    "        'startdate': row[1],\n",
    "        'enddate': row[2],\n",
    "        'nameevent': row[3],\n",
    "        'status': row[4],\n",
    "        'nation': row[5],\n",
    "        'city': row[6],\n",
    "        'hostclub': row[7],\n",
    "        'link': row[8]\n",
    "    } for row in all_data\n",
    "]\n",
    "\n",
    "# To visualize the formatted data\n",
    "print(formatted_data[:5])  # Print the first 5 for brevity\n",
    "\n",
    "# Save formatted data as JSON\n",
    "#with open('manage2sail_eventlist.json', 'w') as f:\n",
    "#   json.dump(formatted_data, f, indent=4)\n",
    "\n",
    "print(\"Formatted data saved as manage2sail_eventlist.json\")"
   ],
   "metadata": {
    "collapsed": false,
    "ExecuteTime": {
     "end_time": "2024-05-12T21:25:05.489378Z",
     "start_time": "2024-05-12T21:25:05.029199Z"
    }
   },
   "id": "c621af96f667d727",
   "execution_count": 3
  },
  {
   "cell_type": "code",
   "outputs": [
    {
     "data": {
      "text/plain": "InsertManyResult([ObjectId('664133b111b79607385863ef'), ObjectId('664133b111b79607385863f0'), ObjectId('664133b111b79607385863f1'), ObjectId('664133b111b79607385863f2'), ObjectId('664133b111b79607385863f3'), ObjectId('664133b111b79607385863f4'), ObjectId('664133b111b79607385863f5'), ObjectId('664133b111b79607385863f6'), ObjectId('664133b111b79607385863f7'), ObjectId('664133b111b79607385863f8'), ObjectId('664133b111b79607385863f9'), ObjectId('664133b111b79607385863fa'), ObjectId('664133b111b79607385863fb'), ObjectId('664133b111b79607385863fc'), ObjectId('664133b111b79607385863fd'), ObjectId('664133b111b79607385863fe'), ObjectId('664133b111b79607385863ff'), ObjectId('664133b111b7960738586400'), ObjectId('664133b111b7960738586401'), ObjectId('664133b111b7960738586402'), ObjectId('664133b111b7960738586403'), ObjectId('664133b111b7960738586404'), ObjectId('664133b111b7960738586405'), ObjectId('664133b111b7960738586406'), ObjectId('664133b111b7960738586407'), ObjectId('664133b111b7960738586408'), ObjectId('664133b111b7960738586409'), ObjectId('664133b111b796073858640a'), ObjectId('664133b111b796073858640b'), ObjectId('664133b111b796073858640c'), ObjectId('664133b111b796073858640d'), ObjectId('664133b111b796073858640e'), ObjectId('664133b111b796073858640f'), ObjectId('664133b111b7960738586410'), ObjectId('664133b111b7960738586411'), ObjectId('664133b111b7960738586412'), ObjectId('664133b111b7960738586413'), ObjectId('664133b111b7960738586414'), ObjectId('664133b111b7960738586415'), ObjectId('664133b111b7960738586416'), ObjectId('664133b111b7960738586417'), ObjectId('664133b111b7960738586418'), ObjectId('664133b111b7960738586419'), ObjectId('664133b111b796073858641a'), ObjectId('664133b111b796073858641b'), ObjectId('664133b111b796073858641c'), ObjectId('664133b111b796073858641d'), ObjectId('664133b111b796073858641e'), ObjectId('664133b111b796073858641f'), ObjectId('664133b111b7960738586420'), ObjectId('664133b111b7960738586421'), ObjectId('664133b111b7960738586422'), ObjectId('664133b111b7960738586423'), ObjectId('664133b111b7960738586424'), ObjectId('664133b111b7960738586425'), ObjectId('664133b111b7960738586426'), ObjectId('664133b111b7960738586427'), ObjectId('664133b111b7960738586428'), ObjectId('664133b111b7960738586429'), ObjectId('664133b111b796073858642a'), ObjectId('664133b111b796073858642b'), ObjectId('664133b111b796073858642c'), ObjectId('664133b111b796073858642d'), ObjectId('664133b111b796073858642e'), ObjectId('664133b111b796073858642f'), ObjectId('664133b111b7960738586430'), ObjectId('664133b111b7960738586431'), ObjectId('664133b111b7960738586432'), ObjectId('664133b111b7960738586433'), ObjectId('664133b111b7960738586434'), ObjectId('664133b111b7960738586435'), ObjectId('664133b111b7960738586436'), ObjectId('664133b111b7960738586437'), ObjectId('664133b111b7960738586438'), ObjectId('664133b111b7960738586439')], acknowledged=True)"
     },
     "execution_count": 4,
     "metadata": {},
     "output_type": "execute_result"
    }
   ],
   "source": [
    "#Load data to db\n",
    "db.events.insert_many(formatted_data)"
   ],
   "metadata": {
    "collapsed": false,
    "ExecuteTime": {
     "end_time": "2024-05-12T21:25:05.643514Z",
     "start_time": "2024-05-12T21:25:05.488632Z"
    }
   },
   "id": "19ed8a44588b4e7",
   "execution_count": 4
  },
  {
   "cell_type": "code",
   "outputs": [
    {
     "name": "stdout",
     "output_type": "stream",
     "text": [
      "8 documents with nameevent containing '\\s' (seminar)  have been deleted.\n"
     ]
    }
   ],
   "source": [
    "# remove all events that are seminar (eventname contains \"\\nS$\")\n",
    "collection = db.events\n",
    "filter_criteria = {\"nameevent\": { \"$regex\": \"\\nS$\", \"$options\": \"i\" }}\n",
    "result = collection.delete_many(filter_criteria)\n",
    "\n",
    "deleted_count = result.deleted_count\n",
    "print(f\"{deleted_count} documents with nameevent containing '\\s' (seminar)  have been deleted.\")"
   ],
   "metadata": {
    "collapsed": false,
    "ExecuteTime": {
     "end_time": "2024-05-12T21:25:05.675543Z",
     "start_time": "2024-05-12T21:25:05.641700Z"
    }
   },
   "id": "394d1b24257b0a5a",
   "execution_count": 5
  },
  {
   "cell_type": "code",
   "outputs": [
    {
     "name": "stdout",
     "output_type": "stream",
     "text": [
      "2 documents with eventname containing 'jeden' have been deleted.\n"
     ]
    }
   ],
   "source": [
    "# remove all events that contain \"jeden\" in their nameevent inidactin a weekliy recuring event\n",
    "collection = db.events\n",
    "pipeline = [\n",
    "    {\"$match\": {\"nameevent\": {\"$regex\": \"jeden\", \"$options\": \"i\"}}},\n",
    "    {\"$group\": {\"_id\": None, \"ids\": {\"$push\": \"$_id\"}}}\n",
    "]\n",
    "\n",
    "result = collection.aggregate(pipeline)\n",
    "deleted_count = 0\n",
    "for doc in result:\n",
    "    if \"ids\" in doc:\n",
    "        deleted_count = len(doc[\"ids\"])\n",
    "        collection.delete_many({\"_id\": {\"$in\": doc[\"ids\"]}})\n",
    "\n",
    "print(f\"{deleted_count} documents with eventname containing 'jeden' have been deleted.\")"
   ],
   "metadata": {
    "collapsed": false,
    "ExecuteTime": {
     "end_time": "2024-05-12T21:25:05.753470Z",
     "start_time": "2024-05-12T21:25:05.677382Z"
    }
   },
   "id": "b927f9df61cb1bf5",
   "execution_count": 6
  },
  {
   "cell_type": "code",
   "outputs": [
    {
     "name": "stdout",
     "output_type": "stream",
     "text": [
      "0 documents with status 'gelöscht' have been deleted.\n"
     ]
    }
   ],
   "source": [
    "# delete all events with status \"gelöscht\" (deleted events)\n",
    "collection = db.events\n",
    "pipeline = [\n",
    "    {\"$match\": {\"$and\": [\n",
    "        {\"status\": \"gelöscht\"}\n",
    "    ]}},\n",
    "    {\"$group\": {\"_id\": None, \"ids\": {\"$push\": \"$_id\"}}}\n",
    "]\n",
    "\n",
    "result = collection.aggregate(pipeline)\n",
    "deleted_count = 0\n",
    "for doc in result:\n",
    "    if \"ids\" in doc:\n",
    "        deleted_count = len(doc[\"ids\"])\n",
    "        collection.delete_many({\"_id\": {\"$in\": doc[\"ids\"]}})\n",
    "\n",
    "print(f\"{deleted_count} documents with status 'gelöscht' have been deleted.\")"
   ],
   "metadata": {
    "collapsed": false,
    "ExecuteTime": {
     "end_time": "2024-05-12T21:25:05.786288Z",
     "start_time": "2024-05-12T21:25:05.753487Z"
    }
   },
   "id": "fc1d4988d87215e0",
   "execution_count": 7
  },
  {
   "cell_type": "code",
   "outputs": [
    {
     "name": "stdout",
     "output_type": "stream",
     "text": [
      "9 documents have been updated - hostclub column cleaned.\n"
     ]
    }
   ],
   "source": [
    "# clean hostclub column \n",
    "def clean_spaces(text):\n",
    "    # remove \" Zürichsee-Segler-Verband\" if present\n",
    "    text = text.replace(\"Zürichsee-Segler-Verband\", \"\")\n",
    "    # replace multiple spaces with a single space\n",
    "    text = re.sub(r'\\s+', ' ', text)\n",
    "    # remove leading and trailing spaces\n",
    "    text = text.strip()\n",
    "    return text\n",
    "\n",
    "collection = db.events\n",
    "updated_count = 0  \n",
    "\n",
    "for document in collection.find():\n",
    "    if 'hostclub' in document:\n",
    "        # Clean the hostclub field\n",
    "        cleaned_hostclub = clean_spaces(document['hostclub'])\n",
    "        # Update the document in the database\n",
    "        update_result = collection.update_one({'_id': document['_id']}, {'$set': {'hostclub': cleaned_hostclub}})\n",
    "        if update_result.modified_count > 0:\n",
    "            updated_count += 1\n",
    "\n",
    "print(f\"{updated_count} documents have been updated - hostclub column cleaned.\")"
   ],
   "metadata": {
    "collapsed": false,
    "ExecuteTime": {
     "end_time": "2024-05-12T21:25:08.679113Z",
     "start_time": "2024-05-12T21:25:05.786701Z"
    }
   },
   "id": "b44307c2fa1bd1cb",
   "execution_count": 8
  },
  {
   "cell_type": "code",
   "outputs": [
    {
     "name": "stdout",
     "output_type": "stream",
     "text": [
      "65 documents have been formatted and updated.\n"
     ]
    }
   ],
   "source": [
    "# reformat the date columns\n",
    "import datetime # otherwise throws an error\n",
    "collection = db.events\n",
    "updated_count = 0\n",
    "\n",
    "for document in collection.find():\n",
    "    # check if fields are present\n",
    "    if 'year' in document and 'startdate' in document and 'enddate' in document:\n",
    "        # Construct full date strings\n",
    "        full_startdate_str = document['startdate'] + \" \" + str(int(document['year']))\n",
    "        full_enddate_str = document['enddate'] + \" \" + str(int(document['year']))\n",
    "        \n",
    "        # convert \n",
    "        startdate = datetime.datetime.strptime(full_startdate_str, \"%d.%m. %Y\")\n",
    "        enddate = datetime.datetime.strptime(full_enddate_str, \"%d.%m. %Y\")\n",
    "        \n",
    "        # update the document in the database with the formatted dates\n",
    "        update_result = collection.update_one(\n",
    "            {'_id': document['_id']},\n",
    "            {'$set': {\n",
    "                'iso_startdate': startdate.isoformat(),\n",
    "                'iso_enddate': enddate.isoformat(),\n",
    "                'startdate': startdate,\n",
    "                'enddate': enddate\n",
    "            }}\n",
    "        )\n",
    "        \n",
    "        if update_result.modified_count > 0:\n",
    "            updated_count += 1\n",
    "\n",
    "print(f\"{updated_count} documents have been formatted and updated.\")"
   ],
   "metadata": {
    "collapsed": false,
    "ExecuteTime": {
     "end_time": "2024-05-12T21:25:12.104520Z",
     "start_time": "2024-05-12T21:25:08.677868Z"
    }
   },
   "id": "ee78e3b676d3331f",
   "execution_count": 9
  },
  {
   "cell_type": "code",
   "outputs": [
    {
     "name": "stdout",
     "output_type": "stream",
     "text": [
      "65 documents have been updates to remove \n"
     ]
    }
   ],
   "source": [
    "# remove column 'year' from all documents\n",
    "collection = db.events\n",
    "\n",
    "updated_count = 0\n",
    "for document in collection.find():\n",
    "    # check if 'year' field is present\n",
    "    if 'year' in document:\n",
    "        # update document\n",
    "        update_result = collection.update_one(\n",
    "            {'_id': document['_id']},\n",
    "            {'$unset': {'year': ''}}\n",
    "        )\n",
    "\n",
    "        if update_result.modified_count > 0:\n",
    "            updated_count += 1\n",
    "\n",
    "print(f\"{updated_count} documents have been updates to remove \")"
   ],
   "metadata": {
    "collapsed": false,
    "ExecuteTime": {
     "end_time": "2024-05-12T21:25:14.755775Z",
     "start_time": "2024-05-12T21:25:12.100749Z"
    }
   },
   "id": "a8910ada5ef5a69f",
   "execution_count": 10
  },
  {
   "cell_type": "code",
   "outputs": [
    {
     "name": "stdout",
     "output_type": "stream",
     "text": [
      "65 documents have been updated with the link prefix.\n"
     ]
    }
   ],
   "source": [
    "# add prefix to all link, so it is complete\n",
    "collection = db.events\n",
    "updated_count = 0\n",
    "\n",
    "for document in collection.find():\n",
    "    # check if the document has a 'link' field\n",
    "    if 'link' in document:\n",
    "        # \"https://manage2sail.com\" as prefix of each link\n",
    "        updated_link = \"https://manage2sail.com\" + document['link']\n",
    "        \n",
    "        # update the document\n",
    "        update_result = collection.update_one(\n",
    "            {'_id': document['_id']},\n",
    "            {'$set': {'link': updated_link}}\n",
    "        )\n",
    "        \n",
    "        if update_result.modified_count > 0:\n",
    "            updated_count += 1\n",
    "\n",
    "print(f\"{updated_count} documents have been updated with the link prefix.\")"
   ],
   "metadata": {
    "collapsed": false,
    "ExecuteTime": {
     "end_time": "2024-05-12T21:25:18.345880Z",
     "start_time": "2024-05-12T21:25:14.754769Z"
    }
   },
   "id": "b413f1ad9293bbd3",
   "execution_count": 11
  },
  {
   "cell_type": "code",
   "outputs": [],
   "source": [],
   "metadata": {
    "collapsed": false,
    "ExecuteTime": {
     "end_time": "2024-05-12T21:25:18.346879Z",
     "start_time": "2024-05-12T21:25:18.156841Z"
    }
   },
   "id": "58ac24039517a956",
   "execution_count": 11
  }
 ],
 "metadata": {
  "kernelspec": {
   "display_name": "Python 3",
   "language": "python",
   "name": "python3"
  },
  "language_info": {
   "codemirror_mode": {
    "name": "ipython",
    "version": 2
   },
   "file_extension": ".py",
   "mimetype": "text/x-python",
   "name": "python",
   "nbconvert_exporter": "python",
   "pygments_lexer": "ipython2",
   "version": "2.7.6"
  }
 },
 "nbformat": 4,
 "nbformat_minor": 5
}
