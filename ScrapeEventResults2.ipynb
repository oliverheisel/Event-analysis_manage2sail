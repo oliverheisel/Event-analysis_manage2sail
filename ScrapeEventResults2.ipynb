{
 "cells": [
  {
   "cell_type": "code",
   "execution_count": 156,
   "id": "initial_id",
   "metadata": {
    "collapsed": true,
    "ExecuteTime": {
     "end_time": "2024-05-14T08:31:07.023996Z",
     "start_time": "2024-05-14T08:31:07.020195Z"
    }
   },
   "outputs": [],
   "source": [
    "# Libaries\n",
    "from selenium import webdriver\n",
    "from selenium.webdriver.chrome.service import Service\n",
    "from selenium.common.exceptions import NoSuchElementException\n",
    "from selenium.webdriver.common.by import By\n",
    "from selenium.webdriver.chrome.options import Options\n",
    "from selenium.webdriver.support.ui import Select, WebDriverWait\n",
    "from selenium.webdriver.support import expected_conditions as EC\n",
    "import pymongo\n",
    "from selenium.webdriver.support.ui import WebDriverWait, Select"
   ]
  },
  {
   "cell_type": "code",
   "outputs": [
    {
     "name": "stdout",
     "output_type": "stream",
     "text": [
      "Database exists!\n"
     ]
    }
   ],
   "source": [
    "# Database connection\n",
    "\"\"\" in case you want to create your on database, just change this 3 variables according to your database. \n",
    "Database and collections will be created automatically.\"\"\"\n",
    "username = \"globaladmin\"\n",
    "password = \"UEKaeSc8Q3LK5naw\"\n",
    "db_url = \"cluster1.etdy2wm.mongodb.net\"\n",
    "\n",
    "# database string\n",
    "CNX_STR = f\"mongodb+srv://{username}:{password}@{db_url}/?connectTimeoutMS=50000\"\n",
    "client = pymongo.MongoClient(CNX_STR)\n",
    "\n",
    "# heck if the database exists\n",
    "if \"manage2sail\" in client.list_database_names():\n",
    "    print(\"Database exists!\")\n",
    "    db = client.manage2sail\n",
    "else:\n",
    "    print(\"Database does not exist!\")"
   ],
   "metadata": {
    "collapsed": false,
    "ExecuteTime": {
     "end_time": "2024-05-14T08:31:07.518343Z",
     "start_time": "2024-05-14T08:31:07.026623Z"
    }
   },
   "id": "46ba8c1bd5ee5711",
   "execution_count": 157
  },
  {
   "cell_type": "code",
   "outputs": [],
   "source": [
    "def scrape_eventdetails(wait, driver):\n",
    "    eventdetails = []\n",
    "    selector = '#details > table'\n",
    "    wait.until(EC.visibility_of_element_located((By.CSS_SELECTOR, selector)))\n",
    "    table = driver.find_element(By.CSS_SELECTOR, selector)\n",
    "    for row in table.find_elements(By.TAG_NAME, 'tr'):\n",
    "        columns = row.find_elements(By.TAG_NAME, 'td')\n",
    "        if len(columns) >= 2:  # Ensure there are at least two columns\n",
    "            key = columns[0].text.strip(': ')\n",
    "            value = columns[1].text\n",
    "            eventdetails.append({key: value})  # Append each key-value pair to results list\n",
    "\n",
    "    return eventdetails"
   ],
   "metadata": {
    "collapsed": false,
    "ExecuteTime": {
     "end_time": "2024-05-14T08:31:07.522868Z",
     "start_time": "2024-05-14T08:31:07.517010Z"
    }
   },
   "id": "2cc8d8eff03e7fac",
   "execution_count": 158
  },
  {
   "cell_type": "code",
   "outputs": [],
   "source": [
    "def scrape_resultdetails(wait, driver):\n",
    "    try:\n",
    "        result_details = {}\n",
    "        \n",
    "        # Selector for main result details text\n",
    "        details_selector = '#results > div > div > div:nth-child(3) > div:nth-child(5) > div:nth-child(2) > div:nth-child(3) > div.resultInfo > div.pull-left.scoring-info'\n",
    "        wait.until(EC.visibility_of_element_located((By.CSS_SELECTOR, details_selector)))\n",
    "        result_info_element = driver.find_element(By.CSS_SELECTOR, details_selector)\n",
    "        \n",
    "        # Extract text and split by new lines\n",
    "        lines = result_info_element.text.split('\\n')\n",
    "        for line in lines:\n",
    "            if ':' in line:\n",
    "                key, value = line.split(':', 1)\n",
    "                result_details[key.strip()] = value.strip()\n",
    "\n",
    "        return result_details\n",
    "    except Exception as e:\n",
    "        return \"No result details\""
   ],
   "metadata": {
    "collapsed": false,
    "ExecuteTime": {
     "end_time": "2024-05-14T08:31:07.523129Z",
     "start_time": "2024-05-14T08:31:07.520571Z"
    }
   },
   "id": "c83bba19cc316a3b",
   "execution_count": 159
  },
  {
   "cell_type": "code",
   "outputs": [],
   "source": [
    "def scrape_publishdetails(wait, driver):\n",
    "    try:\n",
    "        publish_details = {}\n",
    "\n",
    "        # Selector for publishing details text\n",
    "        publishing_selector = '#results > div > div > div:nth-child(3) > div:nth-child(5) > div:nth-child(2) > div:nth-child(3) > div.resultInfo > div.pull-right.publishing-info'\n",
    "        wait.until(EC.visibility_of_element_located((By.CSS_SELECTOR, publishing_selector)))\n",
    "        publishing_info_element = driver.find_element(By.CSS_SELECTOR, publishing_selector)\n",
    "        \n",
    "        # Extract text and split by new lines\n",
    "        lines = publishing_info_element.text.split('\\n')\n",
    "        for line in lines:\n",
    "            if ':' in line:\n",
    "                key, value = line.split(':', 1)\n",
    "                publish_details[key.strip()] = value.strip()\n",
    "            else:\n",
    "                publish_details['Type'] = line.strip()\n",
    "\n",
    "        return publish_details\n",
    "    except Exception as e:\n",
    "        return \"No publish details found\""
   ],
   "metadata": {
    "collapsed": false,
    "ExecuteTime": {
     "end_time": "2024-05-14T08:31:07.527617Z",
     "start_time": "2024-05-14T08:31:07.525345Z"
    }
   },
   "id": "3e4c7d1504eb9fdd",
   "execution_count": 160
  },
  {
   "cell_type": "code",
   "outputs": [],
   "source": [
    "def get_table_headers(driver, wait, header_selector):\n",
    "    try:\n",
    "        headers = wait.until(EC.visibility_of_element_located((By.CSS_SELECTOR, header_selector)))\n",
    "        header_texts = [th.text for th in headers.find_elements(By.TAG_NAME, 'th') if 'ng-hide' not in th.get_attribute('class')]\n",
    "        return header_texts\n",
    "    except Exception as e:\n",
    "        #print(f\"An error occurred while fetching headers: {e}\")\n",
    "        return []"
   ],
   "metadata": {
    "collapsed": false,
    "ExecuteTime": {
     "end_time": "2024-05-14T08:31:07.532298Z",
     "start_time": "2024-05-14T08:31:07.528397Z"
    }
   },
   "id": "b473e46ff4b0650e",
   "execution_count": 161
  },
  {
   "cell_type": "code",
   "outputs": [],
   "source": [
    "def replace_column_keys(data, headers):\n",
    "    new_data = []\n",
    "    for record in data:\n",
    "        new_record = {}\n",
    "        for (key, value), header in zip(record.items(), headers):\n",
    "            if key.strip() and value.strip():  # Check if both key and value are not empty\n",
    "                new_record[header] = value\n",
    "        new_data.append(new_record)\n",
    "    return new_data"
   ],
   "metadata": {
    "collapsed": false,
    "ExecuteTime": {
     "end_time": "2024-05-14T08:31:07.536813Z",
     "start_time": "2024-05-14T08:31:07.531053Z"
    }
   },
   "id": "1ef388c54687ea4f",
   "execution_count": 162
  },
  {
   "cell_type": "code",
   "outputs": [],
   "source": [
    "def scrape_eventresults(base_url, driver, wait):\n",
    "    # Define result URL and open it with the WebDriver\n",
    "    results = {}\n",
    "    results_url = base_url + '#!/results'\n",
    "    driver.get(results_url)\n",
    "\n",
    "    # Define CSS selectors\n",
    "    regatta_name_selector = '#results > div > div > div.regattaName'\n",
    "    table_selector = '#results > div > div > div:nth-child(3) > div:nth-child(5) > div:nth-child(2) > div:nth-child(3) > table:nth-child(4)'\n",
    "    header_selector = table_selector + ' > thead'\n",
    "\n",
    "    # Check if the dropdown exists\n",
    "    dropdown_selector = '#results > div > div > select'\n",
    "    dropdown_elements = driver.find_elements(By.CSS_SELECTOR, dropdown_selector)\n",
    "\n",
    "    if dropdown_elements:\n",
    "        # Dropdown exists, process each option\n",
    "        select = Select(dropdown_elements[0])\n",
    "        option_texts = [option.text for option in select.options if option.text]\n",
    "\n",
    "        if not option_texts:\n",
    "            raise Exception(\"No options found in dropdown\")\n",
    "\n",
    "        for option_text in option_texts:\n",
    "            try:\n",
    "                select = Select(wait.until(EC.presence_of_element_located((By.CSS_SELECTOR, dropdown_selector))))\n",
    "                select.select_by_visible_text(option_text)\n",
    "                wait.until(EC.visibility_of_element_located((By.CSS_SELECTOR, table_selector)))\n",
    "\n",
    "                results[option_text] = {}\n",
    "                table = driver.find_element(By.CSS_SELECTOR, table_selector)\n",
    "                headers = get_table_headers(driver, wait, header_selector)\n",
    "                if len(headers) == 0:\n",
    "                    raise Exception(\"Header length is zero\")\n",
    "\n",
    "                row_data_list = []\n",
    "                for row in table.find_elements(By.TAG_NAME, 'tr'):\n",
    "                    columns = row.find_elements(By.TAG_NAME, 'td')\n",
    "                    row_data = {f\"column_{i}\": col.text for i, col in enumerate(columns) if 'ng-hide' not in col.get_attribute('class')}\n",
    "                    if any(value.strip() for value in row_data.values()):\n",
    "                        row_data_list.append(row_data)\n",
    "\n",
    "                results[option_text]['results'] = replace_column_keys(row_data_list, headers)\n",
    "                \n",
    "                # Scrape and store result details\n",
    "                result_details = scrape_resultdetails(wait, driver)\n",
    "                publish_details = scrape_publishdetails(wait, driver)\n",
    "                results[option_text]['resultdetails'] = result_details\n",
    "                results[option_text]['publishdetails'] = publish_details\n",
    "\n",
    "            except Exception as e:\n",
    "                results[option_text] = \"no results\"\n",
    "    else:\n",
    "        # No dropdown, scrape only the current page\n",
    "        try:\n",
    "            regatta_name = driver.find_element(By.CSS_SELECTOR, regatta_name_selector).text\n",
    "            results[regatta_name] = {}\n",
    "            table = driver.find_element(By.CSS_SELECTOR, table_selector)\n",
    "            headers = get_table_headers(driver, wait, header_selector)\n",
    "            if len(headers) == 0:\n",
    "                raise Exception(\"Header length is zero\")\n",
    "\n",
    "            row_data_list = []\n",
    "            for row in table.find_elements(By.TAG_NAME, 'tr'):\n",
    "                columns = row.find_elements(By.TAG_NAME, 'td')\n",
    "                row_data = {f\"column_{i}\": col.text for i, col in enumerate(columns) if 'ng-hide' not in col.get_attribute('class')}\n",
    "                if any(value.strip() for value in row_data.values()):\n",
    "                    row_data_list.append(row_data)\n",
    "\n",
    "            results[regatta_name]['results'] = replace_column_keys(row_data_list, headers)\n",
    "            \n",
    "            # Scrape and store result details\n",
    "            result_details = scrape_resultdetails(wait, driver)\n",
    "            publish_details = scrape_publishdetails(wait, driver)\n",
    "            results[regatta_name]['resultdetails'] = result_details\n",
    "            results[regatta_name]['publishdetails'] = publish_details\n",
    "\n",
    "        except Exception as e:\n",
    "            results[regatta_name] = \"no results\"\n",
    "\n",
    "    return results"
   ],
   "metadata": {
    "collapsed": false,
    "ExecuteTime": {
     "end_time": "2024-05-14T08:31:07.552339Z",
     "start_time": "2024-05-14T08:31:07.538614Z"
    }
   },
   "id": "bb7efebaeb7e03ed",
   "execution_count": 163
  },
  {
   "cell_type": "code",
   "outputs": [
    {
     "ename": "KeyboardInterrupt",
     "evalue": "",
     "output_type": "error",
     "traceback": [
      "\u001B[0;31m---------------------------------------------------------------------------\u001B[0m",
      "\u001B[0;31mKeyboardInterrupt\u001B[0m                         Traceback (most recent call last)",
      "Cell \u001B[0;32mIn[164], line 17\u001B[0m\n\u001B[1;32m     14\u001B[0m event_details \u001B[38;5;241m=\u001B[39m scrape_eventdetails(wait, driver)\n\u001B[1;32m     15\u001B[0m update_result \u001B[38;5;241m=\u001B[39m collection\u001B[38;5;241m.\u001B[39mupdate_one({\u001B[38;5;124m'\u001B[39m\u001B[38;5;124m_id\u001B[39m\u001B[38;5;124m'\u001B[39m: document[\u001B[38;5;124m'\u001B[39m\u001B[38;5;124m_id\u001B[39m\u001B[38;5;124m'\u001B[39m]}, {\u001B[38;5;124m'\u001B[39m\u001B[38;5;124m$set\u001B[39m\u001B[38;5;124m'\u001B[39m: {\u001B[38;5;124m'\u001B[39m\u001B[38;5;124meventdetails\u001B[39m\u001B[38;5;124m'\u001B[39m: event_details}})\n\u001B[0;32m---> 17\u001B[0m results \u001B[38;5;241m=\u001B[39m \u001B[43mscrape_eventresults\u001B[49m\u001B[43m(\u001B[49m\u001B[43murl\u001B[49m\u001B[43m,\u001B[49m\u001B[43m \u001B[49m\u001B[43mdriver\u001B[49m\u001B[43m,\u001B[49m\u001B[43m \u001B[49m\u001B[43mwait\u001B[49m\u001B[43m)\u001B[49m\n\u001B[1;32m     18\u001B[0m \u001B[38;5;66;03m# Update the MongoDB document with the results structured by class names\u001B[39;00m\n\u001B[1;32m     19\u001B[0m update_result \u001B[38;5;241m=\u001B[39m collection\u001B[38;5;241m.\u001B[39mupdate_one({\u001B[38;5;124m'\u001B[39m\u001B[38;5;124m_id\u001B[39m\u001B[38;5;124m'\u001B[39m: document[\u001B[38;5;124m'\u001B[39m\u001B[38;5;124m_id\u001B[39m\u001B[38;5;124m'\u001B[39m]}, {\u001B[38;5;124m'\u001B[39m\u001B[38;5;124m$set\u001B[39m\u001B[38;5;124m'\u001B[39m: {\u001B[38;5;124m'\u001B[39m\u001B[38;5;124mresultsByClass\u001B[39m\u001B[38;5;124m'\u001B[39m: results}})\n",
      "Cell \u001B[0;32mIn[163], line 28\u001B[0m, in \u001B[0;36mscrape_eventresults\u001B[0;34m(base_url, driver, wait)\u001B[0m\n\u001B[1;32m     26\u001B[0m select \u001B[38;5;241m=\u001B[39m Select(wait\u001B[38;5;241m.\u001B[39muntil(EC\u001B[38;5;241m.\u001B[39mpresence_of_element_located((By\u001B[38;5;241m.\u001B[39mCSS_SELECTOR, dropdown_selector))))\n\u001B[1;32m     27\u001B[0m select\u001B[38;5;241m.\u001B[39mselect_by_visible_text(option_text)\n\u001B[0;32m---> 28\u001B[0m \u001B[43mwait\u001B[49m\u001B[38;5;241;43m.\u001B[39;49m\u001B[43muntil\u001B[49m\u001B[43m(\u001B[49m\u001B[43mEC\u001B[49m\u001B[38;5;241;43m.\u001B[39;49m\u001B[43mvisibility_of_element_located\u001B[49m\u001B[43m(\u001B[49m\u001B[43m(\u001B[49m\u001B[43mBy\u001B[49m\u001B[38;5;241;43m.\u001B[39;49m\u001B[43mCSS_SELECTOR\u001B[49m\u001B[43m,\u001B[49m\u001B[43m \u001B[49m\u001B[43mtable_selector\u001B[49m\u001B[43m)\u001B[49m\u001B[43m)\u001B[49m\u001B[43m)\u001B[49m\n\u001B[1;32m     30\u001B[0m results[option_text] \u001B[38;5;241m=\u001B[39m {}\n\u001B[1;32m     31\u001B[0m table \u001B[38;5;241m=\u001B[39m driver\u001B[38;5;241m.\u001B[39mfind_element(By\u001B[38;5;241m.\u001B[39mCSS_SELECTOR, table_selector)\n",
      "File \u001B[0;32m~/anaconda3/envs/env_analysis_m2s/lib/python3.10/site-packages/selenium/webdriver/support/wait.py:96\u001B[0m, in \u001B[0;36mWebDriverWait.until\u001B[0;34m(self, method, message)\u001B[0m\n\u001B[1;32m     94\u001B[0m \u001B[38;5;28;01mwhile\u001B[39;00m \u001B[38;5;28;01mTrue\u001B[39;00m:\n\u001B[1;32m     95\u001B[0m     \u001B[38;5;28;01mtry\u001B[39;00m:\n\u001B[0;32m---> 96\u001B[0m         value \u001B[38;5;241m=\u001B[39m \u001B[43mmethod\u001B[49m\u001B[43m(\u001B[49m\u001B[38;5;28;43mself\u001B[39;49m\u001B[38;5;241;43m.\u001B[39;49m\u001B[43m_driver\u001B[49m\u001B[43m)\u001B[49m\n\u001B[1;32m     97\u001B[0m         \u001B[38;5;28;01mif\u001B[39;00m value:\n\u001B[1;32m     98\u001B[0m             \u001B[38;5;28;01mreturn\u001B[39;00m value\n",
      "File \u001B[0;32m~/anaconda3/envs/env_analysis_m2s/lib/python3.10/site-packages/selenium/webdriver/support/expected_conditions.py:156\u001B[0m, in \u001B[0;36mvisibility_of_element_located.<locals>._predicate\u001B[0;34m(driver)\u001B[0m\n\u001B[1;32m    154\u001B[0m \u001B[38;5;28;01mdef\u001B[39;00m \u001B[38;5;21m_predicate\u001B[39m(driver: WebDriverOrWebElement):\n\u001B[1;32m    155\u001B[0m     \u001B[38;5;28;01mtry\u001B[39;00m:\n\u001B[0;32m--> 156\u001B[0m         \u001B[38;5;28;01mreturn\u001B[39;00m _element_if_visible(\u001B[43mdriver\u001B[49m\u001B[38;5;241;43m.\u001B[39;49m\u001B[43mfind_element\u001B[49m\u001B[43m(\u001B[49m\u001B[38;5;241;43m*\u001B[39;49m\u001B[43mlocator\u001B[49m\u001B[43m)\u001B[49m)\n\u001B[1;32m    157\u001B[0m     \u001B[38;5;28;01mexcept\u001B[39;00m StaleElementReferenceException:\n\u001B[1;32m    158\u001B[0m         \u001B[38;5;28;01mreturn\u001B[39;00m \u001B[38;5;28;01mFalse\u001B[39;00m\n",
      "File \u001B[0;32m~/anaconda3/envs/env_analysis_m2s/lib/python3.10/site-packages/selenium/webdriver/remote/webdriver.py:741\u001B[0m, in \u001B[0;36mWebDriver.find_element\u001B[0;34m(self, by, value)\u001B[0m\n\u001B[1;32m    738\u001B[0m     by \u001B[38;5;241m=\u001B[39m By\u001B[38;5;241m.\u001B[39mCSS_SELECTOR\n\u001B[1;32m    739\u001B[0m     value \u001B[38;5;241m=\u001B[39m \u001B[38;5;124mf\u001B[39m\u001B[38;5;124m'\u001B[39m\u001B[38;5;124m[name=\u001B[39m\u001B[38;5;124m\"\u001B[39m\u001B[38;5;132;01m{\u001B[39;00mvalue\u001B[38;5;132;01m}\u001B[39;00m\u001B[38;5;124m\"\u001B[39m\u001B[38;5;124m]\u001B[39m\u001B[38;5;124m'\u001B[39m\n\u001B[0;32m--> 741\u001B[0m \u001B[38;5;28;01mreturn\u001B[39;00m \u001B[38;5;28;43mself\u001B[39;49m\u001B[38;5;241;43m.\u001B[39;49m\u001B[43mexecute\u001B[49m\u001B[43m(\u001B[49m\u001B[43mCommand\u001B[49m\u001B[38;5;241;43m.\u001B[39;49m\u001B[43mFIND_ELEMENT\u001B[49m\u001B[43m,\u001B[49m\u001B[43m \u001B[49m\u001B[43m{\u001B[49m\u001B[38;5;124;43m\"\u001B[39;49m\u001B[38;5;124;43musing\u001B[39;49m\u001B[38;5;124;43m\"\u001B[39;49m\u001B[43m:\u001B[49m\u001B[43m \u001B[49m\u001B[43mby\u001B[49m\u001B[43m,\u001B[49m\u001B[43m \u001B[49m\u001B[38;5;124;43m\"\u001B[39;49m\u001B[38;5;124;43mvalue\u001B[39;49m\u001B[38;5;124;43m\"\u001B[39;49m\u001B[43m:\u001B[49m\u001B[43m \u001B[49m\u001B[43mvalue\u001B[49m\u001B[43m}\u001B[49m\u001B[43m)\u001B[49m[\u001B[38;5;124m\"\u001B[39m\u001B[38;5;124mvalue\u001B[39m\u001B[38;5;124m\"\u001B[39m]\n",
      "File \u001B[0;32m~/anaconda3/envs/env_analysis_m2s/lib/python3.10/site-packages/selenium/webdriver/remote/webdriver.py:345\u001B[0m, in \u001B[0;36mWebDriver.execute\u001B[0;34m(self, driver_command, params)\u001B[0m\n\u001B[1;32m    342\u001B[0m     \u001B[38;5;28;01melif\u001B[39;00m \u001B[38;5;124m\"\u001B[39m\u001B[38;5;124msessionId\u001B[39m\u001B[38;5;124m\"\u001B[39m \u001B[38;5;129;01mnot\u001B[39;00m \u001B[38;5;129;01min\u001B[39;00m params:\n\u001B[1;32m    343\u001B[0m         params[\u001B[38;5;124m\"\u001B[39m\u001B[38;5;124msessionId\u001B[39m\u001B[38;5;124m\"\u001B[39m] \u001B[38;5;241m=\u001B[39m \u001B[38;5;28mself\u001B[39m\u001B[38;5;241m.\u001B[39msession_id\n\u001B[0;32m--> 345\u001B[0m response \u001B[38;5;241m=\u001B[39m \u001B[38;5;28;43mself\u001B[39;49m\u001B[38;5;241;43m.\u001B[39;49m\u001B[43mcommand_executor\u001B[49m\u001B[38;5;241;43m.\u001B[39;49m\u001B[43mexecute\u001B[49m\u001B[43m(\u001B[49m\u001B[43mdriver_command\u001B[49m\u001B[43m,\u001B[49m\u001B[43m \u001B[49m\u001B[43mparams\u001B[49m\u001B[43m)\u001B[49m\n\u001B[1;32m    346\u001B[0m \u001B[38;5;28;01mif\u001B[39;00m response:\n\u001B[1;32m    347\u001B[0m     \u001B[38;5;28mself\u001B[39m\u001B[38;5;241m.\u001B[39merror_handler\u001B[38;5;241m.\u001B[39mcheck_response(response)\n",
      "File \u001B[0;32m~/anaconda3/envs/env_analysis_m2s/lib/python3.10/site-packages/selenium/webdriver/remote/remote_connection.py:302\u001B[0m, in \u001B[0;36mRemoteConnection.execute\u001B[0;34m(self, command, params)\u001B[0m\n\u001B[1;32m    300\u001B[0m trimmed \u001B[38;5;241m=\u001B[39m \u001B[38;5;28mself\u001B[39m\u001B[38;5;241m.\u001B[39m_trim_large_entries(params)\n\u001B[1;32m    301\u001B[0m LOGGER\u001B[38;5;241m.\u001B[39mdebug(\u001B[38;5;124m\"\u001B[39m\u001B[38;5;132;01m%s\u001B[39;00m\u001B[38;5;124m \u001B[39m\u001B[38;5;132;01m%s\u001B[39;00m\u001B[38;5;124m \u001B[39m\u001B[38;5;132;01m%s\u001B[39;00m\u001B[38;5;124m\"\u001B[39m, command_info[\u001B[38;5;241m0\u001B[39m], url, \u001B[38;5;28mstr\u001B[39m(trimmed))\n\u001B[0;32m--> 302\u001B[0m \u001B[38;5;28;01mreturn\u001B[39;00m \u001B[38;5;28;43mself\u001B[39;49m\u001B[38;5;241;43m.\u001B[39;49m\u001B[43m_request\u001B[49m\u001B[43m(\u001B[49m\u001B[43mcommand_info\u001B[49m\u001B[43m[\u001B[49m\u001B[38;5;241;43m0\u001B[39;49m\u001B[43m]\u001B[49m\u001B[43m,\u001B[49m\u001B[43m \u001B[49m\u001B[43murl\u001B[49m\u001B[43m,\u001B[49m\u001B[43m \u001B[49m\u001B[43mbody\u001B[49m\u001B[38;5;241;43m=\u001B[39;49m\u001B[43mdata\u001B[49m\u001B[43m)\u001B[49m\n",
      "File \u001B[0;32m~/anaconda3/envs/env_analysis_m2s/lib/python3.10/site-packages/selenium/webdriver/remote/remote_connection.py:322\u001B[0m, in \u001B[0;36mRemoteConnection._request\u001B[0;34m(self, method, url, body)\u001B[0m\n\u001B[1;32m    319\u001B[0m     body \u001B[38;5;241m=\u001B[39m \u001B[38;5;28;01mNone\u001B[39;00m\n\u001B[1;32m    321\u001B[0m \u001B[38;5;28;01mif\u001B[39;00m \u001B[38;5;28mself\u001B[39m\u001B[38;5;241m.\u001B[39mkeep_alive:\n\u001B[0;32m--> 322\u001B[0m     response \u001B[38;5;241m=\u001B[39m \u001B[38;5;28;43mself\u001B[39;49m\u001B[38;5;241;43m.\u001B[39;49m\u001B[43m_conn\u001B[49m\u001B[38;5;241;43m.\u001B[39;49m\u001B[43mrequest\u001B[49m\u001B[43m(\u001B[49m\u001B[43mmethod\u001B[49m\u001B[43m,\u001B[49m\u001B[43m \u001B[49m\u001B[43murl\u001B[49m\u001B[43m,\u001B[49m\u001B[43m \u001B[49m\u001B[43mbody\u001B[49m\u001B[38;5;241;43m=\u001B[39;49m\u001B[43mbody\u001B[49m\u001B[43m,\u001B[49m\u001B[43m \u001B[49m\u001B[43mheaders\u001B[49m\u001B[38;5;241;43m=\u001B[39;49m\u001B[43mheaders\u001B[49m\u001B[43m)\u001B[49m\n\u001B[1;32m    323\u001B[0m     statuscode \u001B[38;5;241m=\u001B[39m response\u001B[38;5;241m.\u001B[39mstatus\n\u001B[1;32m    324\u001B[0m \u001B[38;5;28;01melse\u001B[39;00m:\n",
      "File \u001B[0;32m~/anaconda3/envs/env_analysis_m2s/lib/python3.10/site-packages/urllib3/_request_methods.py:118\u001B[0m, in \u001B[0;36mRequestMethods.request\u001B[0;34m(self, method, url, body, fields, headers, json, **urlopen_kw)\u001B[0m\n\u001B[1;32m    110\u001B[0m     \u001B[38;5;28;01mreturn\u001B[39;00m \u001B[38;5;28mself\u001B[39m\u001B[38;5;241m.\u001B[39mrequest_encode_url(\n\u001B[1;32m    111\u001B[0m         method,\n\u001B[1;32m    112\u001B[0m         url,\n\u001B[0;32m   (...)\u001B[0m\n\u001B[1;32m    115\u001B[0m         \u001B[38;5;241m*\u001B[39m\u001B[38;5;241m*\u001B[39murlopen_kw,\n\u001B[1;32m    116\u001B[0m     )\n\u001B[1;32m    117\u001B[0m \u001B[38;5;28;01melse\u001B[39;00m:\n\u001B[0;32m--> 118\u001B[0m     \u001B[38;5;28;01mreturn\u001B[39;00m \u001B[38;5;28;43mself\u001B[39;49m\u001B[38;5;241;43m.\u001B[39;49m\u001B[43mrequest_encode_body\u001B[49m\u001B[43m(\u001B[49m\n\u001B[1;32m    119\u001B[0m \u001B[43m        \u001B[49m\u001B[43mmethod\u001B[49m\u001B[43m,\u001B[49m\u001B[43m \u001B[49m\u001B[43murl\u001B[49m\u001B[43m,\u001B[49m\u001B[43m \u001B[49m\u001B[43mfields\u001B[49m\u001B[38;5;241;43m=\u001B[39;49m\u001B[43mfields\u001B[49m\u001B[43m,\u001B[49m\u001B[43m \u001B[49m\u001B[43mheaders\u001B[49m\u001B[38;5;241;43m=\u001B[39;49m\u001B[43mheaders\u001B[49m\u001B[43m,\u001B[49m\u001B[43m \u001B[49m\u001B[38;5;241;43m*\u001B[39;49m\u001B[38;5;241;43m*\u001B[39;49m\u001B[43murlopen_kw\u001B[49m\n\u001B[1;32m    120\u001B[0m \u001B[43m    \u001B[49m\u001B[43m)\u001B[49m\n",
      "File \u001B[0;32m~/anaconda3/envs/env_analysis_m2s/lib/python3.10/site-packages/urllib3/_request_methods.py:217\u001B[0m, in \u001B[0;36mRequestMethods.request_encode_body\u001B[0;34m(self, method, url, fields, headers, encode_multipart, multipart_boundary, **urlopen_kw)\u001B[0m\n\u001B[1;32m    213\u001B[0m     extra_kw[\u001B[38;5;124m\"\u001B[39m\u001B[38;5;124mheaders\u001B[39m\u001B[38;5;124m\"\u001B[39m]\u001B[38;5;241m.\u001B[39msetdefault(\u001B[38;5;124m\"\u001B[39m\u001B[38;5;124mContent-Type\u001B[39m\u001B[38;5;124m\"\u001B[39m, content_type)\n\u001B[1;32m    215\u001B[0m extra_kw\u001B[38;5;241m.\u001B[39mupdate(urlopen_kw)\n\u001B[0;32m--> 217\u001B[0m \u001B[38;5;28;01mreturn\u001B[39;00m \u001B[38;5;28;43mself\u001B[39;49m\u001B[38;5;241;43m.\u001B[39;49m\u001B[43murlopen\u001B[49m\u001B[43m(\u001B[49m\u001B[43mmethod\u001B[49m\u001B[43m,\u001B[49m\u001B[43m \u001B[49m\u001B[43murl\u001B[49m\u001B[43m,\u001B[49m\u001B[43m \u001B[49m\u001B[38;5;241;43m*\u001B[39;49m\u001B[38;5;241;43m*\u001B[39;49m\u001B[43mextra_kw\u001B[49m\u001B[43m)\u001B[49m\n",
      "File \u001B[0;32m~/anaconda3/envs/env_analysis_m2s/lib/python3.10/site-packages/urllib3/poolmanager.py:443\u001B[0m, in \u001B[0;36mPoolManager.urlopen\u001B[0;34m(self, method, url, redirect, **kw)\u001B[0m\n\u001B[1;32m    441\u001B[0m     response \u001B[38;5;241m=\u001B[39m conn\u001B[38;5;241m.\u001B[39murlopen(method, url, \u001B[38;5;241m*\u001B[39m\u001B[38;5;241m*\u001B[39mkw)\n\u001B[1;32m    442\u001B[0m \u001B[38;5;28;01melse\u001B[39;00m:\n\u001B[0;32m--> 443\u001B[0m     response \u001B[38;5;241m=\u001B[39m \u001B[43mconn\u001B[49m\u001B[38;5;241;43m.\u001B[39;49m\u001B[43murlopen\u001B[49m\u001B[43m(\u001B[49m\u001B[43mmethod\u001B[49m\u001B[43m,\u001B[49m\u001B[43m \u001B[49m\u001B[43mu\u001B[49m\u001B[38;5;241;43m.\u001B[39;49m\u001B[43mrequest_uri\u001B[49m\u001B[43m,\u001B[49m\u001B[43m \u001B[49m\u001B[38;5;241;43m*\u001B[39;49m\u001B[38;5;241;43m*\u001B[39;49m\u001B[43mkw\u001B[49m\u001B[43m)\u001B[49m\n\u001B[1;32m    445\u001B[0m redirect_location \u001B[38;5;241m=\u001B[39m redirect \u001B[38;5;129;01mand\u001B[39;00m response\u001B[38;5;241m.\u001B[39mget_redirect_location()\n\u001B[1;32m    446\u001B[0m \u001B[38;5;28;01mif\u001B[39;00m \u001B[38;5;129;01mnot\u001B[39;00m redirect_location:\n",
      "File \u001B[0;32m~/anaconda3/envs/env_analysis_m2s/lib/python3.10/site-packages/urllib3/connectionpool.py:790\u001B[0m, in \u001B[0;36mHTTPConnectionPool.urlopen\u001B[0;34m(self, method, url, body, headers, retries, redirect, assert_same_host, timeout, pool_timeout, release_conn, chunked, body_pos, preload_content, decode_content, **response_kw)\u001B[0m\n\u001B[1;32m    787\u001B[0m response_conn \u001B[38;5;241m=\u001B[39m conn \u001B[38;5;28;01mif\u001B[39;00m \u001B[38;5;129;01mnot\u001B[39;00m release_conn \u001B[38;5;28;01melse\u001B[39;00m \u001B[38;5;28;01mNone\u001B[39;00m\n\u001B[1;32m    789\u001B[0m \u001B[38;5;66;03m# Make the request on the HTTPConnection object\u001B[39;00m\n\u001B[0;32m--> 790\u001B[0m response \u001B[38;5;241m=\u001B[39m \u001B[38;5;28;43mself\u001B[39;49m\u001B[38;5;241;43m.\u001B[39;49m\u001B[43m_make_request\u001B[49m\u001B[43m(\u001B[49m\n\u001B[1;32m    791\u001B[0m \u001B[43m    \u001B[49m\u001B[43mconn\u001B[49m\u001B[43m,\u001B[49m\n\u001B[1;32m    792\u001B[0m \u001B[43m    \u001B[49m\u001B[43mmethod\u001B[49m\u001B[43m,\u001B[49m\n\u001B[1;32m    793\u001B[0m \u001B[43m    \u001B[49m\u001B[43murl\u001B[49m\u001B[43m,\u001B[49m\n\u001B[1;32m    794\u001B[0m \u001B[43m    \u001B[49m\u001B[43mtimeout\u001B[49m\u001B[38;5;241;43m=\u001B[39;49m\u001B[43mtimeout_obj\u001B[49m\u001B[43m,\u001B[49m\n\u001B[1;32m    795\u001B[0m \u001B[43m    \u001B[49m\u001B[43mbody\u001B[49m\u001B[38;5;241;43m=\u001B[39;49m\u001B[43mbody\u001B[49m\u001B[43m,\u001B[49m\n\u001B[1;32m    796\u001B[0m \u001B[43m    \u001B[49m\u001B[43mheaders\u001B[49m\u001B[38;5;241;43m=\u001B[39;49m\u001B[43mheaders\u001B[49m\u001B[43m,\u001B[49m\n\u001B[1;32m    797\u001B[0m \u001B[43m    \u001B[49m\u001B[43mchunked\u001B[49m\u001B[38;5;241;43m=\u001B[39;49m\u001B[43mchunked\u001B[49m\u001B[43m,\u001B[49m\n\u001B[1;32m    798\u001B[0m \u001B[43m    \u001B[49m\u001B[43mretries\u001B[49m\u001B[38;5;241;43m=\u001B[39;49m\u001B[43mretries\u001B[49m\u001B[43m,\u001B[49m\n\u001B[1;32m    799\u001B[0m \u001B[43m    \u001B[49m\u001B[43mresponse_conn\u001B[49m\u001B[38;5;241;43m=\u001B[39;49m\u001B[43mresponse_conn\u001B[49m\u001B[43m,\u001B[49m\n\u001B[1;32m    800\u001B[0m \u001B[43m    \u001B[49m\u001B[43mpreload_content\u001B[49m\u001B[38;5;241;43m=\u001B[39;49m\u001B[43mpreload_content\u001B[49m\u001B[43m,\u001B[49m\n\u001B[1;32m    801\u001B[0m \u001B[43m    \u001B[49m\u001B[43mdecode_content\u001B[49m\u001B[38;5;241;43m=\u001B[39;49m\u001B[43mdecode_content\u001B[49m\u001B[43m,\u001B[49m\n\u001B[1;32m    802\u001B[0m \u001B[43m    \u001B[49m\u001B[38;5;241;43m*\u001B[39;49m\u001B[38;5;241;43m*\u001B[39;49m\u001B[43mresponse_kw\u001B[49m\u001B[43m,\u001B[49m\n\u001B[1;32m    803\u001B[0m \u001B[43m\u001B[49m\u001B[43m)\u001B[49m\n\u001B[1;32m    805\u001B[0m \u001B[38;5;66;03m# Everything went great!\u001B[39;00m\n\u001B[1;32m    806\u001B[0m clean_exit \u001B[38;5;241m=\u001B[39m \u001B[38;5;28;01mTrue\u001B[39;00m\n",
      "File \u001B[0;32m~/anaconda3/envs/env_analysis_m2s/lib/python3.10/site-packages/urllib3/connectionpool.py:536\u001B[0m, in \u001B[0;36mHTTPConnectionPool._make_request\u001B[0;34m(self, conn, method, url, body, headers, retries, timeout, chunked, response_conn, preload_content, decode_content, enforce_content_length)\u001B[0m\n\u001B[1;32m    534\u001B[0m \u001B[38;5;66;03m# Receive the response from the server\u001B[39;00m\n\u001B[1;32m    535\u001B[0m \u001B[38;5;28;01mtry\u001B[39;00m:\n\u001B[0;32m--> 536\u001B[0m     response \u001B[38;5;241m=\u001B[39m \u001B[43mconn\u001B[49m\u001B[38;5;241;43m.\u001B[39;49m\u001B[43mgetresponse\u001B[49m\u001B[43m(\u001B[49m\u001B[43m)\u001B[49m\n\u001B[1;32m    537\u001B[0m \u001B[38;5;28;01mexcept\u001B[39;00m (BaseSSLError, \u001B[38;5;167;01mOSError\u001B[39;00m) \u001B[38;5;28;01mas\u001B[39;00m e:\n\u001B[1;32m    538\u001B[0m     \u001B[38;5;28mself\u001B[39m\u001B[38;5;241m.\u001B[39m_raise_timeout(err\u001B[38;5;241m=\u001B[39me, url\u001B[38;5;241m=\u001B[39murl, timeout_value\u001B[38;5;241m=\u001B[39mread_timeout)\n",
      "File \u001B[0;32m~/anaconda3/envs/env_analysis_m2s/lib/python3.10/site-packages/urllib3/connection.py:454\u001B[0m, in \u001B[0;36mHTTPConnection.getresponse\u001B[0;34m(self)\u001B[0m\n\u001B[1;32m    451\u001B[0m \u001B[38;5;28;01mfrom\u001B[39;00m \u001B[38;5;21;01m.\u001B[39;00m\u001B[38;5;21;01mresponse\u001B[39;00m \u001B[38;5;28;01mimport\u001B[39;00m HTTPResponse\n\u001B[1;32m    453\u001B[0m \u001B[38;5;66;03m# Get the response from http.client.HTTPConnection\u001B[39;00m\n\u001B[0;32m--> 454\u001B[0m httplib_response \u001B[38;5;241m=\u001B[39m \u001B[38;5;28;43msuper\u001B[39;49m\u001B[43m(\u001B[49m\u001B[43m)\u001B[49m\u001B[38;5;241;43m.\u001B[39;49m\u001B[43mgetresponse\u001B[49m\u001B[43m(\u001B[49m\u001B[43m)\u001B[49m\n\u001B[1;32m    456\u001B[0m \u001B[38;5;28;01mtry\u001B[39;00m:\n\u001B[1;32m    457\u001B[0m     assert_header_parsing(httplib_response\u001B[38;5;241m.\u001B[39mmsg)\n",
      "File \u001B[0;32m~/anaconda3/envs/env_analysis_m2s/lib/python3.10/http/client.py:1375\u001B[0m, in \u001B[0;36mHTTPConnection.getresponse\u001B[0;34m(self)\u001B[0m\n\u001B[1;32m   1373\u001B[0m \u001B[38;5;28;01mtry\u001B[39;00m:\n\u001B[1;32m   1374\u001B[0m     \u001B[38;5;28;01mtry\u001B[39;00m:\n\u001B[0;32m-> 1375\u001B[0m         \u001B[43mresponse\u001B[49m\u001B[38;5;241;43m.\u001B[39;49m\u001B[43mbegin\u001B[49m\u001B[43m(\u001B[49m\u001B[43m)\u001B[49m\n\u001B[1;32m   1376\u001B[0m     \u001B[38;5;28;01mexcept\u001B[39;00m \u001B[38;5;167;01mConnectionError\u001B[39;00m:\n\u001B[1;32m   1377\u001B[0m         \u001B[38;5;28mself\u001B[39m\u001B[38;5;241m.\u001B[39mclose()\n",
      "File \u001B[0;32m~/anaconda3/envs/env_analysis_m2s/lib/python3.10/http/client.py:318\u001B[0m, in \u001B[0;36mHTTPResponse.begin\u001B[0;34m(self)\u001B[0m\n\u001B[1;32m    316\u001B[0m \u001B[38;5;66;03m# read until we get a non-100 response\u001B[39;00m\n\u001B[1;32m    317\u001B[0m \u001B[38;5;28;01mwhile\u001B[39;00m \u001B[38;5;28;01mTrue\u001B[39;00m:\n\u001B[0;32m--> 318\u001B[0m     version, status, reason \u001B[38;5;241m=\u001B[39m \u001B[38;5;28;43mself\u001B[39;49m\u001B[38;5;241;43m.\u001B[39;49m\u001B[43m_read_status\u001B[49m\u001B[43m(\u001B[49m\u001B[43m)\u001B[49m\n\u001B[1;32m    319\u001B[0m     \u001B[38;5;28;01mif\u001B[39;00m status \u001B[38;5;241m!=\u001B[39m CONTINUE:\n\u001B[1;32m    320\u001B[0m         \u001B[38;5;28;01mbreak\u001B[39;00m\n",
      "File \u001B[0;32m~/anaconda3/envs/env_analysis_m2s/lib/python3.10/http/client.py:279\u001B[0m, in \u001B[0;36mHTTPResponse._read_status\u001B[0;34m(self)\u001B[0m\n\u001B[1;32m    278\u001B[0m \u001B[38;5;28;01mdef\u001B[39;00m \u001B[38;5;21m_read_status\u001B[39m(\u001B[38;5;28mself\u001B[39m):\n\u001B[0;32m--> 279\u001B[0m     line \u001B[38;5;241m=\u001B[39m \u001B[38;5;28mstr\u001B[39m(\u001B[38;5;28;43mself\u001B[39;49m\u001B[38;5;241;43m.\u001B[39;49m\u001B[43mfp\u001B[49m\u001B[38;5;241;43m.\u001B[39;49m\u001B[43mreadline\u001B[49m\u001B[43m(\u001B[49m\u001B[43m_MAXLINE\u001B[49m\u001B[43m \u001B[49m\u001B[38;5;241;43m+\u001B[39;49m\u001B[43m \u001B[49m\u001B[38;5;241;43m1\u001B[39;49m\u001B[43m)\u001B[49m, \u001B[38;5;124m\"\u001B[39m\u001B[38;5;124miso-8859-1\u001B[39m\u001B[38;5;124m\"\u001B[39m)\n\u001B[1;32m    280\u001B[0m     \u001B[38;5;28;01mif\u001B[39;00m \u001B[38;5;28mlen\u001B[39m(line) \u001B[38;5;241m>\u001B[39m _MAXLINE:\n\u001B[1;32m    281\u001B[0m         \u001B[38;5;28;01mraise\u001B[39;00m LineTooLong(\u001B[38;5;124m\"\u001B[39m\u001B[38;5;124mstatus line\u001B[39m\u001B[38;5;124m\"\u001B[39m)\n",
      "File \u001B[0;32m~/anaconda3/envs/env_analysis_m2s/lib/python3.10/socket.py:705\u001B[0m, in \u001B[0;36mSocketIO.readinto\u001B[0;34m(self, b)\u001B[0m\n\u001B[1;32m    703\u001B[0m \u001B[38;5;28;01mwhile\u001B[39;00m \u001B[38;5;28;01mTrue\u001B[39;00m:\n\u001B[1;32m    704\u001B[0m     \u001B[38;5;28;01mtry\u001B[39;00m:\n\u001B[0;32m--> 705\u001B[0m         \u001B[38;5;28;01mreturn\u001B[39;00m \u001B[38;5;28;43mself\u001B[39;49m\u001B[38;5;241;43m.\u001B[39;49m\u001B[43m_sock\u001B[49m\u001B[38;5;241;43m.\u001B[39;49m\u001B[43mrecv_into\u001B[49m\u001B[43m(\u001B[49m\u001B[43mb\u001B[49m\u001B[43m)\u001B[49m\n\u001B[1;32m    706\u001B[0m     \u001B[38;5;28;01mexcept\u001B[39;00m timeout:\n\u001B[1;32m    707\u001B[0m         \u001B[38;5;28mself\u001B[39m\u001B[38;5;241m.\u001B[39m_timeout_occurred \u001B[38;5;241m=\u001B[39m \u001B[38;5;28;01mTrue\u001B[39;00m\n",
      "\u001B[0;31mKeyboardInterrupt\u001B[0m: "
     ]
    }
   ],
   "source": [
    "if __name__ == \"__main__\":\n",
    "    # Setup WebDriver\n",
    "    options = Options()\n",
    "    service = Service('/usr/local/bin/chromedriver')\n",
    "    driver = webdriver.Chrome(service=service, options=options)\n",
    "    wait = WebDriverWait(driver, 5)\n",
    "    \n",
    "    collection = db.events\n",
    "    try:\n",
    "        #for document in collection.find().limit(5):\n",
    "        for document in collection.find():\n",
    "            url = document['link']\n",
    "            driver.get(url)\n",
    "            event_details = scrape_eventdetails(wait, driver)\n",
    "            update_result = collection.update_one({'_id': document['_id']}, {'$set': {'eventdetails': event_details}})\n",
    "            \n",
    "            results = scrape_eventresults(url, driver, wait)\n",
    "            # Update the MongoDB document with the results structured by class names\n",
    "            update_result = collection.update_one({'_id': document['_id']}, {'$set': {'resultsByClass': results}})\n",
    "    except Exception as e:\n",
    "        print(f\"An error occurred: {e}\")\n",
    "    finally:\n",
    "        driver.quit()"
   ],
   "metadata": {
    "collapsed": false,
    "ExecuteTime": {
     "end_time": "2024-05-14T08:31:31.414553Z",
     "start_time": "2024-05-14T08:31:07.542227Z"
    }
   },
   "id": "a73de2cee97e3f9b",
   "execution_count": 164
  }
 ],
 "metadata": {
  "kernelspec": {
   "display_name": "Python 3",
   "language": "python",
   "name": "python3"
  },
  "language_info": {
   "codemirror_mode": {
    "name": "ipython",
    "version": 2
   },
   "file_extension": ".py",
   "mimetype": "text/x-python",
   "name": "python",
   "nbconvert_exporter": "python",
   "pygments_lexer": "ipython2",
   "version": "2.7.6"
  }
 },
 "nbformat": 4,
 "nbformat_minor": 5
}
