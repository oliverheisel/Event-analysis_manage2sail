{
 "cells": [
  {
   "cell_type": "code",
   "execution_count": 434,
   "id": "initial_id",
   "metadata": {
    "collapsed": true,
    "ExecuteTime": {
     "end_time": "2024-05-05T13:34:25.145367Z",
     "start_time": "2024-05-05T13:34:25.138369Z"
    }
   },
   "outputs": [],
   "source": [
    "# Libaries\n",
    "from selenium import webdriver\n",
    "from selenium.webdriver.chrome.service import Service\n",
    "from selenium.common.exceptions import NoSuchElementException\n",
    "from selenium.webdriver.common.by import By\n",
    "from selenium.webdriver.chrome.options import Options\n",
    "from selenium.webdriver.support.ui import Select, WebDriverWait\n",
    "from selenium.webdriver.support import expected_conditions as EC\n",
    "import pymongo"
   ]
  },
  {
   "cell_type": "code",
   "outputs": [
    {
     "name": "stdout",
     "output_type": "stream",
     "text": [
      "Database exists!\n"
     ]
    }
   ],
   "source": [
    "# Database connection\n",
    "\"\"\" in case you want to create your on database, just change this 3 variables according to your database. \n",
    "Database and collections will be created automatically.\"\"\"\n",
    "username = \"globaladmin\"\n",
    "password = \"UEKaeSc8Q3LK5naw\"\n",
    "db_url = \"cluster1.etdy2wm.mongodb.net\"\n",
    "\n",
    "# database string\n",
    "CNX_STR = f\"mongodb+srv://{username}:{password}@{db_url}/?connectTimeoutMS=50000\"\n",
    "client = pymongo.MongoClient(CNX_STR)\n",
    "\n",
    "# heck if the database exists\n",
    "if \"manage2sail\" in client.list_database_names():\n",
    "    print(\"Database exists!\")\n",
    "    db = client.manage2sail\n",
    "else:\n",
    "    print(\"Database does not exist!\")"
   ],
   "metadata": {
    "collapsed": false,
    "ExecuteTime": {
     "end_time": "2024-05-05T13:34:25.576224Z",
     "start_time": "2024-05-05T13:34:25.149789Z"
    }
   },
   "id": "46ba8c1bd5ee5711",
   "execution_count": 435
  },
  {
   "cell_type": "code",
   "outputs": [],
   "source": [
    "def scrape_eventdetails(wait, driver):\n",
    "    eventdetails = []\n",
    "    selector = '#details > table'\n",
    "    wait.until(EC.visibility_of_element_located((By.CSS_SELECTOR, selector)))\n",
    "    table = driver.find_element(By.CSS_SELECTOR, selector)\n",
    "    for row in table.find_elements(By.TAG_NAME, 'tr'):\n",
    "        columns = row.find_elements(By.TAG_NAME, 'td')\n",
    "        if len(columns) >= 2:  # Ensure there are at least two columns\n",
    "            key = columns[0].text.strip(': ')\n",
    "            value = columns[1].text\n",
    "            eventdetails.append({key: value})  # Append each key-value pair to results list\n",
    "\n",
    "    return eventdetails"
   ],
   "metadata": {
    "collapsed": false,
    "ExecuteTime": {
     "end_time": "2024-05-05T13:34:25.580835Z",
     "start_time": "2024-05-05T13:34:25.578507Z"
    }
   },
   "id": "2cc8d8eff03e7fac",
   "execution_count": 436
  },
  {
   "cell_type": "code",
   "outputs": [],
   "source": [
    "def get_table_headers(driver, wait, header_selector):\n",
    "    try:\n",
    "        headers = wait.until(EC.visibility_of_element_located((By.CSS_SELECTOR, header_selector)))\n",
    "        header_texts = [th.text for th in headers.find_elements(By.TAG_NAME, 'th') if 'ng-hide' not in th.get_attribute('class')]\n",
    "        return header_texts\n",
    "    except Exception as e:\n",
    "        print(f\"An error occurred while fetching headers: {e}\")\n",
    "        return []"
   ],
   "metadata": {
    "collapsed": false,
    "ExecuteTime": {
     "end_time": "2024-05-05T13:34:25.585904Z",
     "start_time": "2024-05-05T13:34:25.581645Z"
    }
   },
   "id": "b473e46ff4b0650e",
   "execution_count": 437
  },
  {
   "cell_type": "code",
   "outputs": [],
   "source": [
    "def replace_column_keys(data, headers):\n",
    "    new_data = []\n",
    "    for record in data:\n",
    "        new_record = {}\n",
    "        for (key, value), header in zip(record.items(), headers):\n",
    "            if key.strip() and value.strip():  # Check if both key and value are not empty\n",
    "                new_record[header] = value\n",
    "        new_data.append(new_record)\n",
    "    return new_data"
   ],
   "metadata": {
    "collapsed": false,
    "ExecuteTime": {
     "end_time": "2024-05-05T13:34:25.590553Z",
     "start_time": "2024-05-05T13:34:25.585867Z"
    }
   },
   "id": "1ef388c54687ea4f",
   "execution_count": 438
  },
  {
   "cell_type": "code",
   "outputs": [],
   "source": [
    "def scrape_eventresults(base_url, driver):\n",
    "    results = {}\n",
    "    wait = WebDriverWait(driver, 10)\n",
    "    results_url = base_url + '#!/results'\n",
    "    driver.get(results_url)\n",
    "\n",
    "    dropdown_selector = '#results > div > div > select'\n",
    "    regatta_name_selector = '#results > div > div > div.regattaName'\n",
    "    table_selector = '#results > div > div > div:nth-child(3) > div:nth-child(5) > div:nth-child(2) > div:nth-child(3) > table:nth-child(4)'\n",
    "    header_selector = table_selector + ' > thead'\n",
    "\n",
    "    try:\n",
    "        dropdown = wait.until(EC.presence_of_element_located((By.CSS_SELECTOR, dropdown_selector)))\n",
    "        select = Select(dropdown)\n",
    "        if len(select.options) > 0:\n",
    "            for option in select.options:\n",
    "                option_name = option.text\n",
    "                select.select_by_visible_text(option_name)\n",
    "                wait.until(EC.visibility_of_element_located((By.CSS_SELECTOR, table_selector)))\n",
    "\n",
    "                results[option_name] = []\n",
    "                table = driver.find_element(By.CSS_SELECTOR, table_selector)\n",
    "                headers = get_table_headers(driver, wait, header_selector)\n",
    "                for row in table.find_elements(By.TAG_NAME, 'tr'):\n",
    "                    columns = row.find_elements(By.TAG_NAME, 'td')\n",
    "                    row_data = {f\"column_{i}\": col.text for i, col in enumerate(columns) if 'ng-hide' not in col.get_attribute('class')}\n",
    "                    if any(value.strip() for value in row_data.values()):\n",
    "                        results[option_name].append(row_data)\n",
    "                results[option_name] = replace_column_keys(results[option_name], headers)\n",
    "        else:\n",
    "            raise Exception(\"No options found in dropdown\")\n",
    "    except Exception as e:\n",
    "        regatta_name = driver.find_element(By.CSS_SELECTOR, regatta_name_selector).text\n",
    "        results[regatta_name] = []\n",
    "        table = driver.find_element(By.CSS_SELECTOR, table_selector)\n",
    "        headers = get_table_headers(driver, wait, header_selector)\n",
    "        for row in table.find_elements(By.TAG_NAME, 'tr'):\n",
    "            columns = row.find_elements(By.TAG_NAME, 'td')\n",
    "            row_data = {f\"column_{i}\": col.text for i, col in enumerate(columns) if 'ng-hide' not in col.get_attribute('class')}\n",
    "            if any(value.strip() for value in row_data.values()):\n",
    "                results[regatta_name].append(row_data)\n",
    "            results[regatta_name] = replace_column_keys(results[regatta_name], headers)\n",
    "\n",
    "    return results"
   ],
   "metadata": {
    "collapsed": false,
    "ExecuteTime": {
     "end_time": "2024-05-05T13:34:25.595620Z",
     "start_time": "2024-05-05T13:34:25.591445Z"
    }
   },
   "id": "64641e640119db57",
   "execution_count": 439
  },
  {
   "cell_type": "code",
   "outputs": [
    {
     "name": "stdout",
     "output_type": "stream",
     "text": [
      "An error occurred: Message: no such element: Unable to locate element: {\"method\":\"css selector\",\"selector\":\"#results > div > div > div.regattaName\"}\n",
      "  (Session info: chrome=124.0.6367.119); For documentation on this error, please visit: https://www.selenium.dev/documentation/webdriver/troubleshooting/errors#no-such-element-exception\n",
      "Stacktrace:\n",
      "0   chromedriver                        0x00000001046768cc chromedriver + 4368588\n",
      "1   chromedriver                        0x000000010466ed60 chromedriver + 4336992\n",
      "2   chromedriver                        0x0000000104292c04 chromedriver + 289796\n",
      "3   chromedriver                        0x00000001042d4e00 chromedriver + 560640\n",
      "4   chromedriver                        0x000000010430d5ec chromedriver + 792044\n",
      "5   chromedriver                        0x00000001042c9ab4 chromedriver + 514740\n",
      "6   chromedriver                        0x00000001042ca50c chromedriver + 517388\n",
      "7   chromedriver                        0x000000010463ade8 chromedriver + 4124136\n",
      "8   chromedriver                        0x000000010463fbd8 chromedriver + 4144088\n",
      "9   chromedriver                        0x00000001046207b0 chromedriver + 4016048\n",
      "10  chromedriver                        0x0000000104640508 chromedriver + 4146440\n",
      "11  chromedriver                        0x0000000104612264 chromedriver + 3957348\n",
      "12  chromedriver                        0x000000010465fe50 chromedriver + 4275792\n",
      "13  chromedriver                        0x000000010465ffcc chromedriver + 4276172\n",
      "14  chromedriver                        0x000000010466e9c0 chromedriver + 4336064\n",
      "15  libsystem_pthread.dylib             0x000000018b71e034 _pthread_start + 136\n",
      "16  libsystem_pthread.dylib             0x000000018b718e3c thread_start + 8\n"
     ]
    }
   ],
   "source": [
    "if __name__ == \"__main__\":\n",
    "    # Setup WebDriver\n",
    "    options = Options()\n",
    "    service = Service('/usr/local/bin/chromedriver')\n",
    "    driver = webdriver.Chrome(service=service, options=options)\n",
    "    wait = WebDriverWait(driver, 5)\n",
    "    \n",
    "    collection = db.events\n",
    "    try:\n",
    "        for document in collection.find().limit(1):\n",
    "            url = document['link']\n",
    "            driver.get(url)\n",
    "            event_details = scrape_eventdetails(wait, driver)\n",
    "            update_result = collection.update_one({'_id': document['_id']}, {'$set': {'eventdetails': event_details}})\n",
    "            \n",
    "            results = scrape_eventresults(url, driver)\n",
    "            # Update the MongoDB document with the results structured by class names\n",
    "            update_result = collection.update_one({'_id': document['_id']}, {'$set': {'resultsByClass': results}})\n",
    "    except Exception as e:\n",
    "        print(f\"An error occurred: {e}\")\n",
    "    finally:\n",
    "        driver.quit()"
   ],
   "metadata": {
    "collapsed": false,
    "ExecuteTime": {
     "end_time": "2024-05-05T13:34:33.540408Z",
     "start_time": "2024-05-05T13:34:25.597438Z"
    }
   },
   "id": "a73de2cee97e3f9b",
   "execution_count": 440
  }
 ],
 "metadata": {
  "kernelspec": {
   "display_name": "Python 3",
   "language": "python",
   "name": "python3"
  },
  "language_info": {
   "codemirror_mode": {
    "name": "ipython",
    "version": 2
   },
   "file_extension": ".py",
   "mimetype": "text/x-python",
   "name": "python",
   "nbconvert_exporter": "python",
   "pygments_lexer": "ipython2",
   "version": "2.7.6"
  }
 },
 "nbformat": 4,
 "nbformat_minor": 5
}
