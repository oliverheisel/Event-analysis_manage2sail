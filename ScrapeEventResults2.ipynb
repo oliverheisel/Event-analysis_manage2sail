{
 "cells": [
  {
   "cell_type": "code",
   "execution_count": 147,
   "id": "initial_id",
   "metadata": {
    "collapsed": true,
    "ExecuteTime": {
     "end_time": "2024-05-14T08:28:32.355847Z",
     "start_time": "2024-05-14T08:28:32.350488Z"
    }
   },
   "outputs": [],
   "source": [
    "# Libaries\n",
    "from selenium import webdriver\n",
    "from selenium.webdriver.chrome.service import Service\n",
    "from selenium.common.exceptions import NoSuchElementException\n",
    "from selenium.webdriver.common.by import By\n",
    "from selenium.webdriver.chrome.options import Options\n",
    "from selenium.webdriver.support.ui import Select, WebDriverWait\n",
    "from selenium.webdriver.support import expected_conditions as EC\n",
    "import pymongo\n",
    "from selenium.webdriver.support.ui import WebDriverWait, Select"
   ]
  },
  {
   "cell_type": "code",
   "outputs": [
    {
     "name": "stdout",
     "output_type": "stream",
     "text": [
      "Database exists!\n"
     ]
    }
   ],
   "source": [
    "# Database connection\n",
    "\"\"\" in case you want to create your on database, just change this 3 variables according to your database. \n",
    "Database and collections will be created automatically.\"\"\"\n",
    "username = \"globaladmin\"\n",
    "password = \"UEKaeSc8Q3LK5naw\"\n",
    "db_url = \"cluster1.etdy2wm.mongodb.net\"\n",
    "\n",
    "# database string\n",
    "CNX_STR = f\"mongodb+srv://{username}:{password}@{db_url}/?connectTimeoutMS=50000\"\n",
    "client = pymongo.MongoClient(CNX_STR)\n",
    "\n",
    "# heck if the database exists\n",
    "if \"manage2sail\" in client.list_database_names():\n",
    "    print(\"Database exists!\")\n",
    "    db = client.manage2sail\n",
    "else:\n",
    "    print(\"Database does not exist!\")"
   ],
   "metadata": {
    "collapsed": false,
    "ExecuteTime": {
     "end_time": "2024-05-14T08:28:32.818794Z",
     "start_time": "2024-05-14T08:28:32.355157Z"
    }
   },
   "id": "46ba8c1bd5ee5711",
   "execution_count": 148
  },
  {
   "cell_type": "code",
   "outputs": [],
   "source": [
    "def scrape_eventdetails(wait, driver):\n",
    "    eventdetails = []\n",
    "    selector = '#details > table'\n",
    "    wait.until(EC.visibility_of_element_located((By.CSS_SELECTOR, selector)))\n",
    "    table = driver.find_element(By.CSS_SELECTOR, selector)\n",
    "    for row in table.find_elements(By.TAG_NAME, 'tr'):\n",
    "        columns = row.find_elements(By.TAG_NAME, 'td')\n",
    "        if len(columns) >= 2:  # Ensure there are at least two columns\n",
    "            key = columns[0].text.strip(': ')\n",
    "            value = columns[1].text\n",
    "            eventdetails.append({key: value})  # Append each key-value pair to results list\n",
    "\n",
    "    return eventdetails"
   ],
   "metadata": {
    "collapsed": false,
    "ExecuteTime": {
     "end_time": "2024-05-14T08:28:32.822486Z",
     "start_time": "2024-05-14T08:28:32.817790Z"
    }
   },
   "id": "2cc8d8eff03e7fac",
   "execution_count": 149
  },
  {
   "cell_type": "code",
   "outputs": [],
   "source": [
    "def scrape_resultdetails(wait, driver):\n",
    "    try:\n",
    "        result_details = {}\n",
    "        \n",
    "        # Selector for main result details text\n",
    "        details_selector = '#results > div > div > div:nth-child(3) > div:nth-child(5) > div:nth-child(2) > div:nth-child(3) > div.resultInfo > div.pull-left.scoring-info'\n",
    "        wait.until(EC.visibility_of_element_located((By.CSS_SELECTOR, details_selector)))\n",
    "        result_info_element = driver.find_element(By.CSS_SELECTOR, details_selector)\n",
    "        \n",
    "        # Extract text and split by new lines\n",
    "        lines = result_info_element.text.split('\\n')\n",
    "        for line in lines:\n",
    "            if ':' in line:\n",
    "                key, value = line.split(':', 1)\n",
    "                result_details[key.strip()] = value.strip()\n",
    "\n",
    "        return result_details\n",
    "    except Exception as e:\n",
    "        return \"No result details\""
   ],
   "metadata": {
    "collapsed": false,
    "ExecuteTime": {
     "end_time": "2024-05-14T08:28:32.826840Z",
     "start_time": "2024-05-14T08:28:32.822486Z"
    }
   },
   "id": "c83bba19cc316a3b",
   "execution_count": 150
  },
  {
   "cell_type": "code",
   "outputs": [],
   "source": [
    "def scrape_publishdetails(wait, driver):\n",
    "    try:\n",
    "        publish_details = {}\n",
    "\n",
    "        # Selector for publishing details text\n",
    "        publishing_selector = '#results > div > div > div:nth-child(3) > div:nth-child(5) > div:nth-child(2) > div:nth-child(3) > div.resultInfo > div.pull-right.publishing-info'\n",
    "        wait.until(EC.visibility_of_element_located((By.CSS_SELECTOR, publishing_selector)))\n",
    "        publishing_info_element = driver.find_element(By.CSS_SELECTOR, publishing_selector)\n",
    "        \n",
    "        # Extract text and split by new lines\n",
    "        lines = publishing_info_element.text.split('\\n')\n",
    "        for line in lines:\n",
    "            if ':' in line:\n",
    "                key, value = line.split(':', 1)\n",
    "                publish_details[key.strip()] = value.strip()\n",
    "            else:\n",
    "                publish_details['Type'] = line.strip()\n",
    "\n",
    "        return publish_details\n",
    "    except Exception as e:\n",
    "        return \"No publish details found\""
   ],
   "metadata": {
    "collapsed": false,
    "ExecuteTime": {
     "end_time": "2024-05-14T08:28:32.830106Z",
     "start_time": "2024-05-14T08:28:32.826081Z"
    }
   },
   "id": "3e4c7d1504eb9fdd",
   "execution_count": 151
  },
  {
   "cell_type": "code",
   "outputs": [],
   "source": [
    "def get_table_headers(driver, wait, header_selector):\n",
    "    try:\n",
    "        headers = wait.until(EC.visibility_of_element_located((By.CSS_SELECTOR, header_selector)))\n",
    "        header_texts = [th.text for th in headers.find_elements(By.TAG_NAME, 'th') if 'ng-hide' not in th.get_attribute('class')]\n",
    "        return header_texts\n",
    "    except Exception as e:\n",
    "        #print(f\"An error occurred while fetching headers: {e}\")\n",
    "        return []"
   ],
   "metadata": {
    "collapsed": false,
    "ExecuteTime": {
     "end_time": "2024-05-14T08:28:32.833812Z",
     "start_time": "2024-05-14T08:28:32.828587Z"
    }
   },
   "id": "b473e46ff4b0650e",
   "execution_count": 152
  },
  {
   "cell_type": "code",
   "outputs": [],
   "source": [
    "def replace_column_keys(data, headers):\n",
    "    new_data = []\n",
    "    for record in data:\n",
    "        new_record = {}\n",
    "        for (key, value), header in zip(record.items(), headers):\n",
    "            if key.strip() and value.strip():  # Check if both key and value are not empty\n",
    "                new_record[header] = value\n",
    "        new_data.append(new_record)\n",
    "    return new_data"
   ],
   "metadata": {
    "collapsed": false,
    "ExecuteTime": {
     "end_time": "2024-05-14T08:28:32.834471Z",
     "start_time": "2024-05-14T08:28:32.832535Z"
    }
   },
   "id": "1ef388c54687ea4f",
   "execution_count": 153
  },
  {
   "cell_type": "code",
   "outputs": [],
   "source": [
    "def scrape_eventresults(base_url, driver, wait):\n",
    "    # Define result URL and open it with the WebDriver\n",
    "    results = {}\n",
    "    results_url = base_url + '#!/results'\n",
    "    driver.get(results_url)\n",
    "\n",
    "    # Define CSS selectors\n",
    "    regatta_name_selector = '#results > div > div > div.regattaName'\n",
    "    table_selector = '#results > div > div > div:nth-child(3) > div:nth-child(5) > div:nth-child(2) > div:nth-child(3) > table:nth-child(4)'\n",
    "    header_selector = table_selector + ' > thead'\n",
    "\n",
    "    # Check if the dropdown exists\n",
    "    dropdown_selector = '#results > div > div > select'\n",
    "    dropdown_elements = driver.find_elements(By.CSS_SELECTOR, dropdown_selector)\n",
    "\n",
    "    if dropdown_elements:\n",
    "        # Dropdown exists, process each option\n",
    "        select = Select(dropdown_elements[0])\n",
    "        option_texts = [option.text for option in select.options if option.text]\n",
    "\n",
    "        if not option_texts:\n",
    "            raise Exception(\"No options found in dropdown\")\n",
    "\n",
    "        for option_text in option_texts:\n",
    "            try:\n",
    "                select = Select(wait.until(EC.presence_of_element_located((By.CSS_SELECTOR, dropdown_selector))))\n",
    "                select.select_by_visible_text(option_text)\n",
    "                wait.until(EC.visibility_of_element_located((By.CSS_SELECTOR, table_selector)))\n",
    "\n",
    "                results[option_text] = {}\n",
    "                table = driver.find_element(By.CSS_SELECTOR, table_selector)\n",
    "                headers = get_table_headers(driver, wait, header_selector)\n",
    "                if len(headers) == 0:\n",
    "                    raise Exception(\"Header length is zero\")\n",
    "\n",
    "                row_data_list = []\n",
    "                for row in table.find_elements(By.TAG_NAME, 'tr'):\n",
    "                    columns = row.find_elements(By.TAG_NAME, 'td')\n",
    "                    row_data = {f\"column_{i}\": col.text for i, col in enumerate(columns) if 'ng-hide' not in col.get_attribute('class')}\n",
    "                    if any(value.strip() for value in row_data.values()):\n",
    "                        row_data_list.append(row_data)\n",
    "\n",
    "                results[option_text]['results'] = replace_column_keys(row_data_list, headers)\n",
    "                \n",
    "                # Scrape and store result details\n",
    "                result_details = scrape_resultdetails(wait, driver)\n",
    "                publish_details = scrape_publishdetails(wait, driver)\n",
    "                results[option_text]['resultdetails'] = result_details\n",
    "                results[option_text]['publishdetails'] = publish_details\n",
    "\n",
    "            except Exception as e:\n",
    "                results[option_text] = \"no results\"\n",
    "    else:\n",
    "        # No dropdown, scrape only the current page\n",
    "        try:\n",
    "            regatta_name = driver.find_element(By.CSS_SELECTOR, regatta_name_selector).text\n",
    "            results[regatta_name] = {}\n",
    "            table = driver.find_element(By.CSS_SELECTOR, table_selector)\n",
    "            headers = get_table_headers(driver, wait, header_selector)\n",
    "            if len(headers) == 0:\n",
    "                raise Exception(\"Header length is zero\")\n",
    "\n",
    "            row_data_list = []\n",
    "            for row in table.find_elements(By.TAG_NAME, 'tr'):\n",
    "                columns = row.find_elements(By.TAG_NAME, 'td')\n",
    "                row_data = {f\"column_{i}\": col.text for i, col in enumerate(columns) if 'ng-hide' not in col.get_attribute('class')}\n",
    "                if any(value.strip() for value in row_data.values()):\n",
    "                    row_data_list.append(row_data)\n",
    "\n",
    "            results[regatta_name]['results'] = replace_column_keys(row_data_list, headers)\n",
    "            \n",
    "            # Scrape and store result details\n",
    "            result_details = scrape_resultdetails(wait, driver)\n",
    "            publish_details = scrape_publishdetails(wait, driver)\n",
    "            results[regatta_name]['resultdetails'] = result_details\n",
    "            results[regatta_name]['publishdetails'] = publish_details\n",
    "\n",
    "        except Exception as e:\n",
    "            results[regatta_name] = \"no results\"\n",
    "\n",
    "    return results"
   ],
   "metadata": {
    "collapsed": false,
    "ExecuteTime": {
     "end_time": "2024-05-14T08:28:32.853446Z",
     "start_time": "2024-05-14T08:28:32.834640Z"
    }
   },
   "id": "bb7efebaeb7e03ed",
   "execution_count": 154
  },
  {
   "cell_type": "code",
   "outputs": [],
   "source": [
    "if __name__ == \"__main__\":\n",
    "    # Setup WebDriver\n",
    "    options = Options()\n",
    "    service = Service('/usr/local/bin/chromedriver')\n",
    "    driver = webdriver.Chrome(service=service, options=options)\n",
    "    wait = WebDriverWait(driver, 5)\n",
    "    \n",
    "    collection = db.events\n",
    "    try:\n",
    "        for document in collection.find().limit(5):\n",
    "        #for document in collection.find():\n",
    "            url = document['link']\n",
    "            driver.get(url)\n",
    "            event_details = scrape_eventdetails(wait, driver)\n",
    "            update_result = collection.update_one({'_id': document['_id']}, {'$set': {'eventdetails': event_details}})\n",
    "            \n",
    "            results = scrape_eventresults(url, driver, wait)\n",
    "            # Update the MongoDB document with the results structured by class names\n",
    "            update_result = collection.update_one({'_id': document['_id']}, {'$set': {'resultsByClass': results}})\n",
    "    except Exception as e:\n",
    "        print(f\"An error occurred: {e}\")\n",
    "    finally:\n",
    "        driver.quit()"
   ],
   "metadata": {
    "collapsed": false,
    "ExecuteTime": {
     "end_time": "2024-05-14T08:29:01.583594Z",
     "start_time": "2024-05-14T08:28:32.843448Z"
    }
   },
   "id": "a73de2cee97e3f9b",
   "execution_count": 155
  }
 ],
 "metadata": {
  "kernelspec": {
   "display_name": "Python 3",
   "language": "python",
   "name": "python3"
  },
  "language_info": {
   "codemirror_mode": {
    "name": "ipython",
    "version": 2
   },
   "file_extension": ".py",
   "mimetype": "text/x-python",
   "name": "python",
   "nbconvert_exporter": "python",
   "pygments_lexer": "ipython2",
   "version": "2.7.6"
  }
 },
 "nbformat": 4,
 "nbformat_minor": 5
}
