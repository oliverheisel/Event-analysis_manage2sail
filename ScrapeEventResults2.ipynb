{
 "cells": [
  {
   "cell_type": "code",
   "execution_count": 1,
   "id": "initial_id",
   "metadata": {
    "collapsed": true,
    "ExecuteTime": {
     "end_time": "2024-05-12T08:28:10.294003Z",
     "start_time": "2024-05-12T08:28:10.182416Z"
    }
   },
   "outputs": [],
   "source": [
    "# Libaries\n",
    "from selenium import webdriver\n",
    "from selenium.webdriver.chrome.service import Service\n",
    "from selenium.common.exceptions import NoSuchElementException\n",
    "from selenium.webdriver.common.by import By\n",
    "from selenium.webdriver.chrome.options import Options\n",
    "from selenium.webdriver.support.ui import Select, WebDriverWait\n",
    "from selenium.webdriver.support import expected_conditions as EC\n",
    "import pymongo"
   ]
  },
  {
   "cell_type": "code",
   "outputs": [
    {
     "name": "stdout",
     "output_type": "stream",
     "text": [
      "Database exists!\n"
     ]
    }
   ],
   "source": [
    "# Database connection\n",
    "\"\"\" in case you want to create your on database, just change this 3 variables according to your database. \n",
    "Database and collections will be created automatically.\"\"\"\n",
    "username = \"globaladmin\"\n",
    "password = \"UEKaeSc8Q3LK5naw\"\n",
    "db_url = \"cluster1.etdy2wm.mongodb.net\"\n",
    "\n",
    "# database string\n",
    "CNX_STR = f\"mongodb+srv://{username}:{password}@{db_url}/?connectTimeoutMS=50000\"\n",
    "client = pymongo.MongoClient(CNX_STR)\n",
    "\n",
    "# heck if the database exists\n",
    "if \"manage2sail\" in client.list_database_names():\n",
    "    print(\"Database exists!\")\n",
    "    db = client.manage2sail\n",
    "else:\n",
    "    print(\"Database does not exist!\")"
   ],
   "metadata": {
    "collapsed": false,
    "ExecuteTime": {
     "end_time": "2024-05-12T08:28:14.138824Z",
     "start_time": "2024-05-12T08:28:12.078671Z"
    }
   },
   "id": "46ba8c1bd5ee5711",
   "execution_count": 2
  },
  {
   "cell_type": "code",
   "outputs": [],
   "source": [
    "def scrape_eventdetails(wait, driver):\n",
    "    eventdetails = []\n",
    "    selector = '#details > table'\n",
    "    wait.until(EC.visibility_of_element_located((By.CSS_SELECTOR, selector)))\n",
    "    table = driver.find_element(By.CSS_SELECTOR, selector)\n",
    "    for row in table.find_elements(By.TAG_NAME, 'tr'):\n",
    "        columns = row.find_elements(By.TAG_NAME, 'td')\n",
    "        if len(columns) >= 2:  # Ensure there are at least two columns\n",
    "            key = columns[0].text.strip(': ')\n",
    "            value = columns[1].text\n",
    "            eventdetails.append({key: value})  # Append each key-value pair to results list\n",
    "\n",
    "    return eventdetails"
   ],
   "metadata": {
    "collapsed": false,
    "ExecuteTime": {
     "end_time": "2024-05-12T08:28:15.029292Z",
     "start_time": "2024-05-12T08:28:15.024843Z"
    }
   },
   "id": "2cc8d8eff03e7fac",
   "execution_count": 3
  },
  {
   "cell_type": "code",
   "outputs": [],
   "source": [
    "def get_table_headers(driver, wait, header_selector):\n",
    "    try:\n",
    "        headers = wait.until(EC.visibility_of_element_located((By.CSS_SELECTOR, header_selector)))\n",
    "        header_texts = [th.text for th in headers.find_elements(By.TAG_NAME, 'th') if 'ng-hide' not in th.get_attribute('class')]\n",
    "        return header_texts\n",
    "    except Exception as e:\n",
    "        print(f\"An error occurred while fetching headers: {e}\")\n",
    "        return []"
   ],
   "metadata": {
    "collapsed": false,
    "ExecuteTime": {
     "end_time": "2024-05-12T08:28:17.131591Z",
     "start_time": "2024-05-12T08:28:17.128475Z"
    }
   },
   "id": "b473e46ff4b0650e",
   "execution_count": 4
  },
  {
   "cell_type": "code",
   "outputs": [],
   "source": [
    "def replace_column_keys(data, headers):\n",
    "    new_data = []\n",
    "    for record in data:\n",
    "        new_record = {}\n",
    "        for (key, value), header in zip(record.items(), headers):\n",
    "            if key.strip() and value.strip():  # Check if both key and value are not empty\n",
    "                new_record[header] = value\n",
    "        new_data.append(new_record)\n",
    "    return new_data"
   ],
   "metadata": {
    "collapsed": false,
    "ExecuteTime": {
     "end_time": "2024-05-12T08:28:17.645333Z",
     "start_time": "2024-05-12T08:28:17.641716Z"
    }
   },
   "id": "1ef388c54687ea4f",
   "execution_count": 5
  },
  {
   "cell_type": "code",
   "outputs": [],
   "source": [
    "# Function to scrape event results\n",
    "def scrape_eventresults(base_url, driver):\n",
    "    # definieren der Ergebniss URL und übergabe an den Treiber\n",
    "    results = {}\n",
    "    results_url = base_url + '#!/results'\n",
    "    driver.get(results_url)\n",
    "    \n",
    "    # definieren der CSS Selector (Wo ist welche\n",
    "    regatta_name_selector = '#results > div > div > div.regattaName'\n",
    "    table_selector = '#results > div > div > div:nth-child(3) > div:nth-child(5) > div:nth-child(2) > div:nth-child(3) > table:nth-child(4)'\n",
    "    header_selector = table_selector + ' > thead'\n",
    "    \n",
    "    # Outer Try = Finde Dropdown _> Kein Dropdown = Except\n",
    "    # Wenn die Seite mehrere Klassen hat, dann muss über den Dropdown iteriert werden und jede Seite einzelnen gescrapt werden.\n",
    "    # Kein Dropdown = nur einen Klasse und nur die aktuelle Seite scrapen\n",
    "    try:\n",
    "        # finde den dropdown Selector\n",
    "        dropdown_selector = '#results > div > div > select'\n",
    "        dropdown = wait.until(EC.presence_of_element_located((By.CSS_SELECTOR, dropdown_selector)))\n",
    "        select = Select(dropdown)\n",
    "        \n",
    "        # Checken if Dropdown vorhanden und leer (nur zum Debuggen und Errorhandling)\n",
    "        if len(select.options) > 0:\n",
    "            print(select.options)\n",
    "            # iterieren über alle Select Options (Alle Classen im Dropdown)\n",
    "            for option in select.options:\n",
    "                ''' HIER IST DER FEHLER!!! - Er sprint immer nach 2 Optionen im Dropdown in die äussere Try Except - Dabei hat die Seite 6 Klassen'''\n",
    "                try:\n",
    "                    option_name = option.text\n",
    "                    print(option_name)\n",
    "                    # Relocate the dropdown after each iteration\n",
    "                    dropdown = wait.until(EC.presence_of_element_located((By.CSS_SELECTOR, dropdown_selector)))\n",
    "                    select = Select(dropdown)\n",
    "                    select.select_by_visible_text(option_name)\n",
    "                    wait.until(EC.visibility_of_element_located((By.CSS_SELECTOR, table_selector)))\n",
    "                    results[option_name] = []\n",
    "                    table = driver.find_element(By.CSS_SELECTOR, table_selector)\n",
    "                    headers = get_table_headers(driver, wait, header_selector)\n",
    "                    for row in table.find_elements(By.TAG_NAME, 'tr'):\n",
    "                        columns = row.find_elements(By.TAG_NAME, 'td')\n",
    "                        row_data = {f\"column_{i}\": col.text for i, col in enumerate(columns) if\n",
    "                                    'ng-hide' not in col.get_attribute('class')}\n",
    "                        if any(value.strip() for value in row_data.values()):\n",
    "                            results[option_name].append(row_data)\n",
    "                    results[option_name] = replace_column_keys(results[option_name], headers)\n",
    "                except:\n",
    "                    results[option] = \"no results\"\n",
    "        else:\n",
    "            raise Exception(\"No options found in dropdown\")\n",
    "    # Das except ist wenn es nur eine Seite ist und nur diese gescrapt werden soll\n",
    "    except:\n",
    "        try:\n",
    "            regatta_name = driver.find_element(By.CSS_SELECTOR, regatta_name_selector).text\n",
    "            results[regatta_name] = []\n",
    "            table = driver.find_element(By.CSS_SELECTOR, table_selector)\n",
    "            headers = get_table_headers(driver, wait, header_selector)\n",
    "            for row in table.find_elements(By.TAG_NAME, 'tr'):\n",
    "                columns = row.find_elements(By.TAG_NAME, 'td')\n",
    "                row_data = {f\"column_{i}\": col.text for i, col in enumerate(columns) if\n",
    "                            'ng-hide' not in col.get_attribute('class')}\n",
    "                if any(value.strip() for value in row_data.values()):\n",
    "                    results[regatta_name].append(row_data)\n",
    "            results[regatta_name] = replace_column_keys(results[regatta_name], headers)\n",
    "        except:\n",
    "            print(\"WHy am i Here?\")\n",
    "            regatta_name = driver.find_element(By.CSS_SELECTOR, regatta_name_selector).text\n",
    "            results[regatta_name] = \"no results\"\n",
    "    return results\n"
   ],
   "metadata": {
    "collapsed": false,
    "ExecuteTime": {
     "end_time": "2024-05-12T08:28:20.669563Z",
     "start_time": "2024-05-12T08:28:20.665692Z"
    }
   },
   "id": "bb7efebaeb7e03ed",
   "execution_count": 7
  },
  {
   "cell_type": "code",
   "outputs": [
    {
     "name": "stdout",
     "output_type": "stream",
     "text": [
      "[<selenium.webdriver.remote.webelement.WebElement (session=\"779dd7ed13bca6b76bf21f5cfb741b00\", element=\"f.6C89547285C09BAB357039947DAC3C45.d.DD1A8F763BC2102DAD71A8BE2ECCF164.e.80\")>, <selenium.webdriver.remote.webelement.WebElement (session=\"779dd7ed13bca6b76bf21f5cfb741b00\", element=\"f.6C89547285C09BAB357039947DAC3C45.d.DD1A8F763BC2102DAD71A8BE2ECCF164.e.82\")>, <selenium.webdriver.remote.webelement.WebElement (session=\"779dd7ed13bca6b76bf21f5cfb741b00\", element=\"f.6C89547285C09BAB357039947DAC3C45.d.DD1A8F763BC2102DAD71A8BE2ECCF164.e.84\")>]\n",
      "5.5er\n",
      "Lacustre\n",
      "An error occurred: documents must have only string keys, key was <selenium.webdriver.remote.webelement.WebElement (session=\"779dd7ed13bca6b76bf21f5cfb741b00\", element=\"f.6C89547285C09BAB357039947DAC3C45.d.DD1A8F763BC2102DAD71A8BE2ECCF164.e.84\")>\n"
     ]
    }
   ],
   "source": [
    "if __name__ == \"__main__\":\n",
    "    # Setup WebDriver\n",
    "    options = Options()\n",
    "    service = Service('/usr/local/bin/chromedriver')\n",
    "    driver = webdriver.Chrome(service=service, options=options)\n",
    "    wait = WebDriverWait(driver, 5)\n",
    "    \n",
    "    collection = db.events\n",
    "    try:\n",
    "        for document in collection.find().limit(1):\n",
    "            url = document['link']\n",
    "            driver.get(url)\n",
    "            event_details = scrape_eventdetails(wait, driver)\n",
    "            update_result = collection.update_one({'_id': document['_id']}, {'$set': {'eventdetails': event_details}})\n",
    "            \n",
    "            results = scrape_eventresults(url, driver)\n",
    "            # Update the MongoDB document with the results structured by class names\n",
    "            update_result = collection.update_one({'_id': document['_id']}, {'$set': {'resultsByClass': results}})\n",
    "    except Exception as e:\n",
    "        print(f\"An error occurred: {e}\")\n",
    "    finally:\n",
    "        driver.quit()"
   ],
   "metadata": {
    "collapsed": false,
    "ExecuteTime": {
     "end_time": "2024-05-12T08:28:38.388115Z",
     "start_time": "2024-05-12T08:28:21.963430Z"
    }
   },
   "id": "a73de2cee97e3f9b",
   "execution_count": 8
  },
  {
   "cell_type": "code",
   "outputs": [],
   "source": [],
   "metadata": {
    "collapsed": false
   },
   "id": "969aad2a28883158"
  }
 ],
 "metadata": {
  "kernelspec": {
   "display_name": "Python 3",
   "language": "python",
   "name": "python3"
  },
  "language_info": {
   "codemirror_mode": {
    "name": "ipython",
    "version": 2
   },
   "file_extension": ".py",
   "mimetype": "text/x-python",
   "name": "python",
   "nbconvert_exporter": "python",
   "pygments_lexer": "ipython2",
   "version": "2.7.6"
  }
 },
 "nbformat": 4,
 "nbformat_minor": 5
}
